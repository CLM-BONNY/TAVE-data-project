{
  "cells": [
    {
      "cell_type": "markdown",
      "id": "14efb186",
      "metadata": {
        "id": "14efb186"
      },
      "source": [
        "# 제주도 날씨 데이터를 활용한 관광객 수 예측 모델"
      ]
    },
    {
      "cell_type": "markdown",
      "id": "97815fbb",
      "metadata": {
        "id": "97815fbb"
      },
      "source": [
        "## 1. 데이터 불러오기"
      ]
    },
    {
      "cell_type": "code",
      "execution_count": 4,
      "id": "0b5dd1b0",
      "metadata": {
        "id": "0b5dd1b0"
      },
      "outputs": [],
      "source": [
        "import pandas as pd\n",
        "import numpy as np\n",
        "\n",
        "import warnings\n",
        "warnings.filterwarnings(action='ignore')"
      ]
    },
    {
      "cell_type": "code",
      "execution_count": 5,
      "id": "7a1112c2",
      "metadata": {
        "colab": {
          "base_uri": "https://localhost:8080/",
          "height": 285
        },
        "id": "7a1112c2",
        "outputId": "1c09f2f6-221d-4ef6-9c25-bb81b9ecaa29",
        "scrolled": true
      },
      "outputs": [
        {
          "output_type": "execute_result",
          "data": {
            "text/plain": [
              "        구분연월  행태별 - 개별여행  행태별 - 부분패키지  행태별 - 패키지  목적별 - 레저스포츠  목적별 - 회의및업무  \\\n",
              "0 2015-01-01      624526        96124      72018       127063        75791   \n",
              "1 2015-02-01      595357       103768      22462       134718        72552   \n",
              "2 2015-03-01      635832       110797      45085       143528        78294   \n",
              "3 2015-04-01      600794       221013     117518       146259        83467   \n",
              "4 2015-05-01      760163       134508     120668       179944        87166   \n",
              "\n",
              "   목적별 - 휴양및관람  목적별 - 친지방문  목적별 - 교육여행  목적별 - 기타방문  \n",
              "0       521304       55457        3621        9432  \n",
              "1       459032       43058         202       12025  \n",
              "2       490004       44581       20466       14841  \n",
              "3       623087       27927       44893       13662  \n",
              "4       628479       29779       71746       18225  "
            ],
            "text/html": [
              "\n",
              "  <div id=\"df-4ae7efcb-960f-4774-9e64-31139876c83a\">\n",
              "    <div class=\"colab-df-container\">\n",
              "      <div>\n",
              "<style scoped>\n",
              "    .dataframe tbody tr th:only-of-type {\n",
              "        vertical-align: middle;\n",
              "    }\n",
              "\n",
              "    .dataframe tbody tr th {\n",
              "        vertical-align: top;\n",
              "    }\n",
              "\n",
              "    .dataframe thead th {\n",
              "        text-align: right;\n",
              "    }\n",
              "</style>\n",
              "<table border=\"1\" class=\"dataframe\">\n",
              "  <thead>\n",
              "    <tr style=\"text-align: right;\">\n",
              "      <th></th>\n",
              "      <th>구분연월</th>\n",
              "      <th>행태별 - 개별여행</th>\n",
              "      <th>행태별 - 부분패키지</th>\n",
              "      <th>행태별 - 패키지</th>\n",
              "      <th>목적별 - 레저스포츠</th>\n",
              "      <th>목적별 - 회의및업무</th>\n",
              "      <th>목적별 - 휴양및관람</th>\n",
              "      <th>목적별 - 친지방문</th>\n",
              "      <th>목적별 - 교육여행</th>\n",
              "      <th>목적별 - 기타방문</th>\n",
              "    </tr>\n",
              "  </thead>\n",
              "  <tbody>\n",
              "    <tr>\n",
              "      <th>0</th>\n",
              "      <td>2015-01-01</td>\n",
              "      <td>624526</td>\n",
              "      <td>96124</td>\n",
              "      <td>72018</td>\n",
              "      <td>127063</td>\n",
              "      <td>75791</td>\n",
              "      <td>521304</td>\n",
              "      <td>55457</td>\n",
              "      <td>3621</td>\n",
              "      <td>9432</td>\n",
              "    </tr>\n",
              "    <tr>\n",
              "      <th>1</th>\n",
              "      <td>2015-02-01</td>\n",
              "      <td>595357</td>\n",
              "      <td>103768</td>\n",
              "      <td>22462</td>\n",
              "      <td>134718</td>\n",
              "      <td>72552</td>\n",
              "      <td>459032</td>\n",
              "      <td>43058</td>\n",
              "      <td>202</td>\n",
              "      <td>12025</td>\n",
              "    </tr>\n",
              "    <tr>\n",
              "      <th>2</th>\n",
              "      <td>2015-03-01</td>\n",
              "      <td>635832</td>\n",
              "      <td>110797</td>\n",
              "      <td>45085</td>\n",
              "      <td>143528</td>\n",
              "      <td>78294</td>\n",
              "      <td>490004</td>\n",
              "      <td>44581</td>\n",
              "      <td>20466</td>\n",
              "      <td>14841</td>\n",
              "    </tr>\n",
              "    <tr>\n",
              "      <th>3</th>\n",
              "      <td>2015-04-01</td>\n",
              "      <td>600794</td>\n",
              "      <td>221013</td>\n",
              "      <td>117518</td>\n",
              "      <td>146259</td>\n",
              "      <td>83467</td>\n",
              "      <td>623087</td>\n",
              "      <td>27927</td>\n",
              "      <td>44893</td>\n",
              "      <td>13662</td>\n",
              "    </tr>\n",
              "    <tr>\n",
              "      <th>4</th>\n",
              "      <td>2015-05-01</td>\n",
              "      <td>760163</td>\n",
              "      <td>134508</td>\n",
              "      <td>120668</td>\n",
              "      <td>179944</td>\n",
              "      <td>87166</td>\n",
              "      <td>628479</td>\n",
              "      <td>29779</td>\n",
              "      <td>71746</td>\n",
              "      <td>18225</td>\n",
              "    </tr>\n",
              "  </tbody>\n",
              "</table>\n",
              "</div>\n",
              "      <button class=\"colab-df-convert\" onclick=\"convertToInteractive('df-4ae7efcb-960f-4774-9e64-31139876c83a')\"\n",
              "              title=\"Convert this dataframe to an interactive table.\"\n",
              "              style=\"display:none;\">\n",
              "        \n",
              "  <svg xmlns=\"http://www.w3.org/2000/svg\" height=\"24px\"viewBox=\"0 0 24 24\"\n",
              "       width=\"24px\">\n",
              "    <path d=\"M0 0h24v24H0V0z\" fill=\"none\"/>\n",
              "    <path d=\"M18.56 5.44l.94 2.06.94-2.06 2.06-.94-2.06-.94-.94-2.06-.94 2.06-2.06.94zm-11 1L8.5 8.5l.94-2.06 2.06-.94-2.06-.94L8.5 2.5l-.94 2.06-2.06.94zm10 10l.94 2.06.94-2.06 2.06-.94-2.06-.94-.94-2.06-.94 2.06-2.06.94z\"/><path d=\"M17.41 7.96l-1.37-1.37c-.4-.4-.92-.59-1.43-.59-.52 0-1.04.2-1.43.59L10.3 9.45l-7.72 7.72c-.78.78-.78 2.05 0 2.83L4 21.41c.39.39.9.59 1.41.59.51 0 1.02-.2 1.41-.59l7.78-7.78 2.81-2.81c.8-.78.8-2.07 0-2.86zM5.41 20L4 18.59l7.72-7.72 1.47 1.35L5.41 20z\"/>\n",
              "  </svg>\n",
              "      </button>\n",
              "      \n",
              "  <style>\n",
              "    .colab-df-container {\n",
              "      display:flex;\n",
              "      flex-wrap:wrap;\n",
              "      gap: 12px;\n",
              "    }\n",
              "\n",
              "    .colab-df-convert {\n",
              "      background-color: #E8F0FE;\n",
              "      border: none;\n",
              "      border-radius: 50%;\n",
              "      cursor: pointer;\n",
              "      display: none;\n",
              "      fill: #1967D2;\n",
              "      height: 32px;\n",
              "      padding: 0 0 0 0;\n",
              "      width: 32px;\n",
              "    }\n",
              "\n",
              "    .colab-df-convert:hover {\n",
              "      background-color: #E2EBFA;\n",
              "      box-shadow: 0px 1px 2px rgba(60, 64, 67, 0.3), 0px 1px 3px 1px rgba(60, 64, 67, 0.15);\n",
              "      fill: #174EA6;\n",
              "    }\n",
              "\n",
              "    [theme=dark] .colab-df-convert {\n",
              "      background-color: #3B4455;\n",
              "      fill: #D2E3FC;\n",
              "    }\n",
              "\n",
              "    [theme=dark] .colab-df-convert:hover {\n",
              "      background-color: #434B5C;\n",
              "      box-shadow: 0px 1px 3px 1px rgba(0, 0, 0, 0.15);\n",
              "      filter: drop-shadow(0px 1px 2px rgba(0, 0, 0, 0.3));\n",
              "      fill: #FFFFFF;\n",
              "    }\n",
              "  </style>\n",
              "\n",
              "      <script>\n",
              "        const buttonEl =\n",
              "          document.querySelector('#df-4ae7efcb-960f-4774-9e64-31139876c83a button.colab-df-convert');\n",
              "        buttonEl.style.display =\n",
              "          google.colab.kernel.accessAllowed ? 'block' : 'none';\n",
              "\n",
              "        async function convertToInteractive(key) {\n",
              "          const element = document.querySelector('#df-4ae7efcb-960f-4774-9e64-31139876c83a');\n",
              "          const dataTable =\n",
              "            await google.colab.kernel.invokeFunction('convertToInteractive',\n",
              "                                                     [key], {});\n",
              "          if (!dataTable) return;\n",
              "\n",
              "          const docLinkHtml = 'Like what you see? Visit the ' +\n",
              "            '<a target=\"_blank\" href=https://colab.research.google.com/notebooks/data_table.ipynb>data table notebook</a>'\n",
              "            + ' to learn more about interactive tables.';\n",
              "          element.innerHTML = '';\n",
              "          dataTable['output_type'] = 'display_data';\n",
              "          await google.colab.output.renderOutput(dataTable, element);\n",
              "          const docLink = document.createElement('div');\n",
              "          docLink.innerHTML = docLinkHtml;\n",
              "          element.appendChild(docLink);\n",
              "        }\n",
              "      </script>\n",
              "    </div>\n",
              "  </div>\n",
              "  "
            ]
          },
          "metadata": {},
          "execution_count": 5
        }
      ],
      "source": [
        "# 제주 내국인 관광객 수 데이터(2015 ~2020)\n",
        "df = pd.read_excel('jeju_tourist.xlsx')\n",
        "df.head()"
      ]
    },
    {
      "cell_type": "code",
      "execution_count": 6,
      "id": "04b111c9",
      "metadata": {
        "colab": {
          "base_uri": "https://localhost:8080/",
          "height": 206
        },
        "id": "04b111c9",
        "outputId": "c48f6932-19b9-4b15-bec6-f15da2ffc99c"
      },
      "outputs": [
        {
          "output_type": "execute_result",
          "data": {
            "text/plain": [
              "     total\n",
              "0   792668\n",
              "1   721587\n",
              "2   791714\n",
              "3   939325\n",
              "4  1015339"
            ],
            "text/html": [
              "\n",
              "  <div id=\"df-c3d107ce-03cd-437a-8871-f52b76aa0c9f\">\n",
              "    <div class=\"colab-df-container\">\n",
              "      <div>\n",
              "<style scoped>\n",
              "    .dataframe tbody tr th:only-of-type {\n",
              "        vertical-align: middle;\n",
              "    }\n",
              "\n",
              "    .dataframe tbody tr th {\n",
              "        vertical-align: top;\n",
              "    }\n",
              "\n",
              "    .dataframe thead th {\n",
              "        text-align: right;\n",
              "    }\n",
              "</style>\n",
              "<table border=\"1\" class=\"dataframe\">\n",
              "  <thead>\n",
              "    <tr style=\"text-align: right;\">\n",
              "      <th></th>\n",
              "      <th>total</th>\n",
              "    </tr>\n",
              "  </thead>\n",
              "  <tbody>\n",
              "    <tr>\n",
              "      <th>0</th>\n",
              "      <td>792668</td>\n",
              "    </tr>\n",
              "    <tr>\n",
              "      <th>1</th>\n",
              "      <td>721587</td>\n",
              "    </tr>\n",
              "    <tr>\n",
              "      <th>2</th>\n",
              "      <td>791714</td>\n",
              "    </tr>\n",
              "    <tr>\n",
              "      <th>3</th>\n",
              "      <td>939325</td>\n",
              "    </tr>\n",
              "    <tr>\n",
              "      <th>4</th>\n",
              "      <td>1015339</td>\n",
              "    </tr>\n",
              "  </tbody>\n",
              "</table>\n",
              "</div>\n",
              "      <button class=\"colab-df-convert\" onclick=\"convertToInteractive('df-c3d107ce-03cd-437a-8871-f52b76aa0c9f')\"\n",
              "              title=\"Convert this dataframe to an interactive table.\"\n",
              "              style=\"display:none;\">\n",
              "        \n",
              "  <svg xmlns=\"http://www.w3.org/2000/svg\" height=\"24px\"viewBox=\"0 0 24 24\"\n",
              "       width=\"24px\">\n",
              "    <path d=\"M0 0h24v24H0V0z\" fill=\"none\"/>\n",
              "    <path d=\"M18.56 5.44l.94 2.06.94-2.06 2.06-.94-2.06-.94-.94-2.06-.94 2.06-2.06.94zm-11 1L8.5 8.5l.94-2.06 2.06-.94-2.06-.94L8.5 2.5l-.94 2.06-2.06.94zm10 10l.94 2.06.94-2.06 2.06-.94-2.06-.94-.94-2.06-.94 2.06-2.06.94z\"/><path d=\"M17.41 7.96l-1.37-1.37c-.4-.4-.92-.59-1.43-.59-.52 0-1.04.2-1.43.59L10.3 9.45l-7.72 7.72c-.78.78-.78 2.05 0 2.83L4 21.41c.39.39.9.59 1.41.59.51 0 1.02-.2 1.41-.59l7.78-7.78 2.81-2.81c.8-.78.8-2.07 0-2.86zM5.41 20L4 18.59l7.72-7.72 1.47 1.35L5.41 20z\"/>\n",
              "  </svg>\n",
              "      </button>\n",
              "      \n",
              "  <style>\n",
              "    .colab-df-container {\n",
              "      display:flex;\n",
              "      flex-wrap:wrap;\n",
              "      gap: 12px;\n",
              "    }\n",
              "\n",
              "    .colab-df-convert {\n",
              "      background-color: #E8F0FE;\n",
              "      border: none;\n",
              "      border-radius: 50%;\n",
              "      cursor: pointer;\n",
              "      display: none;\n",
              "      fill: #1967D2;\n",
              "      height: 32px;\n",
              "      padding: 0 0 0 0;\n",
              "      width: 32px;\n",
              "    }\n",
              "\n",
              "    .colab-df-convert:hover {\n",
              "      background-color: #E2EBFA;\n",
              "      box-shadow: 0px 1px 2px rgba(60, 64, 67, 0.3), 0px 1px 3px 1px rgba(60, 64, 67, 0.15);\n",
              "      fill: #174EA6;\n",
              "    }\n",
              "\n",
              "    [theme=dark] .colab-df-convert {\n",
              "      background-color: #3B4455;\n",
              "      fill: #D2E3FC;\n",
              "    }\n",
              "\n",
              "    [theme=dark] .colab-df-convert:hover {\n",
              "      background-color: #434B5C;\n",
              "      box-shadow: 0px 1px 3px 1px rgba(0, 0, 0, 0.15);\n",
              "      filter: drop-shadow(0px 1px 2px rgba(0, 0, 0, 0.3));\n",
              "      fill: #FFFFFF;\n",
              "    }\n",
              "  </style>\n",
              "\n",
              "      <script>\n",
              "        const buttonEl =\n",
              "          document.querySelector('#df-c3d107ce-03cd-437a-8871-f52b76aa0c9f button.colab-df-convert');\n",
              "        buttonEl.style.display =\n",
              "          google.colab.kernel.accessAllowed ? 'block' : 'none';\n",
              "\n",
              "        async function convertToInteractive(key) {\n",
              "          const element = document.querySelector('#df-c3d107ce-03cd-437a-8871-f52b76aa0c9f');\n",
              "          const dataTable =\n",
              "            await google.colab.kernel.invokeFunction('convertToInteractive',\n",
              "                                                     [key], {});\n",
              "          if (!dataTable) return;\n",
              "\n",
              "          const docLinkHtml = 'Like what you see? Visit the ' +\n",
              "            '<a target=\"_blank\" href=https://colab.research.google.com/notebooks/data_table.ipynb>data table notebook</a>'\n",
              "            + ' to learn more about interactive tables.';\n",
              "          element.innerHTML = '';\n",
              "          dataTable['output_type'] = 'display_data';\n",
              "          await google.colab.output.renderOutput(dataTable, element);\n",
              "          const docLink = document.createElement('div');\n",
              "          docLink.innerHTML = docLinkHtml;\n",
              "          element.appendChild(docLink);\n",
              "        }\n",
              "      </script>\n",
              "    </div>\n",
              "  </div>\n",
              "  "
            ]
          },
          "metadata": {},
          "execution_count": 6
        }
      ],
      "source": [
        "# 월별 관광객 수: 형태별(개별여행), 형태별(부분 패키지), 형태별(패키지) 컬럼 값 병합\n",
        "total = df.iloc[:,1] + df.iloc[:,2] + df.iloc[:,3]\n",
        "total = pd.DataFrame(total, columns=['total'])\n",
        "total.head()"
      ]
    },
    {
      "cell_type": "markdown",
      "id": "f2285a9d",
      "metadata": {
        "id": "f2285a9d"
      },
      "source": [
        "---"
      ]
    },
    {
      "cell_type": "code",
      "execution_count": 7,
      "id": "3bf82ce5",
      "metadata": {
        "colab": {
          "base_uri": "https://localhost:8080/",
          "height": 206
        },
        "id": "3bf82ce5",
        "outputId": "e52febcb-513f-4e7a-e06b-2fb874b52312",
        "scrolled": true
      },
      "outputs": [
        {
          "output_type": "execute_result",
          "data": {
            "text/plain": [
              "       내용  평균기온 (℃)  평균강수량 (mm)  평균상대습도 (%)  평균해면기압 (hPa)  이슬점온도 (℃)  \\\n",
              "0  201501       7.4        82.4        66.0        1024.6        1.2   \n",
              "1  201502       7.3        35.5        64.0        1022.7        0.7   \n",
              "2  201503      10.4        80.7        64.0        1021.9        3.3   \n",
              "3  201504      15.1       147.9        71.0        1015.9        9.0   \n",
              "4  201505      18.8       150.0        68.0        1010.7       12.1   \n",
              "\n",
              "  평균운량 (1/10)  일조시간 (hr) 최심신적설 (cm)  평균풍속 (m/s)  \n",
              "0         6.5       94.2        1.8         3.9  \n",
              "1         6.5       93.5        0.5         3.7  \n",
              "2         5.3      183.8          -         2.9  \n",
              "3         6.2      163.4          -         2.9  \n",
              "4         5.3      239.7          -         2.6  "
            ],
            "text/html": [
              "\n",
              "  <div id=\"df-1f8044c4-107a-47c5-8498-111e06b3801b\">\n",
              "    <div class=\"colab-df-container\">\n",
              "      <div>\n",
              "<style scoped>\n",
              "    .dataframe tbody tr th:only-of-type {\n",
              "        vertical-align: middle;\n",
              "    }\n",
              "\n",
              "    .dataframe tbody tr th {\n",
              "        vertical-align: top;\n",
              "    }\n",
              "\n",
              "    .dataframe thead th {\n",
              "        text-align: right;\n",
              "    }\n",
              "</style>\n",
              "<table border=\"1\" class=\"dataframe\">\n",
              "  <thead>\n",
              "    <tr style=\"text-align: right;\">\n",
              "      <th></th>\n",
              "      <th>내용</th>\n",
              "      <th>평균기온 (℃)</th>\n",
              "      <th>평균강수량 (mm)</th>\n",
              "      <th>평균상대습도 (%)</th>\n",
              "      <th>평균해면기압 (hPa)</th>\n",
              "      <th>이슬점온도 (℃)</th>\n",
              "      <th>평균운량 (1/10)</th>\n",
              "      <th>일조시간 (hr)</th>\n",
              "      <th>최심신적설 (cm)</th>\n",
              "      <th>평균풍속 (m/s)</th>\n",
              "    </tr>\n",
              "  </thead>\n",
              "  <tbody>\n",
              "    <tr>\n",
              "      <th>0</th>\n",
              "      <td>201501</td>\n",
              "      <td>7.4</td>\n",
              "      <td>82.4</td>\n",
              "      <td>66.0</td>\n",
              "      <td>1024.6</td>\n",
              "      <td>1.2</td>\n",
              "      <td>6.5</td>\n",
              "      <td>94.2</td>\n",
              "      <td>1.8</td>\n",
              "      <td>3.9</td>\n",
              "    </tr>\n",
              "    <tr>\n",
              "      <th>1</th>\n",
              "      <td>201502</td>\n",
              "      <td>7.3</td>\n",
              "      <td>35.5</td>\n",
              "      <td>64.0</td>\n",
              "      <td>1022.7</td>\n",
              "      <td>0.7</td>\n",
              "      <td>6.5</td>\n",
              "      <td>93.5</td>\n",
              "      <td>0.5</td>\n",
              "      <td>3.7</td>\n",
              "    </tr>\n",
              "    <tr>\n",
              "      <th>2</th>\n",
              "      <td>201503</td>\n",
              "      <td>10.4</td>\n",
              "      <td>80.7</td>\n",
              "      <td>64.0</td>\n",
              "      <td>1021.9</td>\n",
              "      <td>3.3</td>\n",
              "      <td>5.3</td>\n",
              "      <td>183.8</td>\n",
              "      <td>-</td>\n",
              "      <td>2.9</td>\n",
              "    </tr>\n",
              "    <tr>\n",
              "      <th>3</th>\n",
              "      <td>201504</td>\n",
              "      <td>15.1</td>\n",
              "      <td>147.9</td>\n",
              "      <td>71.0</td>\n",
              "      <td>1015.9</td>\n",
              "      <td>9.0</td>\n",
              "      <td>6.2</td>\n",
              "      <td>163.4</td>\n",
              "      <td>-</td>\n",
              "      <td>2.9</td>\n",
              "    </tr>\n",
              "    <tr>\n",
              "      <th>4</th>\n",
              "      <td>201505</td>\n",
              "      <td>18.8</td>\n",
              "      <td>150.0</td>\n",
              "      <td>68.0</td>\n",
              "      <td>1010.7</td>\n",
              "      <td>12.1</td>\n",
              "      <td>5.3</td>\n",
              "      <td>239.7</td>\n",
              "      <td>-</td>\n",
              "      <td>2.6</td>\n",
              "    </tr>\n",
              "  </tbody>\n",
              "</table>\n",
              "</div>\n",
              "      <button class=\"colab-df-convert\" onclick=\"convertToInteractive('df-1f8044c4-107a-47c5-8498-111e06b3801b')\"\n",
              "              title=\"Convert this dataframe to an interactive table.\"\n",
              "              style=\"display:none;\">\n",
              "        \n",
              "  <svg xmlns=\"http://www.w3.org/2000/svg\" height=\"24px\"viewBox=\"0 0 24 24\"\n",
              "       width=\"24px\">\n",
              "    <path d=\"M0 0h24v24H0V0z\" fill=\"none\"/>\n",
              "    <path d=\"M18.56 5.44l.94 2.06.94-2.06 2.06-.94-2.06-.94-.94-2.06-.94 2.06-2.06.94zm-11 1L8.5 8.5l.94-2.06 2.06-.94-2.06-.94L8.5 2.5l-.94 2.06-2.06.94zm10 10l.94 2.06.94-2.06 2.06-.94-2.06-.94-.94-2.06-.94 2.06-2.06.94z\"/><path d=\"M17.41 7.96l-1.37-1.37c-.4-.4-.92-.59-1.43-.59-.52 0-1.04.2-1.43.59L10.3 9.45l-7.72 7.72c-.78.78-.78 2.05 0 2.83L4 21.41c.39.39.9.59 1.41.59.51 0 1.02-.2 1.41-.59l7.78-7.78 2.81-2.81c.8-.78.8-2.07 0-2.86zM5.41 20L4 18.59l7.72-7.72 1.47 1.35L5.41 20z\"/>\n",
              "  </svg>\n",
              "      </button>\n",
              "      \n",
              "  <style>\n",
              "    .colab-df-container {\n",
              "      display:flex;\n",
              "      flex-wrap:wrap;\n",
              "      gap: 12px;\n",
              "    }\n",
              "\n",
              "    .colab-df-convert {\n",
              "      background-color: #E8F0FE;\n",
              "      border: none;\n",
              "      border-radius: 50%;\n",
              "      cursor: pointer;\n",
              "      display: none;\n",
              "      fill: #1967D2;\n",
              "      height: 32px;\n",
              "      padding: 0 0 0 0;\n",
              "      width: 32px;\n",
              "    }\n",
              "\n",
              "    .colab-df-convert:hover {\n",
              "      background-color: #E2EBFA;\n",
              "      box-shadow: 0px 1px 2px rgba(60, 64, 67, 0.3), 0px 1px 3px 1px rgba(60, 64, 67, 0.15);\n",
              "      fill: #174EA6;\n",
              "    }\n",
              "\n",
              "    [theme=dark] .colab-df-convert {\n",
              "      background-color: #3B4455;\n",
              "      fill: #D2E3FC;\n",
              "    }\n",
              "\n",
              "    [theme=dark] .colab-df-convert:hover {\n",
              "      background-color: #434B5C;\n",
              "      box-shadow: 0px 1px 3px 1px rgba(0, 0, 0, 0.15);\n",
              "      filter: drop-shadow(0px 1px 2px rgba(0, 0, 0, 0.3));\n",
              "      fill: #FFFFFF;\n",
              "    }\n",
              "  </style>\n",
              "\n",
              "      <script>\n",
              "        const buttonEl =\n",
              "          document.querySelector('#df-1f8044c4-107a-47c5-8498-111e06b3801b button.colab-df-convert');\n",
              "        buttonEl.style.display =\n",
              "          google.colab.kernel.accessAllowed ? 'block' : 'none';\n",
              "\n",
              "        async function convertToInteractive(key) {\n",
              "          const element = document.querySelector('#df-1f8044c4-107a-47c5-8498-111e06b3801b');\n",
              "          const dataTable =\n",
              "            await google.colab.kernel.invokeFunction('convertToInteractive',\n",
              "                                                     [key], {});\n",
              "          if (!dataTable) return;\n",
              "\n",
              "          const docLinkHtml = 'Like what you see? Visit the ' +\n",
              "            '<a target=\"_blank\" href=https://colab.research.google.com/notebooks/data_table.ipynb>data table notebook</a>'\n",
              "            + ' to learn more about interactive tables.';\n",
              "          element.innerHTML = '';\n",
              "          dataTable['output_type'] = 'display_data';\n",
              "          await google.colab.output.renderOutput(dataTable, element);\n",
              "          const docLink = document.createElement('div');\n",
              "          docLink.innerHTML = docLinkHtml;\n",
              "          element.appendChild(docLink);\n",
              "        }\n",
              "      </script>\n",
              "    </div>\n",
              "  </div>\n",
              "  "
            ]
          },
          "metadata": {},
          "execution_count": 7
        }
      ],
      "source": [
        "# 제주도 기상개황정보 데이터(2015 ~ 2020)\n",
        "df2 = pd.read_excel('jeju_weather.xlsx')\n",
        "df2.head()"
      ]
    },
    {
      "cell_type": "code",
      "execution_count": 8,
      "id": "1b1fb523",
      "metadata": {
        "colab": {
          "base_uri": "https://localhost:8080/",
          "height": 424
        },
        "id": "1b1fb523",
        "outputId": "6d0c0edb-cb72-4337-e86c-56d70400d66c"
      },
      "outputs": [
        {
          "output_type": "execute_result",
          "data": {
            "text/plain": [
              "        내용  평균기온 (℃)  평균강수량 (mm)  평균상대습도 (%)  평균해면기압 (hPa)  이슬점온도 (℃)  \\\n",
              "0   201501       7.4        82.4        66.0        1024.6        1.2   \n",
              "1   201502       7.3        35.5        64.0        1022.7        0.7   \n",
              "2   201503      10.4        80.7        64.0        1021.9        3.3   \n",
              "3   201504      15.1       147.9        71.0        1015.9        9.0   \n",
              "4   201505      18.8       150.0        68.0        1010.7       12.1   \n",
              "..     ...       ...         ...         ...           ...        ...   \n",
              "67  202008      28.4       149.8        83.0        1009.4       24.9   \n",
              "68  202009      22.5       412.7        79.0        1011.3       18.3   \n",
              "69  202010      18.5        46.5        64.5        1019.7       11.3   \n",
              "70  202011      14.6        20.0        69.0        1024.3        8.6   \n",
              "71  202012       8.0        46.2        64.5        1025.7        1.4   \n",
              "\n",
              "   평균운량 (1/10)  일조시간 (hr) 최심신적설 (cm)  평균풍속 (m/s)  \n",
              "0          6.5       94.2        1.8         3.9  \n",
              "1          6.5       93.5        0.5         3.7  \n",
              "2          5.3      183.8          -         2.9  \n",
              "3          6.2      163.4          -         2.9  \n",
              "4          5.3      239.7          -         2.6  \n",
              "..         ...        ...        ...         ...  \n",
              "67         5.9      211.3          -         2.4  \n",
              "68         6.7      149.5          -         2.6  \n",
              "69         5.2      198.7          -         2.3  \n",
              "70         5.4      152.8          -         2.2  \n",
              "71           6      139.3        3.1         2.4  \n",
              "\n",
              "[72 rows x 10 columns]"
            ],
            "text/html": [
              "\n",
              "  <div id=\"df-479f2d0e-780c-4170-97d1-d05a15d19459\">\n",
              "    <div class=\"colab-df-container\">\n",
              "      <div>\n",
              "<style scoped>\n",
              "    .dataframe tbody tr th:only-of-type {\n",
              "        vertical-align: middle;\n",
              "    }\n",
              "\n",
              "    .dataframe tbody tr th {\n",
              "        vertical-align: top;\n",
              "    }\n",
              "\n",
              "    .dataframe thead th {\n",
              "        text-align: right;\n",
              "    }\n",
              "</style>\n",
              "<table border=\"1\" class=\"dataframe\">\n",
              "  <thead>\n",
              "    <tr style=\"text-align: right;\">\n",
              "      <th></th>\n",
              "      <th>내용</th>\n",
              "      <th>평균기온 (℃)</th>\n",
              "      <th>평균강수량 (mm)</th>\n",
              "      <th>평균상대습도 (%)</th>\n",
              "      <th>평균해면기압 (hPa)</th>\n",
              "      <th>이슬점온도 (℃)</th>\n",
              "      <th>평균운량 (1/10)</th>\n",
              "      <th>일조시간 (hr)</th>\n",
              "      <th>최심신적설 (cm)</th>\n",
              "      <th>평균풍속 (m/s)</th>\n",
              "    </tr>\n",
              "  </thead>\n",
              "  <tbody>\n",
              "    <tr>\n",
              "      <th>0</th>\n",
              "      <td>201501</td>\n",
              "      <td>7.4</td>\n",
              "      <td>82.4</td>\n",
              "      <td>66.0</td>\n",
              "      <td>1024.6</td>\n",
              "      <td>1.2</td>\n",
              "      <td>6.5</td>\n",
              "      <td>94.2</td>\n",
              "      <td>1.8</td>\n",
              "      <td>3.9</td>\n",
              "    </tr>\n",
              "    <tr>\n",
              "      <th>1</th>\n",
              "      <td>201502</td>\n",
              "      <td>7.3</td>\n",
              "      <td>35.5</td>\n",
              "      <td>64.0</td>\n",
              "      <td>1022.7</td>\n",
              "      <td>0.7</td>\n",
              "      <td>6.5</td>\n",
              "      <td>93.5</td>\n",
              "      <td>0.5</td>\n",
              "      <td>3.7</td>\n",
              "    </tr>\n",
              "    <tr>\n",
              "      <th>2</th>\n",
              "      <td>201503</td>\n",
              "      <td>10.4</td>\n",
              "      <td>80.7</td>\n",
              "      <td>64.0</td>\n",
              "      <td>1021.9</td>\n",
              "      <td>3.3</td>\n",
              "      <td>5.3</td>\n",
              "      <td>183.8</td>\n",
              "      <td>-</td>\n",
              "      <td>2.9</td>\n",
              "    </tr>\n",
              "    <tr>\n",
              "      <th>3</th>\n",
              "      <td>201504</td>\n",
              "      <td>15.1</td>\n",
              "      <td>147.9</td>\n",
              "      <td>71.0</td>\n",
              "      <td>1015.9</td>\n",
              "      <td>9.0</td>\n",
              "      <td>6.2</td>\n",
              "      <td>163.4</td>\n",
              "      <td>-</td>\n",
              "      <td>2.9</td>\n",
              "    </tr>\n",
              "    <tr>\n",
              "      <th>4</th>\n",
              "      <td>201505</td>\n",
              "      <td>18.8</td>\n",
              "      <td>150.0</td>\n",
              "      <td>68.0</td>\n",
              "      <td>1010.7</td>\n",
              "      <td>12.1</td>\n",
              "      <td>5.3</td>\n",
              "      <td>239.7</td>\n",
              "      <td>-</td>\n",
              "      <td>2.6</td>\n",
              "    </tr>\n",
              "    <tr>\n",
              "      <th>...</th>\n",
              "      <td>...</td>\n",
              "      <td>...</td>\n",
              "      <td>...</td>\n",
              "      <td>...</td>\n",
              "      <td>...</td>\n",
              "      <td>...</td>\n",
              "      <td>...</td>\n",
              "      <td>...</td>\n",
              "      <td>...</td>\n",
              "      <td>...</td>\n",
              "    </tr>\n",
              "    <tr>\n",
              "      <th>67</th>\n",
              "      <td>202008</td>\n",
              "      <td>28.4</td>\n",
              "      <td>149.8</td>\n",
              "      <td>83.0</td>\n",
              "      <td>1009.4</td>\n",
              "      <td>24.9</td>\n",
              "      <td>5.9</td>\n",
              "      <td>211.3</td>\n",
              "      <td>-</td>\n",
              "      <td>2.4</td>\n",
              "    </tr>\n",
              "    <tr>\n",
              "      <th>68</th>\n",
              "      <td>202009</td>\n",
              "      <td>22.5</td>\n",
              "      <td>412.7</td>\n",
              "      <td>79.0</td>\n",
              "      <td>1011.3</td>\n",
              "      <td>18.3</td>\n",
              "      <td>6.7</td>\n",
              "      <td>149.5</td>\n",
              "      <td>-</td>\n",
              "      <td>2.6</td>\n",
              "    </tr>\n",
              "    <tr>\n",
              "      <th>69</th>\n",
              "      <td>202010</td>\n",
              "      <td>18.5</td>\n",
              "      <td>46.5</td>\n",
              "      <td>64.5</td>\n",
              "      <td>1019.7</td>\n",
              "      <td>11.3</td>\n",
              "      <td>5.2</td>\n",
              "      <td>198.7</td>\n",
              "      <td>-</td>\n",
              "      <td>2.3</td>\n",
              "    </tr>\n",
              "    <tr>\n",
              "      <th>70</th>\n",
              "      <td>202011</td>\n",
              "      <td>14.6</td>\n",
              "      <td>20.0</td>\n",
              "      <td>69.0</td>\n",
              "      <td>1024.3</td>\n",
              "      <td>8.6</td>\n",
              "      <td>5.4</td>\n",
              "      <td>152.8</td>\n",
              "      <td>-</td>\n",
              "      <td>2.2</td>\n",
              "    </tr>\n",
              "    <tr>\n",
              "      <th>71</th>\n",
              "      <td>202012</td>\n",
              "      <td>8.0</td>\n",
              "      <td>46.2</td>\n",
              "      <td>64.5</td>\n",
              "      <td>1025.7</td>\n",
              "      <td>1.4</td>\n",
              "      <td>6</td>\n",
              "      <td>139.3</td>\n",
              "      <td>3.1</td>\n",
              "      <td>2.4</td>\n",
              "    </tr>\n",
              "  </tbody>\n",
              "</table>\n",
              "<p>72 rows × 10 columns</p>\n",
              "</div>\n",
              "      <button class=\"colab-df-convert\" onclick=\"convertToInteractive('df-479f2d0e-780c-4170-97d1-d05a15d19459')\"\n",
              "              title=\"Convert this dataframe to an interactive table.\"\n",
              "              style=\"display:none;\">\n",
              "        \n",
              "  <svg xmlns=\"http://www.w3.org/2000/svg\" height=\"24px\"viewBox=\"0 0 24 24\"\n",
              "       width=\"24px\">\n",
              "    <path d=\"M0 0h24v24H0V0z\" fill=\"none\"/>\n",
              "    <path d=\"M18.56 5.44l.94 2.06.94-2.06 2.06-.94-2.06-.94-.94-2.06-.94 2.06-2.06.94zm-11 1L8.5 8.5l.94-2.06 2.06-.94-2.06-.94L8.5 2.5l-.94 2.06-2.06.94zm10 10l.94 2.06.94-2.06 2.06-.94-2.06-.94-.94-2.06-.94 2.06-2.06.94z\"/><path d=\"M17.41 7.96l-1.37-1.37c-.4-.4-.92-.59-1.43-.59-.52 0-1.04.2-1.43.59L10.3 9.45l-7.72 7.72c-.78.78-.78 2.05 0 2.83L4 21.41c.39.39.9.59 1.41.59.51 0 1.02-.2 1.41-.59l7.78-7.78 2.81-2.81c.8-.78.8-2.07 0-2.86zM5.41 20L4 18.59l7.72-7.72 1.47 1.35L5.41 20z\"/>\n",
              "  </svg>\n",
              "      </button>\n",
              "      \n",
              "  <style>\n",
              "    .colab-df-container {\n",
              "      display:flex;\n",
              "      flex-wrap:wrap;\n",
              "      gap: 12px;\n",
              "    }\n",
              "\n",
              "    .colab-df-convert {\n",
              "      background-color: #E8F0FE;\n",
              "      border: none;\n",
              "      border-radius: 50%;\n",
              "      cursor: pointer;\n",
              "      display: none;\n",
              "      fill: #1967D2;\n",
              "      height: 32px;\n",
              "      padding: 0 0 0 0;\n",
              "      width: 32px;\n",
              "    }\n",
              "\n",
              "    .colab-df-convert:hover {\n",
              "      background-color: #E2EBFA;\n",
              "      box-shadow: 0px 1px 2px rgba(60, 64, 67, 0.3), 0px 1px 3px 1px rgba(60, 64, 67, 0.15);\n",
              "      fill: #174EA6;\n",
              "    }\n",
              "\n",
              "    [theme=dark] .colab-df-convert {\n",
              "      background-color: #3B4455;\n",
              "      fill: #D2E3FC;\n",
              "    }\n",
              "\n",
              "    [theme=dark] .colab-df-convert:hover {\n",
              "      background-color: #434B5C;\n",
              "      box-shadow: 0px 1px 3px 1px rgba(0, 0, 0, 0.15);\n",
              "      filter: drop-shadow(0px 1px 2px rgba(0, 0, 0, 0.3));\n",
              "      fill: #FFFFFF;\n",
              "    }\n",
              "  </style>\n",
              "\n",
              "      <script>\n",
              "        const buttonEl =\n",
              "          document.querySelector('#df-479f2d0e-780c-4170-97d1-d05a15d19459 button.colab-df-convert');\n",
              "        buttonEl.style.display =\n",
              "          google.colab.kernel.accessAllowed ? 'block' : 'none';\n",
              "\n",
              "        async function convertToInteractive(key) {\n",
              "          const element = document.querySelector('#df-479f2d0e-780c-4170-97d1-d05a15d19459');\n",
              "          const dataTable =\n",
              "            await google.colab.kernel.invokeFunction('convertToInteractive',\n",
              "                                                     [key], {});\n",
              "          if (!dataTable) return;\n",
              "\n",
              "          const docLinkHtml = 'Like what you see? Visit the ' +\n",
              "            '<a target=\"_blank\" href=https://colab.research.google.com/notebooks/data_table.ipynb>data table notebook</a>'\n",
              "            + ' to learn more about interactive tables.';\n",
              "          element.innerHTML = '';\n",
              "          dataTable['output_type'] = 'display_data';\n",
              "          await google.colab.output.renderOutput(dataTable, element);\n",
              "          const docLink = document.createElement('div');\n",
              "          docLink.innerHTML = docLinkHtml;\n",
              "          element.appendChild(docLink);\n",
              "        }\n",
              "      </script>\n",
              "    </div>\n",
              "  </div>\n",
              "  "
            ]
          },
          "metadata": {},
          "execution_count": 8
        }
      ],
      "source": [
        "# index 초기화\n",
        "df2 = df2.reset_index(drop=True)\n",
        "df2"
      ]
    },
    {
      "cell_type": "code",
      "execution_count": 9,
      "id": "2c0d694c",
      "metadata": {
        "colab": {
          "base_uri": "https://localhost:8080/",
          "height": 206
        },
        "id": "2c0d694c",
        "outputId": "04405576-6381-476f-eec4-304ef7632d6d",
        "scrolled": true
      },
      "outputs": [
        {
          "output_type": "execute_result",
          "data": {
            "text/plain": [
              "       내용  평균기온 (℃)  평균강수량 (mm)  평균상대습도 (%)  평균해면기압 (hPa)  이슬점온도 (℃)  \\\n",
              "0  201501       7.4        82.4        66.0        1024.6        1.2   \n",
              "1  201502       7.3        35.5        64.0        1022.7        0.7   \n",
              "2  201503      10.4        80.7        64.0        1021.9        3.3   \n",
              "3  201504      15.1       147.9        71.0        1015.9        9.0   \n",
              "4  201505      18.8       150.0        68.0        1010.7       12.1   \n",
              "\n",
              "  평균운량 (1/10)  일조시간 (hr) 최심신적설 (cm)  평균풍속 (m/s)    total  \n",
              "0         6.5       94.2        1.8         3.9   792668  \n",
              "1         6.5       93.5        0.5         3.7   721587  \n",
              "2         5.3      183.8          -         2.9   791714  \n",
              "3         6.2      163.4          -         2.9   939325  \n",
              "4         5.3      239.7          -         2.6  1015339  "
            ],
            "text/html": [
              "\n",
              "  <div id=\"df-ab10d1bd-1182-4c54-bee6-9bfa6dbe8981\">\n",
              "    <div class=\"colab-df-container\">\n",
              "      <div>\n",
              "<style scoped>\n",
              "    .dataframe tbody tr th:only-of-type {\n",
              "        vertical-align: middle;\n",
              "    }\n",
              "\n",
              "    .dataframe tbody tr th {\n",
              "        vertical-align: top;\n",
              "    }\n",
              "\n",
              "    .dataframe thead th {\n",
              "        text-align: right;\n",
              "    }\n",
              "</style>\n",
              "<table border=\"1\" class=\"dataframe\">\n",
              "  <thead>\n",
              "    <tr style=\"text-align: right;\">\n",
              "      <th></th>\n",
              "      <th>내용</th>\n",
              "      <th>평균기온 (℃)</th>\n",
              "      <th>평균강수량 (mm)</th>\n",
              "      <th>평균상대습도 (%)</th>\n",
              "      <th>평균해면기압 (hPa)</th>\n",
              "      <th>이슬점온도 (℃)</th>\n",
              "      <th>평균운량 (1/10)</th>\n",
              "      <th>일조시간 (hr)</th>\n",
              "      <th>최심신적설 (cm)</th>\n",
              "      <th>평균풍속 (m/s)</th>\n",
              "      <th>total</th>\n",
              "    </tr>\n",
              "  </thead>\n",
              "  <tbody>\n",
              "    <tr>\n",
              "      <th>0</th>\n",
              "      <td>201501</td>\n",
              "      <td>7.4</td>\n",
              "      <td>82.4</td>\n",
              "      <td>66.0</td>\n",
              "      <td>1024.6</td>\n",
              "      <td>1.2</td>\n",
              "      <td>6.5</td>\n",
              "      <td>94.2</td>\n",
              "      <td>1.8</td>\n",
              "      <td>3.9</td>\n",
              "      <td>792668</td>\n",
              "    </tr>\n",
              "    <tr>\n",
              "      <th>1</th>\n",
              "      <td>201502</td>\n",
              "      <td>7.3</td>\n",
              "      <td>35.5</td>\n",
              "      <td>64.0</td>\n",
              "      <td>1022.7</td>\n",
              "      <td>0.7</td>\n",
              "      <td>6.5</td>\n",
              "      <td>93.5</td>\n",
              "      <td>0.5</td>\n",
              "      <td>3.7</td>\n",
              "      <td>721587</td>\n",
              "    </tr>\n",
              "    <tr>\n",
              "      <th>2</th>\n",
              "      <td>201503</td>\n",
              "      <td>10.4</td>\n",
              "      <td>80.7</td>\n",
              "      <td>64.0</td>\n",
              "      <td>1021.9</td>\n",
              "      <td>3.3</td>\n",
              "      <td>5.3</td>\n",
              "      <td>183.8</td>\n",
              "      <td>-</td>\n",
              "      <td>2.9</td>\n",
              "      <td>791714</td>\n",
              "    </tr>\n",
              "    <tr>\n",
              "      <th>3</th>\n",
              "      <td>201504</td>\n",
              "      <td>15.1</td>\n",
              "      <td>147.9</td>\n",
              "      <td>71.0</td>\n",
              "      <td>1015.9</td>\n",
              "      <td>9.0</td>\n",
              "      <td>6.2</td>\n",
              "      <td>163.4</td>\n",
              "      <td>-</td>\n",
              "      <td>2.9</td>\n",
              "      <td>939325</td>\n",
              "    </tr>\n",
              "    <tr>\n",
              "      <th>4</th>\n",
              "      <td>201505</td>\n",
              "      <td>18.8</td>\n",
              "      <td>150.0</td>\n",
              "      <td>68.0</td>\n",
              "      <td>1010.7</td>\n",
              "      <td>12.1</td>\n",
              "      <td>5.3</td>\n",
              "      <td>239.7</td>\n",
              "      <td>-</td>\n",
              "      <td>2.6</td>\n",
              "      <td>1015339</td>\n",
              "    </tr>\n",
              "  </tbody>\n",
              "</table>\n",
              "</div>\n",
              "      <button class=\"colab-df-convert\" onclick=\"convertToInteractive('df-ab10d1bd-1182-4c54-bee6-9bfa6dbe8981')\"\n",
              "              title=\"Convert this dataframe to an interactive table.\"\n",
              "              style=\"display:none;\">\n",
              "        \n",
              "  <svg xmlns=\"http://www.w3.org/2000/svg\" height=\"24px\"viewBox=\"0 0 24 24\"\n",
              "       width=\"24px\">\n",
              "    <path d=\"M0 0h24v24H0V0z\" fill=\"none\"/>\n",
              "    <path d=\"M18.56 5.44l.94 2.06.94-2.06 2.06-.94-2.06-.94-.94-2.06-.94 2.06-2.06.94zm-11 1L8.5 8.5l.94-2.06 2.06-.94-2.06-.94L8.5 2.5l-.94 2.06-2.06.94zm10 10l.94 2.06.94-2.06 2.06-.94-2.06-.94-.94-2.06-.94 2.06-2.06.94z\"/><path d=\"M17.41 7.96l-1.37-1.37c-.4-.4-.92-.59-1.43-.59-.52 0-1.04.2-1.43.59L10.3 9.45l-7.72 7.72c-.78.78-.78 2.05 0 2.83L4 21.41c.39.39.9.59 1.41.59.51 0 1.02-.2 1.41-.59l7.78-7.78 2.81-2.81c.8-.78.8-2.07 0-2.86zM5.41 20L4 18.59l7.72-7.72 1.47 1.35L5.41 20z\"/>\n",
              "  </svg>\n",
              "      </button>\n",
              "      \n",
              "  <style>\n",
              "    .colab-df-container {\n",
              "      display:flex;\n",
              "      flex-wrap:wrap;\n",
              "      gap: 12px;\n",
              "    }\n",
              "\n",
              "    .colab-df-convert {\n",
              "      background-color: #E8F0FE;\n",
              "      border: none;\n",
              "      border-radius: 50%;\n",
              "      cursor: pointer;\n",
              "      display: none;\n",
              "      fill: #1967D2;\n",
              "      height: 32px;\n",
              "      padding: 0 0 0 0;\n",
              "      width: 32px;\n",
              "    }\n",
              "\n",
              "    .colab-df-convert:hover {\n",
              "      background-color: #E2EBFA;\n",
              "      box-shadow: 0px 1px 2px rgba(60, 64, 67, 0.3), 0px 1px 3px 1px rgba(60, 64, 67, 0.15);\n",
              "      fill: #174EA6;\n",
              "    }\n",
              "\n",
              "    [theme=dark] .colab-df-convert {\n",
              "      background-color: #3B4455;\n",
              "      fill: #D2E3FC;\n",
              "    }\n",
              "\n",
              "    [theme=dark] .colab-df-convert:hover {\n",
              "      background-color: #434B5C;\n",
              "      box-shadow: 0px 1px 3px 1px rgba(0, 0, 0, 0.15);\n",
              "      filter: drop-shadow(0px 1px 2px rgba(0, 0, 0, 0.3));\n",
              "      fill: #FFFFFF;\n",
              "    }\n",
              "  </style>\n",
              "\n",
              "      <script>\n",
              "        const buttonEl =\n",
              "          document.querySelector('#df-ab10d1bd-1182-4c54-bee6-9bfa6dbe8981 button.colab-df-convert');\n",
              "        buttonEl.style.display =\n",
              "          google.colab.kernel.accessAllowed ? 'block' : 'none';\n",
              "\n",
              "        async function convertToInteractive(key) {\n",
              "          const element = document.querySelector('#df-ab10d1bd-1182-4c54-bee6-9bfa6dbe8981');\n",
              "          const dataTable =\n",
              "            await google.colab.kernel.invokeFunction('convertToInteractive',\n",
              "                                                     [key], {});\n",
              "          if (!dataTable) return;\n",
              "\n",
              "          const docLinkHtml = 'Like what you see? Visit the ' +\n",
              "            '<a target=\"_blank\" href=https://colab.research.google.com/notebooks/data_table.ipynb>data table notebook</a>'\n",
              "            + ' to learn more about interactive tables.';\n",
              "          element.innerHTML = '';\n",
              "          dataTable['output_type'] = 'display_data';\n",
              "          await google.colab.output.renderOutput(dataTable, element);\n",
              "          const docLink = document.createElement('div');\n",
              "          docLink.innerHTML = docLinkHtml;\n",
              "          element.appendChild(docLink);\n",
              "        }\n",
              "      </script>\n",
              "    </div>\n",
              "  </div>\n",
              "  "
            ]
          },
          "metadata": {},
          "execution_count": 9
        }
      ],
      "source": [
        "# 데이터프레임 병합\n",
        "jeju = pd.concat([df2, total], axis=1)\n",
        "jeju.head()"
      ]
    },
    {
      "cell_type": "code",
      "execution_count": 10,
      "id": "a5238fd2",
      "metadata": {
        "colab": {
          "base_uri": "https://localhost:8080/",
          "height": 424
        },
        "id": "a5238fd2",
        "outputId": "e388d100-4f92-4b0b-c076-9bf4af1592a7",
        "scrolled": false
      },
      "outputs": [
        {
          "output_type": "execute_result",
          "data": {
            "text/plain": [
              "        내용  평균기온 (℃)  평균강수량 (mm)  평균상대습도 (%)  평균해면기압 (hPa)  이슬점온도 (℃)  \\\n",
              "0   201501       7.4        82.4        66.0        1024.6        1.2   \n",
              "1   201502       7.3        35.5        64.0        1022.7        0.7   \n",
              "2   201503      10.4        80.7        64.0        1021.9        3.3   \n",
              "3   201504      15.1       147.9        71.0        1015.9        9.0   \n",
              "4   201505      18.8       150.0        68.0        1010.7       12.1   \n",
              "..     ...       ...         ...         ...           ...        ...   \n",
              "67  202008      28.4       149.8        83.0        1009.4       24.9   \n",
              "68  202009      22.5       412.7        79.0        1011.3       18.3   \n",
              "69  202010      18.5        46.5        64.5        1019.7       11.3   \n",
              "70  202011      14.6        20.0        69.0        1024.3        8.6   \n",
              "71  202012       8.0        46.2        64.5        1025.7        1.4   \n",
              "\n",
              "   평균운량 (1/10)  일조시간 (hr)  평균풍속 (m/s)    total  \n",
              "0          6.5       94.2         3.9   792668  \n",
              "1          6.5       93.5         3.7   721587  \n",
              "2          5.3      183.8         2.9   791714  \n",
              "3          6.2      163.4         2.9   939325  \n",
              "4          5.3      239.7         2.6  1015339  \n",
              "..         ...        ...         ...      ...  \n",
              "67         5.9      211.3         2.4  1127097  \n",
              "68         6.7      149.5         2.6   726169  \n",
              "69         5.2      198.7         2.3  1072455  \n",
              "70         5.4      152.8         2.2  1138369  \n",
              "71           6      139.3         2.4   623062  \n",
              "\n",
              "[72 rows x 10 columns]"
            ],
            "text/html": [
              "\n",
              "  <div id=\"df-87bd4091-0b32-425a-acc6-b7abee29c313\">\n",
              "    <div class=\"colab-df-container\">\n",
              "      <div>\n",
              "<style scoped>\n",
              "    .dataframe tbody tr th:only-of-type {\n",
              "        vertical-align: middle;\n",
              "    }\n",
              "\n",
              "    .dataframe tbody tr th {\n",
              "        vertical-align: top;\n",
              "    }\n",
              "\n",
              "    .dataframe thead th {\n",
              "        text-align: right;\n",
              "    }\n",
              "</style>\n",
              "<table border=\"1\" class=\"dataframe\">\n",
              "  <thead>\n",
              "    <tr style=\"text-align: right;\">\n",
              "      <th></th>\n",
              "      <th>내용</th>\n",
              "      <th>평균기온 (℃)</th>\n",
              "      <th>평균강수량 (mm)</th>\n",
              "      <th>평균상대습도 (%)</th>\n",
              "      <th>평균해면기압 (hPa)</th>\n",
              "      <th>이슬점온도 (℃)</th>\n",
              "      <th>평균운량 (1/10)</th>\n",
              "      <th>일조시간 (hr)</th>\n",
              "      <th>평균풍속 (m/s)</th>\n",
              "      <th>total</th>\n",
              "    </tr>\n",
              "  </thead>\n",
              "  <tbody>\n",
              "    <tr>\n",
              "      <th>0</th>\n",
              "      <td>201501</td>\n",
              "      <td>7.4</td>\n",
              "      <td>82.4</td>\n",
              "      <td>66.0</td>\n",
              "      <td>1024.6</td>\n",
              "      <td>1.2</td>\n",
              "      <td>6.5</td>\n",
              "      <td>94.2</td>\n",
              "      <td>3.9</td>\n",
              "      <td>792668</td>\n",
              "    </tr>\n",
              "    <tr>\n",
              "      <th>1</th>\n",
              "      <td>201502</td>\n",
              "      <td>7.3</td>\n",
              "      <td>35.5</td>\n",
              "      <td>64.0</td>\n",
              "      <td>1022.7</td>\n",
              "      <td>0.7</td>\n",
              "      <td>6.5</td>\n",
              "      <td>93.5</td>\n",
              "      <td>3.7</td>\n",
              "      <td>721587</td>\n",
              "    </tr>\n",
              "    <tr>\n",
              "      <th>2</th>\n",
              "      <td>201503</td>\n",
              "      <td>10.4</td>\n",
              "      <td>80.7</td>\n",
              "      <td>64.0</td>\n",
              "      <td>1021.9</td>\n",
              "      <td>3.3</td>\n",
              "      <td>5.3</td>\n",
              "      <td>183.8</td>\n",
              "      <td>2.9</td>\n",
              "      <td>791714</td>\n",
              "    </tr>\n",
              "    <tr>\n",
              "      <th>3</th>\n",
              "      <td>201504</td>\n",
              "      <td>15.1</td>\n",
              "      <td>147.9</td>\n",
              "      <td>71.0</td>\n",
              "      <td>1015.9</td>\n",
              "      <td>9.0</td>\n",
              "      <td>6.2</td>\n",
              "      <td>163.4</td>\n",
              "      <td>2.9</td>\n",
              "      <td>939325</td>\n",
              "    </tr>\n",
              "    <tr>\n",
              "      <th>4</th>\n",
              "      <td>201505</td>\n",
              "      <td>18.8</td>\n",
              "      <td>150.0</td>\n",
              "      <td>68.0</td>\n",
              "      <td>1010.7</td>\n",
              "      <td>12.1</td>\n",
              "      <td>5.3</td>\n",
              "      <td>239.7</td>\n",
              "      <td>2.6</td>\n",
              "      <td>1015339</td>\n",
              "    </tr>\n",
              "    <tr>\n",
              "      <th>...</th>\n",
              "      <td>...</td>\n",
              "      <td>...</td>\n",
              "      <td>...</td>\n",
              "      <td>...</td>\n",
              "      <td>...</td>\n",
              "      <td>...</td>\n",
              "      <td>...</td>\n",
              "      <td>...</td>\n",
              "      <td>...</td>\n",
              "      <td>...</td>\n",
              "    </tr>\n",
              "    <tr>\n",
              "      <th>67</th>\n",
              "      <td>202008</td>\n",
              "      <td>28.4</td>\n",
              "      <td>149.8</td>\n",
              "      <td>83.0</td>\n",
              "      <td>1009.4</td>\n",
              "      <td>24.9</td>\n",
              "      <td>5.9</td>\n",
              "      <td>211.3</td>\n",
              "      <td>2.4</td>\n",
              "      <td>1127097</td>\n",
              "    </tr>\n",
              "    <tr>\n",
              "      <th>68</th>\n",
              "      <td>202009</td>\n",
              "      <td>22.5</td>\n",
              "      <td>412.7</td>\n",
              "      <td>79.0</td>\n",
              "      <td>1011.3</td>\n",
              "      <td>18.3</td>\n",
              "      <td>6.7</td>\n",
              "      <td>149.5</td>\n",
              "      <td>2.6</td>\n",
              "      <td>726169</td>\n",
              "    </tr>\n",
              "    <tr>\n",
              "      <th>69</th>\n",
              "      <td>202010</td>\n",
              "      <td>18.5</td>\n",
              "      <td>46.5</td>\n",
              "      <td>64.5</td>\n",
              "      <td>1019.7</td>\n",
              "      <td>11.3</td>\n",
              "      <td>5.2</td>\n",
              "      <td>198.7</td>\n",
              "      <td>2.3</td>\n",
              "      <td>1072455</td>\n",
              "    </tr>\n",
              "    <tr>\n",
              "      <th>70</th>\n",
              "      <td>202011</td>\n",
              "      <td>14.6</td>\n",
              "      <td>20.0</td>\n",
              "      <td>69.0</td>\n",
              "      <td>1024.3</td>\n",
              "      <td>8.6</td>\n",
              "      <td>5.4</td>\n",
              "      <td>152.8</td>\n",
              "      <td>2.2</td>\n",
              "      <td>1138369</td>\n",
              "    </tr>\n",
              "    <tr>\n",
              "      <th>71</th>\n",
              "      <td>202012</td>\n",
              "      <td>8.0</td>\n",
              "      <td>46.2</td>\n",
              "      <td>64.5</td>\n",
              "      <td>1025.7</td>\n",
              "      <td>1.4</td>\n",
              "      <td>6</td>\n",
              "      <td>139.3</td>\n",
              "      <td>2.4</td>\n",
              "      <td>623062</td>\n",
              "    </tr>\n",
              "  </tbody>\n",
              "</table>\n",
              "<p>72 rows × 10 columns</p>\n",
              "</div>\n",
              "      <button class=\"colab-df-convert\" onclick=\"convertToInteractive('df-87bd4091-0b32-425a-acc6-b7abee29c313')\"\n",
              "              title=\"Convert this dataframe to an interactive table.\"\n",
              "              style=\"display:none;\">\n",
              "        \n",
              "  <svg xmlns=\"http://www.w3.org/2000/svg\" height=\"24px\"viewBox=\"0 0 24 24\"\n",
              "       width=\"24px\">\n",
              "    <path d=\"M0 0h24v24H0V0z\" fill=\"none\"/>\n",
              "    <path d=\"M18.56 5.44l.94 2.06.94-2.06 2.06-.94-2.06-.94-.94-2.06-.94 2.06-2.06.94zm-11 1L8.5 8.5l.94-2.06 2.06-.94-2.06-.94L8.5 2.5l-.94 2.06-2.06.94zm10 10l.94 2.06.94-2.06 2.06-.94-2.06-.94-.94-2.06-.94 2.06-2.06.94z\"/><path d=\"M17.41 7.96l-1.37-1.37c-.4-.4-.92-.59-1.43-.59-.52 0-1.04.2-1.43.59L10.3 9.45l-7.72 7.72c-.78.78-.78 2.05 0 2.83L4 21.41c.39.39.9.59 1.41.59.51 0 1.02-.2 1.41-.59l7.78-7.78 2.81-2.81c.8-.78.8-2.07 0-2.86zM5.41 20L4 18.59l7.72-7.72 1.47 1.35L5.41 20z\"/>\n",
              "  </svg>\n",
              "      </button>\n",
              "      \n",
              "  <style>\n",
              "    .colab-df-container {\n",
              "      display:flex;\n",
              "      flex-wrap:wrap;\n",
              "      gap: 12px;\n",
              "    }\n",
              "\n",
              "    .colab-df-convert {\n",
              "      background-color: #E8F0FE;\n",
              "      border: none;\n",
              "      border-radius: 50%;\n",
              "      cursor: pointer;\n",
              "      display: none;\n",
              "      fill: #1967D2;\n",
              "      height: 32px;\n",
              "      padding: 0 0 0 0;\n",
              "      width: 32px;\n",
              "    }\n",
              "\n",
              "    .colab-df-convert:hover {\n",
              "      background-color: #E2EBFA;\n",
              "      box-shadow: 0px 1px 2px rgba(60, 64, 67, 0.3), 0px 1px 3px 1px rgba(60, 64, 67, 0.15);\n",
              "      fill: #174EA6;\n",
              "    }\n",
              "\n",
              "    [theme=dark] .colab-df-convert {\n",
              "      background-color: #3B4455;\n",
              "      fill: #D2E3FC;\n",
              "    }\n",
              "\n",
              "    [theme=dark] .colab-df-convert:hover {\n",
              "      background-color: #434B5C;\n",
              "      box-shadow: 0px 1px 3px 1px rgba(0, 0, 0, 0.15);\n",
              "      filter: drop-shadow(0px 1px 2px rgba(0, 0, 0, 0.3));\n",
              "      fill: #FFFFFF;\n",
              "    }\n",
              "  </style>\n",
              "\n",
              "      <script>\n",
              "        const buttonEl =\n",
              "          document.querySelector('#df-87bd4091-0b32-425a-acc6-b7abee29c313 button.colab-df-convert');\n",
              "        buttonEl.style.display =\n",
              "          google.colab.kernel.accessAllowed ? 'block' : 'none';\n",
              "\n",
              "        async function convertToInteractive(key) {\n",
              "          const element = document.querySelector('#df-87bd4091-0b32-425a-acc6-b7abee29c313');\n",
              "          const dataTable =\n",
              "            await google.colab.kernel.invokeFunction('convertToInteractive',\n",
              "                                                     [key], {});\n",
              "          if (!dataTable) return;\n",
              "\n",
              "          const docLinkHtml = 'Like what you see? Visit the ' +\n",
              "            '<a target=\"_blank\" href=https://colab.research.google.com/notebooks/data_table.ipynb>data table notebook</a>'\n",
              "            + ' to learn more about interactive tables.';\n",
              "          element.innerHTML = '';\n",
              "          dataTable['output_type'] = 'display_data';\n",
              "          await google.colab.output.renderOutput(dataTable, element);\n",
              "          const docLink = document.createElement('div');\n",
              "          docLink.innerHTML = docLinkHtml;\n",
              "          element.appendChild(docLink);\n",
              "        }\n",
              "      </script>\n",
              "    </div>\n",
              "  </div>\n",
              "  "
            ]
          },
          "metadata": {},
          "execution_count": 10
        }
      ],
      "source": [
        "# '최심신적설'은 결측값이 너무 많기에 존재하지 않으니 drop\n",
        "jeju.drop(columns=['최심신적설 (cm)'], inplace=True)\n",
        "jeju"
      ]
    },
    {
      "cell_type": "code",
      "execution_count": 11,
      "id": "7b83a010",
      "metadata": {
        "colab": {
          "base_uri": "https://localhost:8080/",
          "height": 206
        },
        "id": "7b83a010",
        "outputId": "bd9bb181-3dd4-42c5-c9a8-4e7f9d1912f7",
        "scrolled": true
      },
      "outputs": [
        {
          "output_type": "execute_result",
          "data": {
            "text/plain": [
              "     date  temperature(℃)  rain(mm)  humidity(%)  pressure(hPa)  dew_point(℃)  \\\n",
              "0  201501             7.4      82.4         66.0         1024.6           1.2   \n",
              "1  201502             7.3      35.5         64.0         1022.7           0.7   \n",
              "2  201503            10.4      80.7         64.0         1021.9           3.3   \n",
              "3  201504            15.1     147.9         71.0         1015.9           9.0   \n",
              "4  201505            18.8     150.0         68.0         1010.7          12.1   \n",
              "\n",
              "  cloud(1/10)  daylight(hr)  windspeed(m/s)    total  \n",
              "0         6.5          94.2             3.9   792668  \n",
              "1         6.5          93.5             3.7   721587  \n",
              "2         5.3         183.8             2.9   791714  \n",
              "3         6.2         163.4             2.9   939325  \n",
              "4         5.3         239.7             2.6  1015339  "
            ],
            "text/html": [
              "\n",
              "  <div id=\"df-c65301c5-d94f-46a5-9e0f-8cf00b98a4cf\">\n",
              "    <div class=\"colab-df-container\">\n",
              "      <div>\n",
              "<style scoped>\n",
              "    .dataframe tbody tr th:only-of-type {\n",
              "        vertical-align: middle;\n",
              "    }\n",
              "\n",
              "    .dataframe tbody tr th {\n",
              "        vertical-align: top;\n",
              "    }\n",
              "\n",
              "    .dataframe thead th {\n",
              "        text-align: right;\n",
              "    }\n",
              "</style>\n",
              "<table border=\"1\" class=\"dataframe\">\n",
              "  <thead>\n",
              "    <tr style=\"text-align: right;\">\n",
              "      <th></th>\n",
              "      <th>date</th>\n",
              "      <th>temperature(℃)</th>\n",
              "      <th>rain(mm)</th>\n",
              "      <th>humidity(%)</th>\n",
              "      <th>pressure(hPa)</th>\n",
              "      <th>dew_point(℃)</th>\n",
              "      <th>cloud(1/10)</th>\n",
              "      <th>daylight(hr)</th>\n",
              "      <th>windspeed(m/s)</th>\n",
              "      <th>total</th>\n",
              "    </tr>\n",
              "  </thead>\n",
              "  <tbody>\n",
              "    <tr>\n",
              "      <th>0</th>\n",
              "      <td>201501</td>\n",
              "      <td>7.4</td>\n",
              "      <td>82.4</td>\n",
              "      <td>66.0</td>\n",
              "      <td>1024.6</td>\n",
              "      <td>1.2</td>\n",
              "      <td>6.5</td>\n",
              "      <td>94.2</td>\n",
              "      <td>3.9</td>\n",
              "      <td>792668</td>\n",
              "    </tr>\n",
              "    <tr>\n",
              "      <th>1</th>\n",
              "      <td>201502</td>\n",
              "      <td>7.3</td>\n",
              "      <td>35.5</td>\n",
              "      <td>64.0</td>\n",
              "      <td>1022.7</td>\n",
              "      <td>0.7</td>\n",
              "      <td>6.5</td>\n",
              "      <td>93.5</td>\n",
              "      <td>3.7</td>\n",
              "      <td>721587</td>\n",
              "    </tr>\n",
              "    <tr>\n",
              "      <th>2</th>\n",
              "      <td>201503</td>\n",
              "      <td>10.4</td>\n",
              "      <td>80.7</td>\n",
              "      <td>64.0</td>\n",
              "      <td>1021.9</td>\n",
              "      <td>3.3</td>\n",
              "      <td>5.3</td>\n",
              "      <td>183.8</td>\n",
              "      <td>2.9</td>\n",
              "      <td>791714</td>\n",
              "    </tr>\n",
              "    <tr>\n",
              "      <th>3</th>\n",
              "      <td>201504</td>\n",
              "      <td>15.1</td>\n",
              "      <td>147.9</td>\n",
              "      <td>71.0</td>\n",
              "      <td>1015.9</td>\n",
              "      <td>9.0</td>\n",
              "      <td>6.2</td>\n",
              "      <td>163.4</td>\n",
              "      <td>2.9</td>\n",
              "      <td>939325</td>\n",
              "    </tr>\n",
              "    <tr>\n",
              "      <th>4</th>\n",
              "      <td>201505</td>\n",
              "      <td>18.8</td>\n",
              "      <td>150.0</td>\n",
              "      <td>68.0</td>\n",
              "      <td>1010.7</td>\n",
              "      <td>12.1</td>\n",
              "      <td>5.3</td>\n",
              "      <td>239.7</td>\n",
              "      <td>2.6</td>\n",
              "      <td>1015339</td>\n",
              "    </tr>\n",
              "  </tbody>\n",
              "</table>\n",
              "</div>\n",
              "      <button class=\"colab-df-convert\" onclick=\"convertToInteractive('df-c65301c5-d94f-46a5-9e0f-8cf00b98a4cf')\"\n",
              "              title=\"Convert this dataframe to an interactive table.\"\n",
              "              style=\"display:none;\">\n",
              "        \n",
              "  <svg xmlns=\"http://www.w3.org/2000/svg\" height=\"24px\"viewBox=\"0 0 24 24\"\n",
              "       width=\"24px\">\n",
              "    <path d=\"M0 0h24v24H0V0z\" fill=\"none\"/>\n",
              "    <path d=\"M18.56 5.44l.94 2.06.94-2.06 2.06-.94-2.06-.94-.94-2.06-.94 2.06-2.06.94zm-11 1L8.5 8.5l.94-2.06 2.06-.94-2.06-.94L8.5 2.5l-.94 2.06-2.06.94zm10 10l.94 2.06.94-2.06 2.06-.94-2.06-.94-.94-2.06-.94 2.06-2.06.94z\"/><path d=\"M17.41 7.96l-1.37-1.37c-.4-.4-.92-.59-1.43-.59-.52 0-1.04.2-1.43.59L10.3 9.45l-7.72 7.72c-.78.78-.78 2.05 0 2.83L4 21.41c.39.39.9.59 1.41.59.51 0 1.02-.2 1.41-.59l7.78-7.78 2.81-2.81c.8-.78.8-2.07 0-2.86zM5.41 20L4 18.59l7.72-7.72 1.47 1.35L5.41 20z\"/>\n",
              "  </svg>\n",
              "      </button>\n",
              "      \n",
              "  <style>\n",
              "    .colab-df-container {\n",
              "      display:flex;\n",
              "      flex-wrap:wrap;\n",
              "      gap: 12px;\n",
              "    }\n",
              "\n",
              "    .colab-df-convert {\n",
              "      background-color: #E8F0FE;\n",
              "      border: none;\n",
              "      border-radius: 50%;\n",
              "      cursor: pointer;\n",
              "      display: none;\n",
              "      fill: #1967D2;\n",
              "      height: 32px;\n",
              "      padding: 0 0 0 0;\n",
              "      width: 32px;\n",
              "    }\n",
              "\n",
              "    .colab-df-convert:hover {\n",
              "      background-color: #E2EBFA;\n",
              "      box-shadow: 0px 1px 2px rgba(60, 64, 67, 0.3), 0px 1px 3px 1px rgba(60, 64, 67, 0.15);\n",
              "      fill: #174EA6;\n",
              "    }\n",
              "\n",
              "    [theme=dark] .colab-df-convert {\n",
              "      background-color: #3B4455;\n",
              "      fill: #D2E3FC;\n",
              "    }\n",
              "\n",
              "    [theme=dark] .colab-df-convert:hover {\n",
              "      background-color: #434B5C;\n",
              "      box-shadow: 0px 1px 3px 1px rgba(0, 0, 0, 0.15);\n",
              "      filter: drop-shadow(0px 1px 2px rgba(0, 0, 0, 0.3));\n",
              "      fill: #FFFFFF;\n",
              "    }\n",
              "  </style>\n",
              "\n",
              "      <script>\n",
              "        const buttonEl =\n",
              "          document.querySelector('#df-c65301c5-d94f-46a5-9e0f-8cf00b98a4cf button.colab-df-convert');\n",
              "        buttonEl.style.display =\n",
              "          google.colab.kernel.accessAllowed ? 'block' : 'none';\n",
              "\n",
              "        async function convertToInteractive(key) {\n",
              "          const element = document.querySelector('#df-c65301c5-d94f-46a5-9e0f-8cf00b98a4cf');\n",
              "          const dataTable =\n",
              "            await google.colab.kernel.invokeFunction('convertToInteractive',\n",
              "                                                     [key], {});\n",
              "          if (!dataTable) return;\n",
              "\n",
              "          const docLinkHtml = 'Like what you see? Visit the ' +\n",
              "            '<a target=\"_blank\" href=https://colab.research.google.com/notebooks/data_table.ipynb>data table notebook</a>'\n",
              "            + ' to learn more about interactive tables.';\n",
              "          element.innerHTML = '';\n",
              "          dataTable['output_type'] = 'display_data';\n",
              "          await google.colab.output.renderOutput(dataTable, element);\n",
              "          const docLink = document.createElement('div');\n",
              "          docLink.innerHTML = docLinkHtml;\n",
              "          element.appendChild(docLink);\n",
              "        }\n",
              "      </script>\n",
              "    </div>\n",
              "  </div>\n",
              "  "
            ]
          },
          "metadata": {},
          "execution_count": 11
        }
      ],
      "source": [
        "# heatmap시 깨지지 않도록 칼럼 이름 변경\n",
        "jeju.columns = ['date', 'temperature(℃)', 'rain(mm)', 'humidity(%)', 'pressure(hPa)', 'dew_point(℃)', 'cloud(1/10)', 'daylight(hr)', 'windspeed(m/s)', 'total']\n",
        "jeju.head()"
      ]
    },
    {
      "cell_type": "code",
      "execution_count": 12,
      "id": "70110210",
      "metadata": {
        "colab": {
          "base_uri": "https://localhost:8080/"
        },
        "id": "70110210",
        "outputId": "c685c808-b8e7-499c-eef4-cc4f7a38dbf8"
      },
      "outputs": [
        {
          "output_type": "stream",
          "name": "stdout",
          "text": [
            "<class 'pandas.core.frame.DataFrame'>\n",
            "RangeIndex: 72 entries, 0 to 71\n",
            "Data columns (total 10 columns):\n",
            " #   Column          Non-Null Count  Dtype  \n",
            "---  ------          --------------  -----  \n",
            " 0   date            72 non-null     int64  \n",
            " 1   temperature(℃)  72 non-null     float64\n",
            " 2   rain(mm)        72 non-null     float64\n",
            " 3   humidity(%)     72 non-null     float64\n",
            " 4   pressure(hPa)   72 non-null     float64\n",
            " 5   dew_point(℃)    72 non-null     float64\n",
            " 6   cloud(1/10)     72 non-null     object \n",
            " 7   daylight(hr)    72 non-null     float64\n",
            " 8   windspeed(m/s)  72 non-null     float64\n",
            " 9   total           72 non-null     int64  \n",
            "dtypes: float64(7), int64(2), object(1)\n",
            "memory usage: 5.8+ KB\n"
          ]
        }
      ],
      "source": [
        "# 칼럼 확인\n",
        "jeju.info()"
      ]
    },
    {
      "cell_type": "markdown",
      "id": "8f98f383",
      "metadata": {
        "id": "8f98f383"
      },
      "source": [
        "- \"평균운량 (1/10)\" 컬럼에 -, 0으로 채워진 행이 많아 결측값 채우는 함수 필요\n",
        "- 2015년, 2019년, 2020년 데이터는 있으므로 3년 각 월의 평균값으로 채워줄 예정"
      ]
    },
    {
      "cell_type": "markdown",
      "id": "474d58f4",
      "metadata": {
        "id": "474d58f4"
      },
      "source": [
        "---"
      ]
    },
    {
      "cell_type": "markdown",
      "id": "iWFoYF4ls_Ls",
      "metadata": {
        "id": "iWFoYF4ls_Ls"
      },
      "source": [
        "## 민선 전처리"
      ]
    },
    {
      "cell_type": "code",
      "execution_count": 13,
      "id": "9MJSAsx_1el5",
      "metadata": {
        "colab": {
          "base_uri": "https://localhost:8080/",
          "height": 424
        },
        "id": "9MJSAsx_1el5",
        "outputId": "66213d79-dc1f-4b9f-c8db-dd250467a916",
        "scrolled": true
      },
      "outputs": [
        {
          "output_type": "execute_result",
          "data": {
            "text/plain": [
              "      date  temperature(℃)  rain(mm)  humidity(%)  pressure(hPa)  \\\n",
              "0   201501             7.4      82.4         66.0         1024.6   \n",
              "1   201502             7.3      35.5         64.0         1022.7   \n",
              "2   201503            10.4      80.7         64.0         1021.9   \n",
              "3   201504            15.1     147.9         71.0         1015.9   \n",
              "4   201505            18.8     150.0         68.0         1010.7   \n",
              "..     ...             ...       ...          ...            ...   \n",
              "67  202008            28.4     149.8         83.0         1009.4   \n",
              "68  202009            22.5     412.7         79.0         1011.3   \n",
              "69  202010            18.5      46.5         64.5         1019.7   \n",
              "70  202011            14.6      20.0         69.0         1024.3   \n",
              "71  202012             8.0      46.2         64.5         1025.7   \n",
              "\n",
              "    dew_point(℃) cloud(1/10)  daylight(hr)  windspeed(m/s)    total  month  \n",
              "0            1.2         6.5          94.2             3.9   792668      1  \n",
              "1            0.7         6.5          93.5             3.7   721587      2  \n",
              "2            3.3         5.3         183.8             2.9   791714      3  \n",
              "3            9.0         6.2         163.4             2.9   939325      4  \n",
              "4           12.1         5.3         239.7             2.6  1015339      5  \n",
              "..           ...         ...           ...             ...      ...    ...  \n",
              "67          24.9         5.9         211.3             2.4  1127097      8  \n",
              "68          18.3         6.7         149.5             2.6   726169      9  \n",
              "69          11.3         5.2         198.7             2.3  1072455     10  \n",
              "70           8.6         5.4         152.8             2.2  1138369     11  \n",
              "71           1.4           6         139.3             2.4   623062     12  \n",
              "\n",
              "[72 rows x 11 columns]"
            ],
            "text/html": [
              "\n",
              "  <div id=\"df-15ed0595-b29d-43b0-abd3-9be0f7de2d2a\">\n",
              "    <div class=\"colab-df-container\">\n",
              "      <div>\n",
              "<style scoped>\n",
              "    .dataframe tbody tr th:only-of-type {\n",
              "        vertical-align: middle;\n",
              "    }\n",
              "\n",
              "    .dataframe tbody tr th {\n",
              "        vertical-align: top;\n",
              "    }\n",
              "\n",
              "    .dataframe thead th {\n",
              "        text-align: right;\n",
              "    }\n",
              "</style>\n",
              "<table border=\"1\" class=\"dataframe\">\n",
              "  <thead>\n",
              "    <tr style=\"text-align: right;\">\n",
              "      <th></th>\n",
              "      <th>date</th>\n",
              "      <th>temperature(℃)</th>\n",
              "      <th>rain(mm)</th>\n",
              "      <th>humidity(%)</th>\n",
              "      <th>pressure(hPa)</th>\n",
              "      <th>dew_point(℃)</th>\n",
              "      <th>cloud(1/10)</th>\n",
              "      <th>daylight(hr)</th>\n",
              "      <th>windspeed(m/s)</th>\n",
              "      <th>total</th>\n",
              "      <th>month</th>\n",
              "    </tr>\n",
              "  </thead>\n",
              "  <tbody>\n",
              "    <tr>\n",
              "      <th>0</th>\n",
              "      <td>201501</td>\n",
              "      <td>7.4</td>\n",
              "      <td>82.4</td>\n",
              "      <td>66.0</td>\n",
              "      <td>1024.6</td>\n",
              "      <td>1.2</td>\n",
              "      <td>6.5</td>\n",
              "      <td>94.2</td>\n",
              "      <td>3.9</td>\n",
              "      <td>792668</td>\n",
              "      <td>1</td>\n",
              "    </tr>\n",
              "    <tr>\n",
              "      <th>1</th>\n",
              "      <td>201502</td>\n",
              "      <td>7.3</td>\n",
              "      <td>35.5</td>\n",
              "      <td>64.0</td>\n",
              "      <td>1022.7</td>\n",
              "      <td>0.7</td>\n",
              "      <td>6.5</td>\n",
              "      <td>93.5</td>\n",
              "      <td>3.7</td>\n",
              "      <td>721587</td>\n",
              "      <td>2</td>\n",
              "    </tr>\n",
              "    <tr>\n",
              "      <th>2</th>\n",
              "      <td>201503</td>\n",
              "      <td>10.4</td>\n",
              "      <td>80.7</td>\n",
              "      <td>64.0</td>\n",
              "      <td>1021.9</td>\n",
              "      <td>3.3</td>\n",
              "      <td>5.3</td>\n",
              "      <td>183.8</td>\n",
              "      <td>2.9</td>\n",
              "      <td>791714</td>\n",
              "      <td>3</td>\n",
              "    </tr>\n",
              "    <tr>\n",
              "      <th>3</th>\n",
              "      <td>201504</td>\n",
              "      <td>15.1</td>\n",
              "      <td>147.9</td>\n",
              "      <td>71.0</td>\n",
              "      <td>1015.9</td>\n",
              "      <td>9.0</td>\n",
              "      <td>6.2</td>\n",
              "      <td>163.4</td>\n",
              "      <td>2.9</td>\n",
              "      <td>939325</td>\n",
              "      <td>4</td>\n",
              "    </tr>\n",
              "    <tr>\n",
              "      <th>4</th>\n",
              "      <td>201505</td>\n",
              "      <td>18.8</td>\n",
              "      <td>150.0</td>\n",
              "      <td>68.0</td>\n",
              "      <td>1010.7</td>\n",
              "      <td>12.1</td>\n",
              "      <td>5.3</td>\n",
              "      <td>239.7</td>\n",
              "      <td>2.6</td>\n",
              "      <td>1015339</td>\n",
              "      <td>5</td>\n",
              "    </tr>\n",
              "    <tr>\n",
              "      <th>...</th>\n",
              "      <td>...</td>\n",
              "      <td>...</td>\n",
              "      <td>...</td>\n",
              "      <td>...</td>\n",
              "      <td>...</td>\n",
              "      <td>...</td>\n",
              "      <td>...</td>\n",
              "      <td>...</td>\n",
              "      <td>...</td>\n",
              "      <td>...</td>\n",
              "      <td>...</td>\n",
              "    </tr>\n",
              "    <tr>\n",
              "      <th>67</th>\n",
              "      <td>202008</td>\n",
              "      <td>28.4</td>\n",
              "      <td>149.8</td>\n",
              "      <td>83.0</td>\n",
              "      <td>1009.4</td>\n",
              "      <td>24.9</td>\n",
              "      <td>5.9</td>\n",
              "      <td>211.3</td>\n",
              "      <td>2.4</td>\n",
              "      <td>1127097</td>\n",
              "      <td>8</td>\n",
              "    </tr>\n",
              "    <tr>\n",
              "      <th>68</th>\n",
              "      <td>202009</td>\n",
              "      <td>22.5</td>\n",
              "      <td>412.7</td>\n",
              "      <td>79.0</td>\n",
              "      <td>1011.3</td>\n",
              "      <td>18.3</td>\n",
              "      <td>6.7</td>\n",
              "      <td>149.5</td>\n",
              "      <td>2.6</td>\n",
              "      <td>726169</td>\n",
              "      <td>9</td>\n",
              "    </tr>\n",
              "    <tr>\n",
              "      <th>69</th>\n",
              "      <td>202010</td>\n",
              "      <td>18.5</td>\n",
              "      <td>46.5</td>\n",
              "      <td>64.5</td>\n",
              "      <td>1019.7</td>\n",
              "      <td>11.3</td>\n",
              "      <td>5.2</td>\n",
              "      <td>198.7</td>\n",
              "      <td>2.3</td>\n",
              "      <td>1072455</td>\n",
              "      <td>10</td>\n",
              "    </tr>\n",
              "    <tr>\n",
              "      <th>70</th>\n",
              "      <td>202011</td>\n",
              "      <td>14.6</td>\n",
              "      <td>20.0</td>\n",
              "      <td>69.0</td>\n",
              "      <td>1024.3</td>\n",
              "      <td>8.6</td>\n",
              "      <td>5.4</td>\n",
              "      <td>152.8</td>\n",
              "      <td>2.2</td>\n",
              "      <td>1138369</td>\n",
              "      <td>11</td>\n",
              "    </tr>\n",
              "    <tr>\n",
              "      <th>71</th>\n",
              "      <td>202012</td>\n",
              "      <td>8.0</td>\n",
              "      <td>46.2</td>\n",
              "      <td>64.5</td>\n",
              "      <td>1025.7</td>\n",
              "      <td>1.4</td>\n",
              "      <td>6</td>\n",
              "      <td>139.3</td>\n",
              "      <td>2.4</td>\n",
              "      <td>623062</td>\n",
              "      <td>12</td>\n",
              "    </tr>\n",
              "  </tbody>\n",
              "</table>\n",
              "<p>72 rows × 11 columns</p>\n",
              "</div>\n",
              "      <button class=\"colab-df-convert\" onclick=\"convertToInteractive('df-15ed0595-b29d-43b0-abd3-9be0f7de2d2a')\"\n",
              "              title=\"Convert this dataframe to an interactive table.\"\n",
              "              style=\"display:none;\">\n",
              "        \n",
              "  <svg xmlns=\"http://www.w3.org/2000/svg\" height=\"24px\"viewBox=\"0 0 24 24\"\n",
              "       width=\"24px\">\n",
              "    <path d=\"M0 0h24v24H0V0z\" fill=\"none\"/>\n",
              "    <path d=\"M18.56 5.44l.94 2.06.94-2.06 2.06-.94-2.06-.94-.94-2.06-.94 2.06-2.06.94zm-11 1L8.5 8.5l.94-2.06 2.06-.94-2.06-.94L8.5 2.5l-.94 2.06-2.06.94zm10 10l.94 2.06.94-2.06 2.06-.94-2.06-.94-.94-2.06-.94 2.06-2.06.94z\"/><path d=\"M17.41 7.96l-1.37-1.37c-.4-.4-.92-.59-1.43-.59-.52 0-1.04.2-1.43.59L10.3 9.45l-7.72 7.72c-.78.78-.78 2.05 0 2.83L4 21.41c.39.39.9.59 1.41.59.51 0 1.02-.2 1.41-.59l7.78-7.78 2.81-2.81c.8-.78.8-2.07 0-2.86zM5.41 20L4 18.59l7.72-7.72 1.47 1.35L5.41 20z\"/>\n",
              "  </svg>\n",
              "      </button>\n",
              "      \n",
              "  <style>\n",
              "    .colab-df-container {\n",
              "      display:flex;\n",
              "      flex-wrap:wrap;\n",
              "      gap: 12px;\n",
              "    }\n",
              "\n",
              "    .colab-df-convert {\n",
              "      background-color: #E8F0FE;\n",
              "      border: none;\n",
              "      border-radius: 50%;\n",
              "      cursor: pointer;\n",
              "      display: none;\n",
              "      fill: #1967D2;\n",
              "      height: 32px;\n",
              "      padding: 0 0 0 0;\n",
              "      width: 32px;\n",
              "    }\n",
              "\n",
              "    .colab-df-convert:hover {\n",
              "      background-color: #E2EBFA;\n",
              "      box-shadow: 0px 1px 2px rgba(60, 64, 67, 0.3), 0px 1px 3px 1px rgba(60, 64, 67, 0.15);\n",
              "      fill: #174EA6;\n",
              "    }\n",
              "\n",
              "    [theme=dark] .colab-df-convert {\n",
              "      background-color: #3B4455;\n",
              "      fill: #D2E3FC;\n",
              "    }\n",
              "\n",
              "    [theme=dark] .colab-df-convert:hover {\n",
              "      background-color: #434B5C;\n",
              "      box-shadow: 0px 1px 3px 1px rgba(0, 0, 0, 0.15);\n",
              "      filter: drop-shadow(0px 1px 2px rgba(0, 0, 0, 0.3));\n",
              "      fill: #FFFFFF;\n",
              "    }\n",
              "  </style>\n",
              "\n",
              "      <script>\n",
              "        const buttonEl =\n",
              "          document.querySelector('#df-15ed0595-b29d-43b0-abd3-9be0f7de2d2a button.colab-df-convert');\n",
              "        buttonEl.style.display =\n",
              "          google.colab.kernel.accessAllowed ? 'block' : 'none';\n",
              "\n",
              "        async function convertToInteractive(key) {\n",
              "          const element = document.querySelector('#df-15ed0595-b29d-43b0-abd3-9be0f7de2d2a');\n",
              "          const dataTable =\n",
              "            await google.colab.kernel.invokeFunction('convertToInteractive',\n",
              "                                                     [key], {});\n",
              "          if (!dataTable) return;\n",
              "\n",
              "          const docLinkHtml = 'Like what you see? Visit the ' +\n",
              "            '<a target=\"_blank\" href=https://colab.research.google.com/notebooks/data_table.ipynb>data table notebook</a>'\n",
              "            + ' to learn more about interactive tables.';\n",
              "          element.innerHTML = '';\n",
              "          dataTable['output_type'] = 'display_data';\n",
              "          await google.colab.output.renderOutput(dataTable, element);\n",
              "          const docLink = document.createElement('div');\n",
              "          docLink.innerHTML = docLinkHtml;\n",
              "          element.appendChild(docLink);\n",
              "        }\n",
              "      </script>\n",
              "    </div>\n",
              "  </div>\n",
              "  "
            ]
          },
          "metadata": {},
          "execution_count": 13
        }
      ],
      "source": [
        "# date 컬럼의 \"월\"만 month 컬럼에 저장\n",
        "\n",
        "jeju[\"month\"] = 0\n",
        "for i in range(len(jeju)):\n",
        "    jeju[\"month\"][i] = jeju[\"date\"][i] % 100\n",
        "jeju"
      ]
    },
    {
      "cell_type": "code",
      "execution_count": 14,
      "id": "fdc19369",
      "metadata": {
        "colab": {
          "base_uri": "https://localhost:8080/"
        },
        "id": "fdc19369",
        "outputId": "06371227-eba6-487f-edbd-75c084f3c567"
      },
      "outputs": [
        {
          "output_type": "execute_result",
          "data": {
            "text/plain": [
              "36     1\n",
              "37     2\n",
              "38     3\n",
              "39     4\n",
              "40     5\n",
              "41     6\n",
              "42     7\n",
              "43     8\n",
              "44     9\n",
              "45    10\n",
              "46    11\n",
              "47    12\n",
              "Name: month, dtype: int64"
            ]
          },
          "metadata": {},
          "execution_count": 14
        }
      ],
      "source": [
        "jeju['month'][36:48]"
      ]
    },
    {
      "cell_type": "code",
      "execution_count": 15,
      "id": "QmpbBrcTmP3A",
      "metadata": {
        "id": "QmpbBrcTmP3A"
      },
      "outputs": [],
      "source": [
        "# 최종 결측값 채우기 함수\n",
        "def fill(column):\n",
        "    # 평균 구하기\n",
        "    meanList = [0 for i in range(12)]\n",
        "    \n",
        "    # '-'은 0으로 바꿔주기\n",
        "    for i in range(len(jeju[column])):\n",
        "        if jeju[column][i] == \"-\":\n",
        "            jeju[column][i] = 0\n",
        "        # sum을 리스트에 추가\n",
        "        for j in range(12):\n",
        "            if jeju[\"month\"][i] == j+1:\n",
        "                meanList[j] = meanList[j] + jeju[column][i]\n",
        "    # mean 구하기\n",
        "    meanList = [round(x/3, 1) for x in meanList]\n",
        "\n",
        "  # 평균으로 채우기\n",
        "    for i in range(len(jeju[column])):\n",
        "        if jeju[column][i] == 0:\n",
        "            for j in range(12):\n",
        "                if jeju[\"month\"][i] == j+1:\n",
        "                    jeju[column][i] = meanList[j]"
      ]
    },
    {
      "cell_type": "code",
      "execution_count": 16,
      "id": "wQVjdWYxmvCE",
      "metadata": {
        "colab": {
          "base_uri": "https://localhost:8080/"
        },
        "id": "wQVjdWYxmvCE",
        "outputId": "c2633d64-5eec-4cf5-f5e9-7f95c8543325"
      },
      "outputs": [
        {
          "output_type": "execute_result",
          "data": {
            "text/plain": [
              "13    6.4\n",
              "14    5.3\n",
              "15    5.3\n",
              "16    5.6\n",
              "17    6.9\n",
              "18    7.3\n",
              "19    6.0\n",
              "20    6.3\n",
              "21    4.6\n",
              "22    6.0\n",
              "23    6.8\n",
              "24    6.6\n",
              "25    6.4\n",
              "26    5.3\n",
              "27    5.3\n",
              "28    5.6\n",
              "29    6.9\n",
              "30    7.3\n",
              "31    6.0\n",
              "32    6.3\n",
              "33    4.6\n",
              "34    6.0\n",
              "35    6.8\n",
              "36    6.6\n",
              "37    6.4\n",
              "38    5.3\n",
              "39    5.3\n",
              "40    5.6\n",
              "41    6.9\n",
              "42    7.3\n",
              "43    6.0\n",
              "44    6.3\n",
              "45    4.6\n",
              "46    6.0\n",
              "47    6.8\n",
              "48    5.9\n",
              "49    6.8\n",
              "50    5.4\n",
              "51    5.5\n",
              "52    5.5\n",
              "53    6.2\n",
              "54    7.5\n",
              "55    6.2\n",
              "56    6.8\n",
              "57    4.8\n",
              "58      5\n",
              "59    6.8\n",
              "Name: cloud(1/10), dtype: object"
            ]
          },
          "metadata": {},
          "execution_count": 16
        }
      ],
      "source": [
        "fill(\"cloud(1/10)\")\n",
        "jeju[\"cloud(1/10)\"][13:60]"
      ]
    },
    {
      "cell_type": "markdown",
      "id": "oqy5cqOpuqVK",
      "metadata": {
        "id": "oqy5cqOpuqVK"
      },
      "source": [
        "## 시형 전처리"
      ]
    },
    {
      "cell_type": "code",
      "execution_count": 17,
      "id": "121eafaa",
      "metadata": {
        "id": "121eafaa",
        "scrolled": true
      },
      "outputs": [],
      "source": [
        "# 평균운량 결측치 채우기\n",
        "for i in range(len(jeju['cloud(1/10)'])):\n",
        "    if jeju['cloud(1/10)'][i] == '-':\n",
        "        jeju['cloud(1/10)'][i] = 0\n",
        "jeju = jeju.astype({'cloud(1/10)':'float'})\n",
        "\n",
        "for j in range(12):\n",
        "    sum=jeju['cloud(1/10)'][j]+jeju['cloud(1/10)'][j+48]+jeju['cloud(1/10)'][j+60]\n",
        "    mean = round(sum/3,1)\n",
        "    for k in range(1,4):\n",
        "        jeju['cloud(1/10)'][j+(12*k)]=mean"
      ]
    },
    {
      "cell_type": "code",
      "execution_count": 18,
      "id": "0acd3e38",
      "metadata": {
        "colab": {
          "base_uri": "https://localhost:8080/"
        },
        "id": "0acd3e38",
        "outputId": "ff1e889b-9bec-4e5a-d361-72e7df611634",
        "scrolled": true
      },
      "outputs": [
        {
          "output_type": "execute_result",
          "data": {
            "text/plain": [
              "13    6.4\n",
              "14    5.3\n",
              "15    5.3\n",
              "16    5.6\n",
              "17    6.9\n",
              "18    7.3\n",
              "19    6.0\n",
              "20    6.3\n",
              "21    4.6\n",
              "22    6.0\n",
              "23    6.8\n",
              "24    6.6\n",
              "25    6.4\n",
              "26    5.3\n",
              "27    5.3\n",
              "28    5.6\n",
              "29    6.9\n",
              "30    7.3\n",
              "31    6.0\n",
              "32    6.3\n",
              "33    4.6\n",
              "34    6.0\n",
              "35    6.8\n",
              "36    6.6\n",
              "37    6.4\n",
              "38    5.3\n",
              "39    5.3\n",
              "40    5.6\n",
              "41    6.9\n",
              "42    7.3\n",
              "43    6.0\n",
              "44    6.3\n",
              "45    4.6\n",
              "46    6.0\n",
              "47    6.8\n",
              "48    5.9\n",
              "49    6.8\n",
              "50    5.4\n",
              "51    5.5\n",
              "52    5.5\n",
              "53    6.2\n",
              "54    7.5\n",
              "55    6.2\n",
              "56    6.8\n",
              "57    4.8\n",
              "58    5.0\n",
              "59    6.8\n",
              "Name: cloud(1/10), dtype: float64"
            ]
          },
          "metadata": {},
          "execution_count": 18
        }
      ],
      "source": [
        "jeju['cloud(1/10)'][13:60]"
      ]
    },
    {
      "cell_type": "markdown",
      "id": "0f526a8b",
      "metadata": {
        "id": "0f526a8b"
      },
      "source": [
        "---"
      ]
    },
    {
      "cell_type": "markdown",
      "id": "1ab0edc2",
      "metadata": {
        "id": "1ab0edc2"
      },
      "source": [
        "## 2. EDA"
      ]
    },
    {
      "cell_type": "markdown",
      "id": "59e14d12",
      "metadata": {
        "id": "59e14d12"
      },
      "source": [
        "[heatmap 문법](https://dsbook.tistory.com/51)"
      ]
    },
    {
      "cell_type": "code",
      "execution_count": 19,
      "id": "268607c4",
      "metadata": {
        "id": "268607c4"
      },
      "outputs": [],
      "source": [
        "%matplotlib inline\n",
        "import matplotlib.pyplot as plt\n",
        "import seaborn as sns"
      ]
    },
    {
      "cell_type": "code",
      "execution_count": 20,
      "id": "82557ee8",
      "metadata": {
        "colab": {
          "base_uri": "https://localhost:8080/",
          "height": 1000
        },
        "id": "82557ee8",
        "outputId": "9d314a0e-f311-4515-e45b-acd94af36572"
      },
      "outputs": [
        {
          "output_type": "execute_result",
          "data": {
            "text/plain": [
              "<matplotlib.axes._subplots.AxesSubplot at 0x7fca6f199a90>"
            ]
          },
          "metadata": {},
          "execution_count": 20
        },
        {
          "output_type": "display_data",
          "data": {
            "text/plain": [
              "<Figure size 1440x1440 with 2 Axes>"
            ],
            "image/png": "[encoded data removed]"
          },
          "metadata": {
            "needs_background": "light"
          }
        }
      ],
      "source": [
        "# 상관계수 plot 그리기\n",
        "plt.figure(figsize=(20,20))\n",
        "sns.heatmap(jeju.corr(), annot=True)"
      ]
    },
    {
      "cell_type": "markdown",
      "id": "e488b5ff",
      "metadata": {
        "id": "e488b5ff"
      },
      "source": [
        "**r>0.8** : 강한 상관이 있다   \n",
        "**0.6<r<0.8** : 상관이 있다  \n",
        "**0.4<r<0.6** : 약한 상관이 있다  "
      ]
    },
    {
      "cell_type": "markdown",
      "id": "209173ac",
      "metadata": {
        "id": "209173ac"
      },
      "source": [
        "*total과 (어느 정도) 상관이 있어 보이는 변수* :  \n",
        "temperature, dew_point"
      ]
    },
    {
      "cell_type": "code",
      "execution_count": 21,
      "id": "9ff0ed83",
      "metadata": {
        "colab": {
          "base_uri": "https://localhost:8080/",
          "height": 550
        },
        "id": "9ff0ed83",
        "outputId": "98a61f27-c0d5-4e44-ade7-ac0778620188",
        "scrolled": false
      },
      "outputs": [
        {
          "output_type": "display_data",
          "data": {
            "text/plain": [
              "<Figure size 540x540 with 12 Axes>"
            ],
            "image/png": "[encoded data removed]"
          },
          "metadata": {
            "needs_background": "light"
          }
        }
      ],
      "source": [
        "# pairplot으로 더 살펴보기\n",
        "sns.pairplot(jeju[['total','temperature(℃)', 'dew_point(℃)']], kind='reg')\n",
        "plt.show()"
      ]
    },
    {
      "cell_type": "markdown",
      "id": "65fc2166",
      "metadata": {
        "id": "65fc2166"
      },
      "source": [
        "하지만, *temperature*과 *dew_point*로 놓고 봤을 때 **다중공선성** 문제가 의심됨     \n",
        "때문에 독립변수를 *temperature* 하나만 갖고 **단순선형회귀**로 작업하는 게 나을 듯!"
      ]
    },
    {
      "cell_type": "markdown",
      "id": "66568f60",
      "metadata": {
        "id": "66568f60"
      },
      "source": [
        "---"
      ]
    },
    {
      "cell_type": "markdown",
      "id": "638a4ba6",
      "metadata": {
        "id": "638a4ba6"
      },
      "source": [
        "---"
      ]
    },
    {
      "cell_type": "markdown",
      "id": "d48450e1",
      "metadata": {
        "id": "d48450e1"
      },
      "source": [
        "# 3. 모델링"
      ]
    },
    {
      "cell_type": "markdown",
      "id": "2fc4f988",
      "metadata": {
        "id": "2fc4f988"
      },
      "source": [
        "## 3-1. 모델링_Linear"
      ]
    },
    {
      "cell_type": "markdown",
      "id": "478a0022",
      "metadata": {
        "id": "478a0022"
      },
      "source": [
        "### 변수선택"
      ]
    },
    {
      "cell_type": "code",
      "execution_count": 22,
      "id": "d46fc949",
      "metadata": {
        "id": "d46fc949"
      },
      "outputs": [],
      "source": [
        "from sklearn.model_selection import train_test_split"
      ]
    },
    {
      "cell_type": "code",
      "execution_count": 23,
      "id": "3bafb549",
      "metadata": {
        "id": "3bafb549"
      },
      "outputs": [],
      "source": [
        "features = ['temperature(℃)']\n",
        "X = jeju[features]\n",
        "Y = jeju['total']\n",
        "\n",
        "# train_test_split\n",
        "x_train, x_test, y_train, y_test = train_test_split(X, Y, test_size=0.2,  random_state=97 )"
      ]
    },
    {
      "cell_type": "code",
      "execution_count": 24,
      "id": "c274391e",
      "metadata": {
        "colab": {
          "base_uri": "https://localhost:8080/"
        },
        "id": "c274391e",
        "outputId": "d304cdc6-7272-4c54-d2fb-c13bd7207ad5",
        "scrolled": true
      },
      "outputs": [
        {
          "output_type": "stream",
          "name": "stdout",
          "text": [
            "(57, 1)\n",
            "(15, 1)\n",
            "(57,)\n",
            "(15,)\n"
          ]
        }
      ],
      "source": [
        "print(x_train.shape)\n",
        "print(x_test.shape)\n",
        "print(y_train.shape)\n",
        "print(y_test.shape)"
      ]
    },
    {
      "cell_type": "markdown",
      "id": "a3290804",
      "metadata": {
        "id": "a3290804"
      },
      "source": [
        "### 모델링"
      ]
    },
    {
      "cell_type": "code",
      "execution_count": 25,
      "id": "bc1aee33",
      "metadata": {
        "id": "bc1aee33"
      },
      "outputs": [],
      "source": [
        "from sklearn.linear_model import LinearRegression\n",
        "from sklearn.metrics import mean_squared_error, r2_score, mean_absolute_percentage_error"
      ]
    },
    {
      "cell_type": "code",
      "execution_count": 26,
      "id": "71c6828c",
      "metadata": {
        "colab": {
          "base_uri": "https://localhost:8080/"
        },
        "id": "71c6828c",
        "outputId": "1224081c-7223-40d1-df81-dc089bea5e45"
      },
      "outputs": [
        {
          "output_type": "execute_result",
          "data": {
            "text/plain": [
              "LinearRegression()"
            ]
          },
          "metadata": {},
          "execution_count": 26
        }
      ],
      "source": [
        "linear = LinearRegression()\n",
        "linear.fit(x_train, y_train)"
      ]
    },
    {
      "cell_type": "code",
      "execution_count": 27,
      "id": "9096c7a8",
      "metadata": {
        "colab": {
          "base_uri": "https://localhost:8080/"
        },
        "id": "9096c7a8",
        "outputId": "bf5cc00e-3a88-4c24-fbb8-fa7ec540d619"
      },
      "outputs": [
        {
          "output_type": "execute_result",
          "data": {
            "text/plain": [
              "array([1039506.6852639 ,  923589.99209105, 1117624.45674994,\n",
              "       1110064.67241258,  937449.59670954, 1110064.67241258,\n",
              "        895870.78285407, 1048326.43365748, 1089905.24751296,\n",
              "       1141563.77381825,  952569.16538426, 1062186.03827597,\n",
              "        972728.59028389, 1006747.61980201, 1128964.13325598])"
            ]
          },
          "metadata": {},
          "execution_count": 27
        }
      ],
      "source": [
        "y_pred_linear = linear.predict(x_test)\n",
        "y_pred_linear"
      ]
    },
    {
      "cell_type": "code",
      "execution_count": 28,
      "id": "f60a2160",
      "metadata": {
        "colab": {
          "base_uri": "https://localhost:8080/"
        },
        "id": "f60a2160",
        "outputId": "1b175a64-5625-4601-8216-b7320798e390"
      },
      "outputs": [
        {
          "output_type": "stream",
          "name": "stdout",
          "text": [
            "RMSE: 136488.25271320628\n",
            "R2 Score: -0.08057096648892781\n",
            "MAPE: 0.11081960648237683\n"
          ]
        }
      ],
      "source": [
        "print(f\"RMSE: {mean_squared_error(y_test, y_pred_linear, squared=False)}\")\n",
        "print(f\"R2 Score: {r2_score(y_test, y_pred_linear)}\")\n",
        "print(f\"MAPE: {mean_absolute_percentage_error(y_test, y_pred_linear)}\")"
      ]
    },
    {
      "cell_type": "markdown",
      "id": "82f89083",
      "metadata": {
        "id": "82f89083"
      },
      "source": [
        "---"
      ]
    },
    {
      "cell_type": "markdown",
      "id": "46595634",
      "metadata": {
        "id": "46595634"
      },
      "source": [
        "## 3-2. 모델링_Lasso"
      ]
    },
    {
      "cell_type": "markdown",
      "id": "4cab64b0",
      "metadata": {
        "id": "4cab64b0"
      },
      "source": [
        "### 변수선택"
      ]
    },
    {
      "cell_type": "code",
      "execution_count": 29,
      "id": "49112b82",
      "metadata": {
        "id": "49112b82"
      },
      "outputs": [],
      "source": [
        "from sklearn.model_selection import train_test_split"
      ]
    },
    {
      "cell_type": "code",
      "execution_count": 30,
      "id": "df52ddae",
      "metadata": {
        "id": "df52ddae"
      },
      "outputs": [],
      "source": [
        "features = ['temperature(℃)','dew_point(℃)']\n",
        "X = jeju[features]\n",
        "Y = jeju['total']\n",
        "\n",
        "# train_test_split\n",
        "x_train, x_test, y_train, y_test = train_test_split(X, Y, test_size=0.2,  random_state=97 )"
      ]
    },
    {
      "cell_type": "code",
      "execution_count": 31,
      "id": "fe645114",
      "metadata": {
        "colab": {
          "base_uri": "https://localhost:8080/"
        },
        "id": "fe645114",
        "outputId": "117eb837-ab55-4dc2-a08b-455c8235e0fb"
      },
      "outputs": [
        {
          "output_type": "stream",
          "name": "stdout",
          "text": [
            "(57, 2)\n",
            "(15, 2)\n",
            "(57,)\n",
            "(15,)\n"
          ]
        }
      ],
      "source": [
        "print(x_train.shape)\n",
        "print(x_test.shape)\n",
        "print(y_train.shape)\n",
        "print(y_test.shape)"
      ]
    },
    {
      "cell_type": "markdown",
      "id": "fb8d8534",
      "metadata": {
        "id": "fb8d8534"
      },
      "source": [
        "### 모델링"
      ]
    },
    {
      "cell_type": "code",
      "execution_count": 32,
      "id": "4bb1da36",
      "metadata": {
        "id": "4bb1da36"
      },
      "outputs": [],
      "source": [
        "from sklearn.linear_model import Lasso\n",
        "from sklearn.metrics import mean_squared_error, r2_score, mean_absolute_percentage_error"
      ]
    },
    {
      "cell_type": "code",
      "execution_count": 33,
      "id": "f19c94f3",
      "metadata": {
        "colab": {
          "base_uri": "https://localhost:8080/"
        },
        "id": "f19c94f3",
        "outputId": "f0380a61-ac56-425b-ac77-a1ee91db3dcd"
      },
      "outputs": [
        {
          "output_type": "execute_result",
          "data": {
            "text/plain": [
              "Lasso(alpha=0.01)"
            ]
          },
          "metadata": {},
          "execution_count": 33
        }
      ],
      "source": [
        "Lasso = Lasso(alpha = 0.01)\n",
        "Lasso.fit(x_train,y_train)"
      ]
    },
    {
      "cell_type": "code",
      "execution_count": 34,
      "id": "a32a72f0",
      "metadata": {
        "id": "a32a72f0",
        "colab": {
          "base_uri": "https://localhost:8080/"
        },
        "outputId": "ada20dd7-366b-4e9b-9682-221267edbb39"
      },
      "outputs": [
        {
          "output_type": "execute_result",
          "data": {
            "text/plain": [
              "array([1067054.02300157,  910460.28342096, 1089026.09677053,\n",
              "       1124907.99883053,  947013.51427146, 1089164.61293164,\n",
              "        888415.80157551, 1078594.1245305 , 1087406.4068673 ,\n",
              "       1128373.25489779,  931417.88799257, 1053872.97955434,\n",
              "        984238.07391247, 1008507.46636704, 1127753.08216872])"
            ]
          },
          "metadata": {},
          "execution_count": 34
        }
      ],
      "source": [
        "y_pred_lasso = Lasso.predict(x_test)\n",
        "y_pred_lasso"
      ]
    },
    {
      "cell_type": "code",
      "execution_count": 35,
      "id": "144837db",
      "metadata": {
        "colab": {
          "base_uri": "https://localhost:8080/"
        },
        "id": "144837db",
        "outputId": "82f6a390-0864-42a3-c5a1-672a59ff0fc3"
      },
      "outputs": [
        {
          "output_type": "stream",
          "name": "stdout",
          "text": [
            "RMSE: 136721.00255182383\n",
            "R2 Score: -0.08425944741760305\n",
            "MAPE: 0.1104437898914037\n"
          ]
        }
      ],
      "source": [
        "print(f\"RMSE: {mean_squared_error(y_test, y_pred_lasso, squared=False)}\")\n",
        "print(f\"R2 Score: {r2_score(y_test, y_pred_lasso)}\")\n",
        "print(f\"MAPE: {mean_absolute_percentage_error(y_test, y_pred_lasso)}\")"
      ]
    },
    {
      "cell_type": "markdown",
      "id": "e6c98692",
      "metadata": {
        "id": "e6c98692"
      },
      "source": [
        "---"
      ]
    },
    {
      "cell_type": "markdown",
      "id": "cbbb67bb",
      "metadata": {
        "id": "cbbb67bb"
      },
      "source": [
        "## 3-3. 모델링_Ridge"
      ]
    },
    {
      "cell_type": "markdown",
      "id": "9b549ede",
      "metadata": {
        "id": "9b549ede"
      },
      "source": [
        "### 변수선택"
      ]
    },
    {
      "cell_type": "code",
      "execution_count": 36,
      "id": "f3fcdc45",
      "metadata": {
        "id": "f3fcdc45"
      },
      "outputs": [],
      "source": [
        "from sklearn.model_selection import train_test_split"
      ]
    },
    {
      "cell_type": "code",
      "execution_count": 37,
      "id": "4c198bd0",
      "metadata": {
        "id": "4c198bd0"
      },
      "outputs": [],
      "source": [
        "features = ['temperature(℃)','dew_point(℃)']\n",
        "X = jeju[features]\n",
        "Y = jeju['total']\n",
        "\n",
        "# train_test_split\n",
        "x_train, x_test, y_train, y_test = train_test_split(X, Y, test_size=0.2,  random_state=97 )"
      ]
    },
    {
      "cell_type": "code",
      "execution_count": 38,
      "id": "c57522a6",
      "metadata": {
        "colab": {
          "base_uri": "https://localhost:8080/"
        },
        "id": "c57522a6",
        "outputId": "b36bdaa7-3cb8-4155-b4e8-50892a3c3a9d"
      },
      "outputs": [
        {
          "output_type": "stream",
          "name": "stdout",
          "text": [
            "(57, 2)\n",
            "(15, 2)\n",
            "(57,)\n",
            "(15,)\n"
          ]
        }
      ],
      "source": [
        "print(x_train.shape)\n",
        "print(x_test.shape)\n",
        "print(y_train.shape)\n",
        "print(y_test.shape)"
      ]
    },
    {
      "cell_type": "markdown",
      "id": "a7b39d3a",
      "metadata": {
        "id": "a7b39d3a"
      },
      "source": [
        "### 모델링"
      ]
    },
    {
      "cell_type": "code",
      "execution_count": 39,
      "id": "b1251888",
      "metadata": {
        "id": "b1251888"
      },
      "outputs": [],
      "source": [
        "from sklearn.linear_model import Ridge\n",
        "from sklearn.metrics import mean_squared_error, r2_score, mean_absolute_percentage_error"
      ]
    },
    {
      "cell_type": "code",
      "execution_count": 40,
      "id": "10b7df41",
      "metadata": {
        "colab": {
          "base_uri": "https://localhost:8080/"
        },
        "id": "10b7df41",
        "outputId": "0c0293ba-0281-45a4-dfb4-e0ff35f210c4"
      },
      "outputs": [
        {
          "output_type": "execute_result",
          "data": {
            "text/plain": [
              "Ridge()"
            ]
          },
          "metadata": {},
          "execution_count": 40
        }
      ],
      "source": [
        "ridge = Ridge()\n",
        "ridge.fit(x_train, y_train)"
      ]
    },
    {
      "cell_type": "code",
      "execution_count": 41,
      "id": "14b33c7e",
      "metadata": {
        "colab": {
          "base_uri": "https://localhost:8080/"
        },
        "id": "14b33c7e",
        "outputId": "6096a6d3-4861-43c5-8e8b-a17a8ee61bdf",
        "scrolled": true
      },
      "outputs": [
        {
          "output_type": "execute_result",
          "data": {
            "text/plain": [
              "array([1065797.77312669,  911117.73332188, 1090233.79879148,\n",
              "       1124169.84598863,  946641.18900956, 1090032.12646212,\n",
              "        888838.99269869, 1077209.09664165, 1087462.32646915,\n",
              "       1128870.96087884,  932414.08244263, 1054210.74742673,\n",
              "        983752.05318775, 1008434.06191155, 1127722.03748404])"
            ]
          },
          "metadata": {},
          "execution_count": 41
        }
      ],
      "source": [
        "y_pred_ridge = ridge.predict(x_test)\n",
        "y_pred_ridge"
      ]
    },
    {
      "cell_type": "code",
      "execution_count": 42,
      "id": "f83e185e",
      "metadata": {
        "colab": {
          "base_uri": "https://localhost:8080/"
        },
        "id": "f83e185e",
        "outputId": "fb51186c-6be9-44ba-f111-339b23f8b52a"
      },
      "outputs": [
        {
          "output_type": "stream",
          "name": "stdout",
          "text": [
            "RMSE: 136646.44325052894\n",
            "R2 Score: -0.08307719184215379\n",
            "MAPE: 0.11045329530614742\n"
          ]
        }
      ],
      "source": [
        "print(f\"RMSE: {mean_squared_error(y_test, y_pred_ridge, squared=False)}\")\n",
        "print(f\"R2 Score: {r2_score(y_test, y_pred_ridge)}\")\n",
        "print(f\"MAPE: {mean_absolute_percentage_error(y_test, y_pred_ridge)}\")"
      ]
    },
    {
      "cell_type": "markdown",
      "id": "f284521e",
      "metadata": {
        "id": "f284521e"
      },
      "source": [
        "---"
      ]
    },
    {
      "cell_type": "markdown",
      "id": "85a7b92d",
      "metadata": {
        "id": "85a7b92d"
      },
      "source": [
        "## 3-4. 모델링_Random Forest"
      ]
    },
    {
      "cell_type": "markdown",
      "id": "c3650424",
      "metadata": {
        "id": "c3650424"
      },
      "source": [
        "### 변수선택"
      ]
    },
    {
      "cell_type": "code",
      "execution_count": 43,
      "id": "231a3085",
      "metadata": {
        "id": "231a3085"
      },
      "outputs": [],
      "source": [
        "from sklearn.model_selection import train_test_split"
      ]
    },
    {
      "cell_type": "code",
      "execution_count": 44,
      "id": "bf219bcb",
      "metadata": {
        "id": "bf219bcb"
      },
      "outputs": [],
      "source": [
        "features = ['temperature(℃)','dew_point(℃)']\n",
        "X = jeju[features]\n",
        "Y = jeju['total']\n",
        "\n",
        "# train_test_split\n",
        "x_train, x_test, y_train, y_test = train_test_split(X, Y, test_size=0.2,  random_state=97 )"
      ]
    },
    {
      "cell_type": "code",
      "execution_count": 45,
      "id": "0ccde3ad",
      "metadata": {
        "colab": {
          "base_uri": "https://localhost:8080/"
        },
        "id": "0ccde3ad",
        "outputId": "327cc7dc-a7d8-4392-9d22-64f62131e5f5"
      },
      "outputs": [
        {
          "output_type": "stream",
          "name": "stdout",
          "text": [
            "(57, 2)\n",
            "(15, 2)\n",
            "(57,)\n",
            "(15,)\n"
          ]
        }
      ],
      "source": [
        "print(x_train.shape)\n",
        "print(x_test.shape)\n",
        "print(y_train.shape)\n",
        "print(y_test.shape)"
      ]
    },
    {
      "cell_type": "markdown",
      "id": "6d52de45",
      "metadata": {
        "id": "6d52de45"
      },
      "source": [
        "### 모델링"
      ]
    },
    {
      "cell_type": "code",
      "execution_count": 46,
      "id": "211fa0d0",
      "metadata": {
        "id": "211fa0d0"
      },
      "outputs": [],
      "source": [
        "from sklearn import ensemble\n",
        "from sklearn.ensemble import RandomForestRegressor\n",
        "from sklearn.metrics import mean_squared_error, r2_score"
      ]
    },
    {
      "cell_type": "code",
      "execution_count": 47,
      "id": "fbbaee07",
      "metadata": {
        "colab": {
          "base_uri": "https://localhost:8080/"
        },
        "id": "fbbaee07",
        "outputId": "6be2372d-b628-4052-bcec-60a81fafee96"
      },
      "outputs": [
        {
          "output_type": "stream",
          "name": "stdout",
          "text": [
            "nTrees :  1 depths :  None\n",
            "RMSE :  228166.45149144955\n",
            "R2 :  -2.0197175474690647\n",
            "MAPE :  6.200651345138279\n",
            "----------------------------------------------------------------------\n",
            "nTrees :  1 depths :  5\n",
            "RMSE :  225755.70185781983\n",
            "R2 :  -1.9562434938450983\n",
            "MAPE :  6.704527319265531\n",
            "----------------------------------------------------------------------\n",
            "nTrees :  1 depths :  10\n",
            "RMSE :  228166.45149144955\n",
            "R2 :  -2.0197175474690647\n",
            "MAPE :  6.200651345138279\n",
            "----------------------------------------------------------------------\n",
            "nTrees :  10 depths :  None\n",
            "RMSE :  195932.24168152962\n",
            "R2 :  -1.2267658943002968\n",
            "MAPE :  5.967376134827151\n",
            "----------------------------------------------------------------------\n",
            "nTrees :  10 depths :  5\n",
            "RMSE :  192022.8274071953\n",
            "R2 :  -1.1387915838563933\n",
            "MAPE :  5.3725537751902035\n",
            "----------------------------------------------------------------------\n",
            "nTrees :  10 depths :  10\n",
            "RMSE :  195932.24168152962\n",
            "R2 :  -1.2267658943002968\n",
            "MAPE :  5.967376134827151\n",
            "----------------------------------------------------------------------\n",
            "nTrees :  50 depths :  None\n",
            "RMSE :  177769.6869513036\n",
            "R2 :  -0.8330662508480169\n",
            "MAPE :  5.345410007744311\n",
            "----------------------------------------------------------------------\n",
            "nTrees :  50 depths :  5\n",
            "RMSE :  172556.2048211217\n",
            "R2 :  -0.7271255426578331\n",
            "MAPE :  4.139293480656602\n",
            "----------------------------------------------------------------------\n",
            "nTrees :  50 depths :  10\n",
            "RMSE :  177705.4504242448\n",
            "R2 :  -0.8317417445435149\n",
            "MAPE :  5.338412537256086\n",
            "----------------------------------------------------------------------\n",
            "nTrees :  100 depths :  None\n",
            "RMSE :  180116.2112610568\n",
            "R2 :  -0.8817778503439628\n",
            "MAPE :  5.319497372483043\n",
            "----------------------------------------------------------------------\n",
            "nTrees :  100 depths :  5\n",
            "RMSE :  178061.75626225234\n",
            "R2 :  -0.8390945249950101\n",
            "MAPE :  4.101124412993121\n",
            "----------------------------------------------------------------------\n",
            "nTrees :  100 depths :  10\n",
            "RMSE :  180017.3541591351\n",
            "R2 :  -0.8797127829878355\n",
            "MAPE :  5.322125452094394\n",
            "----------------------------------------------------------------------\n",
            "nTrees :  200 depths :  None\n",
            "RMSE :  184960.07661159607\n",
            "R2 :  -0.984352120227596\n",
            "MAPE :  5.144007408601468\n",
            "----------------------------------------------------------------------\n",
            "nTrees :  200 depths :  5\n",
            "RMSE :  180541.48076772183\n",
            "R2 :  -0.8906744119164882\n",
            "MAPE :  4.269645692518886\n",
            "----------------------------------------------------------------------\n",
            "nTrees :  200 depths :  10\n",
            "RMSE :  184809.95713506496\n",
            "R2 :  -0.9811323009180324\n",
            "MAPE :  5.172684028095197\n",
            "----------------------------------------------------------------------\n"
          ]
        }
      ],
      "source": [
        "nTreeList = [1, 10, 50, 100, 200]\n",
        "depths = [None, 5, 10]\n",
        "RMSE = []\n",
        "R2 = []\n",
        "MAPE = []\n",
        "\n",
        "def mapefunc(y, pred):\n",
        "    return np.mean((y-pred)/y * 100)\n",
        "\n",
        "for iTrees in nTreeList:\n",
        "    for depth in depths:\n",
        "        Forest = RandomForestRegressor(n_estimators=iTrees, max_depth=depth, oob_score=False, random_state=42)\n",
        "        Forest.fit(x_train, y_train)\n",
        "        y_pred_forest = Forest.predict(x_test)\n",
        "        \n",
        "        mse = mean_squared_error(y_test, y_pred_forest) \n",
        "        rmse = np.sqrt(mse)\n",
        "        RMSE.append(rmse)\n",
        "        \n",
        "        r2 = r2_score(y_test, y_pred_forest)\n",
        "        R2.append(r2)\n",
        "        \n",
        "        mape = mapefunc(y_test, y_pred_forest)\n",
        "        MAPE.append(mape)\n",
        "        \n",
        "        print(\"nTrees : \", iTrees, \"depths : \", depth)\n",
        "        print(\"RMSE : \", rmse)\n",
        "        print(\"R2 : \", r2)\n",
        "        print(\"MAPE : \", mape)\n",
        "        print('-'*70)"
      ]
    },
    {
      "cell_type": "code",
      "execution_count": 48,
      "id": "60424e73",
      "metadata": {
        "colab": {
          "base_uri": "https://localhost:8080/"
        },
        "id": "60424e73",
        "outputId": "b2477d15-5b0c-4a44-9dcb-ab29e6dd0219"
      },
      "outputs": [
        {
          "output_type": "execute_result",
          "data": {
            "text/plain": [
              "[3.0197175474690647,\n",
              " 2.9562434938450983,\n",
              " 3.0197175474690647,\n",
              " 2.226765894300297,\n",
              " 2.1387915838563933,\n",
              " 2.226765894300297,\n",
              " 1.8330662508480169,\n",
              " 1.7271255426578331,\n",
              " 1.831741744543515,\n",
              " 1.8817778503439628,\n",
              " 1.8390945249950101,\n",
              " 1.8797127829878355,\n",
              " 1.984352120227596,\n",
              " 1.8906744119164882,\n",
              " 1.9811323009180324]"
            ]
          },
          "metadata": {},
          "execution_count": 48
        }
      ],
      "source": [
        "new_R2 = []\n",
        "for i in R2:\n",
        "    new_R2.append(abs(1-i))\n",
        "new_R2"
      ]
    },
    {
      "cell_type": "code",
      "execution_count": 52,
      "id": "3af44e16",
      "metadata": {
        "colab": {
          "base_uri": "https://localhost:8080/"
        },
        "id": "3af44e16",
        "outputId": "d798628e-fc47-404f-e28c-2f6dacbd700b"
      },
      "outputs": [
        {
          "output_type": "stream",
          "name": "stdout",
          "text": [
            "lowest RMSE :  172556.2048211217 index :  7\n",
            "----------------------------------------------------------------------\n",
            "best R2 :  -0.7271255426578331 index :  7\n",
            "----------------------------------------------------------------------\n",
            "lowest MAPE :  4.101124412993121 index :  10\n"
          ]
        }
      ],
      "source": [
        "print(\"lowest RMSE : \", min(RMSE), \"index : \", RMSE.index(min(RMSE)))\n",
        "print('-'*70)\n",
        "\n",
        "print(\"best R2 : \", R2[new_R2.index(min(new_R2))], \"index : \", new_R2.index(min(new_R2)))\n",
        "print('-'*70)\n",
        "\n",
        "print(\"lowest MAPE : \", min(MAPE), \"index : \", MAPE.index(min(MAPE)))"
      ]
    },
    {
      "cell_type": "markdown",
      "id": "98921d4c",
      "metadata": {
        "id": "98921d4c"
      },
      "source": [
        "* RMSE : 값이 낮을수록 좋다.\n",
        "* R2 : 1에 가까울 수록 좋다.\n",
        "* MAPE : 값이 낮을수록 좋다. 다른 모델과 에러율 비교가 쉬움"
      ]
    }
  ],
  "metadata": {
    "colab": {
      "provenance": []
    },
    "kernelspec": {
      "display_name": "Python 3 (ipykernel)",
      "language": "python",
      "name": "python3"
    },
    "language_info": {
      "codemirror_mode": {
        "name": "ipython",
        "version": 3
      },
      "file_extension": ".py",
      "mimetype": "text/x-python",
      "name": "python",
      "nbconvert_exporter": "python",
      "pygments_lexer": "ipython3",
      "version": "3.9.12"
    }
  },
  "nbformat": 4,
  "nbformat_minor": 5
}