{
 "cells": [
  {
   "cell_type": "markdown",
   "id": "14efb186",
   "metadata": {
    "id": "14efb186"
   },
   "source": [
    "# 제주도 날씨 데이터를 활용한 관광객 수 예측 모델"
   ]
  },
  {
   "cell_type": "markdown",
   "id": "97815fbb",
   "metadata": {
    "id": "97815fbb"
   },
   "source": [
    "## 1. 데이터 불러오기"
   ]
  },
  {
   "cell_type": "code",
   "execution_count": 1,
   "id": "0b5dd1b0",
   "metadata": {
    "id": "0b5dd1b0"
   },
   "outputs": [],
   "source": [
    "import pandas as pd\n",
    "import numpy as np\n",
    "\n",
    "import warnings\n",
    "warnings.filterwarnings(action='ignore')"
   ]
  },
  {
   "cell_type": "code",
   "execution_count": 3,
   "id": "7a1112c2",
   "metadata": {
    "colab": {
     "base_uri": "https://localhost:8080/",
     "height": 372
    },
    "id": "7a1112c2",
    "outputId": "25624da4-5e78-4dc1-c0dd-7808b4db1626",
    "scrolled": true
   },
   "outputs": [
    {
     "data": {
      "text/html": [
       "<div>\n",
       "<style scoped>\n",
       "    .dataframe tbody tr th:only-of-type {\n",
       "        vertical-align: middle;\n",
       "    }\n",
       "\n",
       "    .dataframe tbody tr th {\n",
       "        vertical-align: top;\n",
       "    }\n",
       "\n",
       "    .dataframe thead th {\n",
       "        text-align: right;\n",
       "    }\n",
       "</style>\n",
       "<table border=\"1\" class=\"dataframe\">\n",
       "  <thead>\n",
       "    <tr style=\"text-align: right;\">\n",
       "      <th></th>\n",
       "      <th>구분연월</th>\n",
       "      <th>행태별 - 개별여행</th>\n",
       "      <th>행태별 - 부분패키지</th>\n",
       "      <th>행태별 - 패키지</th>\n",
       "      <th>목적별 - 레저스포츠</th>\n",
       "      <th>목적별 - 회의및업무</th>\n",
       "      <th>목적별 - 휴양및관람</th>\n",
       "      <th>목적별 - 친지방문</th>\n",
       "      <th>목적별 - 교육여행</th>\n",
       "      <th>목적별 - 기타방문</th>\n",
       "    </tr>\n",
       "  </thead>\n",
       "  <tbody>\n",
       "    <tr>\n",
       "      <th>0</th>\n",
       "      <td>2015-01-01</td>\n",
       "      <td>624526</td>\n",
       "      <td>96124</td>\n",
       "      <td>72018</td>\n",
       "      <td>127063</td>\n",
       "      <td>75791</td>\n",
       "      <td>521304</td>\n",
       "      <td>55457</td>\n",
       "      <td>3621</td>\n",
       "      <td>9432</td>\n",
       "    </tr>\n",
       "    <tr>\n",
       "      <th>1</th>\n",
       "      <td>2015-02-01</td>\n",
       "      <td>595357</td>\n",
       "      <td>103768</td>\n",
       "      <td>22462</td>\n",
       "      <td>134718</td>\n",
       "      <td>72552</td>\n",
       "      <td>459032</td>\n",
       "      <td>43058</td>\n",
       "      <td>202</td>\n",
       "      <td>12025</td>\n",
       "    </tr>\n",
       "    <tr>\n",
       "      <th>2</th>\n",
       "      <td>2015-03-01</td>\n",
       "      <td>635832</td>\n",
       "      <td>110797</td>\n",
       "      <td>45085</td>\n",
       "      <td>143528</td>\n",
       "      <td>78294</td>\n",
       "      <td>490004</td>\n",
       "      <td>44581</td>\n",
       "      <td>20466</td>\n",
       "      <td>14841</td>\n",
       "    </tr>\n",
       "    <tr>\n",
       "      <th>3</th>\n",
       "      <td>2015-04-01</td>\n",
       "      <td>600794</td>\n",
       "      <td>221013</td>\n",
       "      <td>117518</td>\n",
       "      <td>146259</td>\n",
       "      <td>83467</td>\n",
       "      <td>623087</td>\n",
       "      <td>27927</td>\n",
       "      <td>44893</td>\n",
       "      <td>13662</td>\n",
       "    </tr>\n",
       "    <tr>\n",
       "      <th>4</th>\n",
       "      <td>2015-05-01</td>\n",
       "      <td>760163</td>\n",
       "      <td>134508</td>\n",
       "      <td>120668</td>\n",
       "      <td>179944</td>\n",
       "      <td>87166</td>\n",
       "      <td>628479</td>\n",
       "      <td>29779</td>\n",
       "      <td>71746</td>\n",
       "      <td>18225</td>\n",
       "    </tr>\n",
       "  </tbody>\n",
       "</table>\n",
       "</div>"
      ],
      "text/plain": [
       "        구분연월  행태별 - 개별여행  행태별 - 부분패키지  행태별 - 패키지  목적별 - 레저스포츠  목적별 - 회의및업무  \\\n",
       "0 2015-01-01      624526        96124      72018       127063        75791   \n",
       "1 2015-02-01      595357       103768      22462       134718        72552   \n",
       "2 2015-03-01      635832       110797      45085       143528        78294   \n",
       "3 2015-04-01      600794       221013     117518       146259        83467   \n",
       "4 2015-05-01      760163       134508     120668       179944        87166   \n",
       "\n",
       "   목적별 - 휴양및관람  목적별 - 친지방문  목적별 - 교육여행  목적별 - 기타방문  \n",
       "0       521304       55457        3621        9432  \n",
       "1       459032       43058         202       12025  \n",
       "2       490004       44581       20466       14841  \n",
       "3       623087       27927       44893       13662  \n",
       "4       628479       29779       71746       18225  "
      ]
     },
     "execution_count": 3,
     "metadata": {},
     "output_type": "execute_result"
    }
   ],
   "source": [
    "# 제주 내국인 관광객 수 데이터(2015 ~2020)\n",
    "df = pd.read_excel('jeju_tourist.xlsx')\n",
    "df.head()"
   ]
  },
  {
   "cell_type": "code",
   "execution_count": 4,
   "id": "04b111c9",
   "metadata": {
    "colab": {
     "base_uri": "https://localhost:8080/",
     "height": 206
    },
    "id": "04b111c9",
    "outputId": "5bef557e-566f-4af2-8d15-5f2f8ad47ab5"
   },
   "outputs": [
    {
     "data": {
      "text/html": [
       "<div>\n",
       "<style scoped>\n",
       "    .dataframe tbody tr th:only-of-type {\n",
       "        vertical-align: middle;\n",
       "    }\n",
       "\n",
       "    .dataframe tbody tr th {\n",
       "        vertical-align: top;\n",
       "    }\n",
       "\n",
       "    .dataframe thead th {\n",
       "        text-align: right;\n",
       "    }\n",
       "</style>\n",
       "<table border=\"1\" class=\"dataframe\">\n",
       "  <thead>\n",
       "    <tr style=\"text-align: right;\">\n",
       "      <th></th>\n",
       "      <th>total</th>\n",
       "    </tr>\n",
       "  </thead>\n",
       "  <tbody>\n",
       "    <tr>\n",
       "      <th>0</th>\n",
       "      <td>792668</td>\n",
       "    </tr>\n",
       "    <tr>\n",
       "      <th>1</th>\n",
       "      <td>721587</td>\n",
       "    </tr>\n",
       "    <tr>\n",
       "      <th>2</th>\n",
       "      <td>791714</td>\n",
       "    </tr>\n",
       "    <tr>\n",
       "      <th>3</th>\n",
       "      <td>939325</td>\n",
       "    </tr>\n",
       "    <tr>\n",
       "      <th>4</th>\n",
       "      <td>1015339</td>\n",
       "    </tr>\n",
       "  </tbody>\n",
       "</table>\n",
       "</div>"
      ],
      "text/plain": [
       "     total\n",
       "0   792668\n",
       "1   721587\n",
       "2   791714\n",
       "3   939325\n",
       "4  1015339"
      ]
     },
     "execution_count": 4,
     "metadata": {},
     "output_type": "execute_result"
    }
   ],
   "source": [
    "# 월별 관광객 수: 형태별(개별여행), 형태별(부분 패키지), 형태별(패키지) 컬럼 값 병합\n",
    "total = df.iloc[:,1] + df.iloc[:,2] + df.iloc[:,3]\n",
    "total = pd.DataFrame(total, columns=['total'])\n",
    "total.head()"
   ]
  },
  {
   "cell_type": "markdown",
   "id": "f2285a9d",
   "metadata": {
    "id": "f2285a9d"
   },
   "source": [
    "---"
   ]
  },
  {
   "cell_type": "code",
   "execution_count": 5,
   "id": "3bf82ce5",
   "metadata": {
    "colab": {
     "base_uri": "https://localhost:8080/",
     "height": 222
    },
    "id": "3bf82ce5",
    "outputId": "0ea978a8-9b40-4a34-d2a5-1a7f7b737443",
    "scrolled": true
   },
   "outputs": [
    {
     "data": {
      "text/html": [
       "<div>\n",
       "<style scoped>\n",
       "    .dataframe tbody tr th:only-of-type {\n",
       "        vertical-align: middle;\n",
       "    }\n",
       "\n",
       "    .dataframe tbody tr th {\n",
       "        vertical-align: top;\n",
       "    }\n",
       "\n",
       "    .dataframe thead th {\n",
       "        text-align: right;\n",
       "    }\n",
       "</style>\n",
       "<table border=\"1\" class=\"dataframe\">\n",
       "  <thead>\n",
       "    <tr style=\"text-align: right;\">\n",
       "      <th></th>\n",
       "      <th>내용</th>\n",
       "      <th>평균기온 (℃)</th>\n",
       "      <th>평균강수량 (mm)</th>\n",
       "      <th>평균상대습도 (%)</th>\n",
       "      <th>평균해면기압 (hPa)</th>\n",
       "      <th>이슬점온도 (℃)</th>\n",
       "      <th>평균운량 (1/10)</th>\n",
       "      <th>일조시간 (hr)</th>\n",
       "      <th>최심신적설 (cm)</th>\n",
       "      <th>평균풍속 (m/s)</th>\n",
       "    </tr>\n",
       "  </thead>\n",
       "  <tbody>\n",
       "    <tr>\n",
       "      <th>0</th>\n",
       "      <td>201501</td>\n",
       "      <td>7.4</td>\n",
       "      <td>82.4</td>\n",
       "      <td>66.0</td>\n",
       "      <td>1024.6</td>\n",
       "      <td>1.2</td>\n",
       "      <td>6.5</td>\n",
       "      <td>94.2</td>\n",
       "      <td>1.8</td>\n",
       "      <td>3.9</td>\n",
       "    </tr>\n",
       "    <tr>\n",
       "      <th>1</th>\n",
       "      <td>201502</td>\n",
       "      <td>7.3</td>\n",
       "      <td>35.5</td>\n",
       "      <td>64.0</td>\n",
       "      <td>1022.7</td>\n",
       "      <td>0.7</td>\n",
       "      <td>6.5</td>\n",
       "      <td>93.5</td>\n",
       "      <td>0.5</td>\n",
       "      <td>3.7</td>\n",
       "    </tr>\n",
       "    <tr>\n",
       "      <th>2</th>\n",
       "      <td>201503</td>\n",
       "      <td>10.4</td>\n",
       "      <td>80.7</td>\n",
       "      <td>64.0</td>\n",
       "      <td>1021.9</td>\n",
       "      <td>3.3</td>\n",
       "      <td>5.3</td>\n",
       "      <td>183.8</td>\n",
       "      <td>-</td>\n",
       "      <td>2.9</td>\n",
       "    </tr>\n",
       "    <tr>\n",
       "      <th>3</th>\n",
       "      <td>201504</td>\n",
       "      <td>15.1</td>\n",
       "      <td>147.9</td>\n",
       "      <td>71.0</td>\n",
       "      <td>1015.9</td>\n",
       "      <td>9.0</td>\n",
       "      <td>6.2</td>\n",
       "      <td>163.4</td>\n",
       "      <td>-</td>\n",
       "      <td>2.9</td>\n",
       "    </tr>\n",
       "    <tr>\n",
       "      <th>4</th>\n",
       "      <td>201505</td>\n",
       "      <td>18.8</td>\n",
       "      <td>150.0</td>\n",
       "      <td>68.0</td>\n",
       "      <td>1010.7</td>\n",
       "      <td>12.1</td>\n",
       "      <td>5.3</td>\n",
       "      <td>239.7</td>\n",
       "      <td>-</td>\n",
       "      <td>2.6</td>\n",
       "    </tr>\n",
       "  </tbody>\n",
       "</table>\n",
       "</div>"
      ],
      "text/plain": [
       "       내용  평균기온 (℃)  평균강수량 (mm)  평균상대습도 (%)  평균해면기압 (hPa)  이슬점온도 (℃)  \\\n",
       "0  201501       7.4        82.4        66.0        1024.6        1.2   \n",
       "1  201502       7.3        35.5        64.0        1022.7        0.7   \n",
       "2  201503      10.4        80.7        64.0        1021.9        3.3   \n",
       "3  201504      15.1       147.9        71.0        1015.9        9.0   \n",
       "4  201505      18.8       150.0        68.0        1010.7       12.1   \n",
       "\n",
       "  평균운량 (1/10)  일조시간 (hr) 최심신적설 (cm)  평균풍속 (m/s)  \n",
       "0         6.5       94.2        1.8         3.9  \n",
       "1         6.5       93.5        0.5         3.7  \n",
       "2         5.3      183.8          -         2.9  \n",
       "3         6.2      163.4          -         2.9  \n",
       "4         5.3      239.7          -         2.6  "
      ]
     },
     "execution_count": 5,
     "metadata": {},
     "output_type": "execute_result"
    }
   ],
   "source": [
    "# 제주도 기상개황정보 데이터(2015 ~ 2020)\n",
    "df2 = pd.read_excel('jeju_weather.xlsx')\n",
    "df2.head()"
   ]
  },
  {
   "cell_type": "code",
   "execution_count": 6,
   "id": "1b1fb523",
   "metadata": {
    "colab": {
     "base_uri": "https://localhost:8080/",
     "height": 502
    },
    "id": "1b1fb523",
    "outputId": "50095b79-c9af-4f14-c7e8-f27a14e53700"
   },
   "outputs": [
    {
     "data": {
      "text/html": [
       "<div>\n",
       "<style scoped>\n",
       "    .dataframe tbody tr th:only-of-type {\n",
       "        vertical-align: middle;\n",
       "    }\n",
       "\n",
       "    .dataframe tbody tr th {\n",
       "        vertical-align: top;\n",
       "    }\n",
       "\n",
       "    .dataframe thead th {\n",
       "        text-align: right;\n",
       "    }\n",
       "</style>\n",
       "<table border=\"1\" class=\"dataframe\">\n",
       "  <thead>\n",
       "    <tr style=\"text-align: right;\">\n",
       "      <th></th>\n",
       "      <th>내용</th>\n",
       "      <th>평균기온 (℃)</th>\n",
       "      <th>평균강수량 (mm)</th>\n",
       "      <th>평균상대습도 (%)</th>\n",
       "      <th>평균해면기압 (hPa)</th>\n",
       "      <th>이슬점온도 (℃)</th>\n",
       "      <th>평균운량 (1/10)</th>\n",
       "      <th>일조시간 (hr)</th>\n",
       "      <th>최심신적설 (cm)</th>\n",
       "      <th>평균풍속 (m/s)</th>\n",
       "    </tr>\n",
       "  </thead>\n",
       "  <tbody>\n",
       "    <tr>\n",
       "      <th>0</th>\n",
       "      <td>201501</td>\n",
       "      <td>7.4</td>\n",
       "      <td>82.4</td>\n",
       "      <td>66.0</td>\n",
       "      <td>1024.6</td>\n",
       "      <td>1.2</td>\n",
       "      <td>6.5</td>\n",
       "      <td>94.2</td>\n",
       "      <td>1.8</td>\n",
       "      <td>3.9</td>\n",
       "    </tr>\n",
       "    <tr>\n",
       "      <th>1</th>\n",
       "      <td>201502</td>\n",
       "      <td>7.3</td>\n",
       "      <td>35.5</td>\n",
       "      <td>64.0</td>\n",
       "      <td>1022.7</td>\n",
       "      <td>0.7</td>\n",
       "      <td>6.5</td>\n",
       "      <td>93.5</td>\n",
       "      <td>0.5</td>\n",
       "      <td>3.7</td>\n",
       "    </tr>\n",
       "    <tr>\n",
       "      <th>2</th>\n",
       "      <td>201503</td>\n",
       "      <td>10.4</td>\n",
       "      <td>80.7</td>\n",
       "      <td>64.0</td>\n",
       "      <td>1021.9</td>\n",
       "      <td>3.3</td>\n",
       "      <td>5.3</td>\n",
       "      <td>183.8</td>\n",
       "      <td>-</td>\n",
       "      <td>2.9</td>\n",
       "    </tr>\n",
       "    <tr>\n",
       "      <th>3</th>\n",
       "      <td>201504</td>\n",
       "      <td>15.1</td>\n",
       "      <td>147.9</td>\n",
       "      <td>71.0</td>\n",
       "      <td>1015.9</td>\n",
       "      <td>9.0</td>\n",
       "      <td>6.2</td>\n",
       "      <td>163.4</td>\n",
       "      <td>-</td>\n",
       "      <td>2.9</td>\n",
       "    </tr>\n",
       "    <tr>\n",
       "      <th>4</th>\n",
       "      <td>201505</td>\n",
       "      <td>18.8</td>\n",
       "      <td>150.0</td>\n",
       "      <td>68.0</td>\n",
       "      <td>1010.7</td>\n",
       "      <td>12.1</td>\n",
       "      <td>5.3</td>\n",
       "      <td>239.7</td>\n",
       "      <td>-</td>\n",
       "      <td>2.6</td>\n",
       "    </tr>\n",
       "    <tr>\n",
       "      <th>...</th>\n",
       "      <td>...</td>\n",
       "      <td>...</td>\n",
       "      <td>...</td>\n",
       "      <td>...</td>\n",
       "      <td>...</td>\n",
       "      <td>...</td>\n",
       "      <td>...</td>\n",
       "      <td>...</td>\n",
       "      <td>...</td>\n",
       "      <td>...</td>\n",
       "    </tr>\n",
       "    <tr>\n",
       "      <th>67</th>\n",
       "      <td>202008</td>\n",
       "      <td>28.4</td>\n",
       "      <td>149.8</td>\n",
       "      <td>83.0</td>\n",
       "      <td>1009.4</td>\n",
       "      <td>24.9</td>\n",
       "      <td>5.9</td>\n",
       "      <td>211.3</td>\n",
       "      <td>-</td>\n",
       "      <td>2.4</td>\n",
       "    </tr>\n",
       "    <tr>\n",
       "      <th>68</th>\n",
       "      <td>202009</td>\n",
       "      <td>22.5</td>\n",
       "      <td>412.7</td>\n",
       "      <td>79.0</td>\n",
       "      <td>1011.3</td>\n",
       "      <td>18.3</td>\n",
       "      <td>6.7</td>\n",
       "      <td>149.5</td>\n",
       "      <td>-</td>\n",
       "      <td>2.6</td>\n",
       "    </tr>\n",
       "    <tr>\n",
       "      <th>69</th>\n",
       "      <td>202010</td>\n",
       "      <td>18.5</td>\n",
       "      <td>46.5</td>\n",
       "      <td>64.5</td>\n",
       "      <td>1019.7</td>\n",
       "      <td>11.3</td>\n",
       "      <td>5.2</td>\n",
       "      <td>198.7</td>\n",
       "      <td>-</td>\n",
       "      <td>2.3</td>\n",
       "    </tr>\n",
       "    <tr>\n",
       "      <th>70</th>\n",
       "      <td>202011</td>\n",
       "      <td>14.6</td>\n",
       "      <td>20.0</td>\n",
       "      <td>69.0</td>\n",
       "      <td>1024.3</td>\n",
       "      <td>8.6</td>\n",
       "      <td>5.4</td>\n",
       "      <td>152.8</td>\n",
       "      <td>-</td>\n",
       "      <td>2.2</td>\n",
       "    </tr>\n",
       "    <tr>\n",
       "      <th>71</th>\n",
       "      <td>202012</td>\n",
       "      <td>8.0</td>\n",
       "      <td>46.2</td>\n",
       "      <td>64.5</td>\n",
       "      <td>1025.7</td>\n",
       "      <td>1.4</td>\n",
       "      <td>6</td>\n",
       "      <td>139.3</td>\n",
       "      <td>3.1</td>\n",
       "      <td>2.4</td>\n",
       "    </tr>\n",
       "  </tbody>\n",
       "</table>\n",
       "<p>72 rows × 10 columns</p>\n",
       "</div>"
      ],
      "text/plain": [
       "        내용  평균기온 (℃)  평균강수량 (mm)  평균상대습도 (%)  평균해면기압 (hPa)  이슬점온도 (℃)  \\\n",
       "0   201501       7.4        82.4        66.0        1024.6        1.2   \n",
       "1   201502       7.3        35.5        64.0        1022.7        0.7   \n",
       "2   201503      10.4        80.7        64.0        1021.9        3.3   \n",
       "3   201504      15.1       147.9        71.0        1015.9        9.0   \n",
       "4   201505      18.8       150.0        68.0        1010.7       12.1   \n",
       "..     ...       ...         ...         ...           ...        ...   \n",
       "67  202008      28.4       149.8        83.0        1009.4       24.9   \n",
       "68  202009      22.5       412.7        79.0        1011.3       18.3   \n",
       "69  202010      18.5        46.5        64.5        1019.7       11.3   \n",
       "70  202011      14.6        20.0        69.0        1024.3        8.6   \n",
       "71  202012       8.0        46.2        64.5        1025.7        1.4   \n",
       "\n",
       "   평균운량 (1/10)  일조시간 (hr) 최심신적설 (cm)  평균풍속 (m/s)  \n",
       "0          6.5       94.2        1.8         3.9  \n",
       "1          6.5       93.5        0.5         3.7  \n",
       "2          5.3      183.8          -         2.9  \n",
       "3          6.2      163.4          -         2.9  \n",
       "4          5.3      239.7          -         2.6  \n",
       "..         ...        ...        ...         ...  \n",
       "67         5.9      211.3          -         2.4  \n",
       "68         6.7      149.5          -         2.6  \n",
       "69         5.2      198.7          -         2.3  \n",
       "70         5.4      152.8          -         2.2  \n",
       "71           6      139.3        3.1         2.4  \n",
       "\n",
       "[72 rows x 10 columns]"
      ]
     },
     "execution_count": 6,
     "metadata": {},
     "output_type": "execute_result"
    }
   ],
   "source": [
    "# index 초기화\n",
    "df2 = df2.reset_index(drop=True)\n",
    "df2"
   ]
  },
  {
   "cell_type": "code",
   "execution_count": 7,
   "id": "2c0d694c",
   "metadata": {
    "colab": {
     "base_uri": "https://localhost:8080/",
     "height": 222
    },
    "id": "2c0d694c",
    "outputId": "59f68035-b019-4116-ce21-ecd093415eea",
    "scrolled": true
   },
   "outputs": [
    {
     "data": {
      "text/html": [
       "<div>\n",
       "<style scoped>\n",
       "    .dataframe tbody tr th:only-of-type {\n",
       "        vertical-align: middle;\n",
       "    }\n",
       "\n",
       "    .dataframe tbody tr th {\n",
       "        vertical-align: top;\n",
       "    }\n",
       "\n",
       "    .dataframe thead th {\n",
       "        text-align: right;\n",
       "    }\n",
       "</style>\n",
       "<table border=\"1\" class=\"dataframe\">\n",
       "  <thead>\n",
       "    <tr style=\"text-align: right;\">\n",
       "      <th></th>\n",
       "      <th>내용</th>\n",
       "      <th>평균기온 (℃)</th>\n",
       "      <th>평균강수량 (mm)</th>\n",
       "      <th>평균상대습도 (%)</th>\n",
       "      <th>평균해면기압 (hPa)</th>\n",
       "      <th>이슬점온도 (℃)</th>\n",
       "      <th>평균운량 (1/10)</th>\n",
       "      <th>일조시간 (hr)</th>\n",
       "      <th>최심신적설 (cm)</th>\n",
       "      <th>평균풍속 (m/s)</th>\n",
       "      <th>total</th>\n",
       "    </tr>\n",
       "  </thead>\n",
       "  <tbody>\n",
       "    <tr>\n",
       "      <th>0</th>\n",
       "      <td>201501</td>\n",
       "      <td>7.4</td>\n",
       "      <td>82.4</td>\n",
       "      <td>66.0</td>\n",
       "      <td>1024.6</td>\n",
       "      <td>1.2</td>\n",
       "      <td>6.5</td>\n",
       "      <td>94.2</td>\n",
       "      <td>1.8</td>\n",
       "      <td>3.9</td>\n",
       "      <td>792668</td>\n",
       "    </tr>\n",
       "    <tr>\n",
       "      <th>1</th>\n",
       "      <td>201502</td>\n",
       "      <td>7.3</td>\n",
       "      <td>35.5</td>\n",
       "      <td>64.0</td>\n",
       "      <td>1022.7</td>\n",
       "      <td>0.7</td>\n",
       "      <td>6.5</td>\n",
       "      <td>93.5</td>\n",
       "      <td>0.5</td>\n",
       "      <td>3.7</td>\n",
       "      <td>721587</td>\n",
       "    </tr>\n",
       "    <tr>\n",
       "      <th>2</th>\n",
       "      <td>201503</td>\n",
       "      <td>10.4</td>\n",
       "      <td>80.7</td>\n",
       "      <td>64.0</td>\n",
       "      <td>1021.9</td>\n",
       "      <td>3.3</td>\n",
       "      <td>5.3</td>\n",
       "      <td>183.8</td>\n",
       "      <td>-</td>\n",
       "      <td>2.9</td>\n",
       "      <td>791714</td>\n",
       "    </tr>\n",
       "    <tr>\n",
       "      <th>3</th>\n",
       "      <td>201504</td>\n",
       "      <td>15.1</td>\n",
       "      <td>147.9</td>\n",
       "      <td>71.0</td>\n",
       "      <td>1015.9</td>\n",
       "      <td>9.0</td>\n",
       "      <td>6.2</td>\n",
       "      <td>163.4</td>\n",
       "      <td>-</td>\n",
       "      <td>2.9</td>\n",
       "      <td>939325</td>\n",
       "    </tr>\n",
       "    <tr>\n",
       "      <th>4</th>\n",
       "      <td>201505</td>\n",
       "      <td>18.8</td>\n",
       "      <td>150.0</td>\n",
       "      <td>68.0</td>\n",
       "      <td>1010.7</td>\n",
       "      <td>12.1</td>\n",
       "      <td>5.3</td>\n",
       "      <td>239.7</td>\n",
       "      <td>-</td>\n",
       "      <td>2.6</td>\n",
       "      <td>1015339</td>\n",
       "    </tr>\n",
       "  </tbody>\n",
       "</table>\n",
       "</div>"
      ],
      "text/plain": [
       "       내용  평균기온 (℃)  평균강수량 (mm)  평균상대습도 (%)  평균해면기압 (hPa)  이슬점온도 (℃)  \\\n",
       "0  201501       7.4        82.4        66.0        1024.6        1.2   \n",
       "1  201502       7.3        35.5        64.0        1022.7        0.7   \n",
       "2  201503      10.4        80.7        64.0        1021.9        3.3   \n",
       "3  201504      15.1       147.9        71.0        1015.9        9.0   \n",
       "4  201505      18.8       150.0        68.0        1010.7       12.1   \n",
       "\n",
       "  평균운량 (1/10)  일조시간 (hr) 최심신적설 (cm)  평균풍속 (m/s)    total  \n",
       "0         6.5       94.2        1.8         3.9   792668  \n",
       "1         6.5       93.5        0.5         3.7   721587  \n",
       "2         5.3      183.8          -         2.9   791714  \n",
       "3         6.2      163.4          -         2.9   939325  \n",
       "4         5.3      239.7          -         2.6  1015339  "
      ]
     },
     "execution_count": 7,
     "metadata": {},
     "output_type": "execute_result"
    }
   ],
   "source": [
    "# 데이터프레임 병합\n",
    "jeju = pd.concat([df2, total], axis=1)\n",
    "jeju.head()"
   ]
  },
  {
   "cell_type": "code",
   "execution_count": 8,
   "id": "a5238fd2",
   "metadata": {
    "colab": {
     "base_uri": "https://localhost:8080/",
     "height": 502
    },
    "id": "a5238fd2",
    "outputId": "85de7e87-0b39-4e84-cf87-004ffd85f291",
    "scrolled": false
   },
   "outputs": [
    {
     "data": {
      "text/html": [
       "<div>\n",
       "<style scoped>\n",
       "    .dataframe tbody tr th:only-of-type {\n",
       "        vertical-align: middle;\n",
       "    }\n",
       "\n",
       "    .dataframe tbody tr th {\n",
       "        vertical-align: top;\n",
       "    }\n",
       "\n",
       "    .dataframe thead th {\n",
       "        text-align: right;\n",
       "    }\n",
       "</style>\n",
       "<table border=\"1\" class=\"dataframe\">\n",
       "  <thead>\n",
       "    <tr style=\"text-align: right;\">\n",
       "      <th></th>\n",
       "      <th>내용</th>\n",
       "      <th>평균기온 (℃)</th>\n",
       "      <th>평균강수량 (mm)</th>\n",
       "      <th>평균상대습도 (%)</th>\n",
       "      <th>평균해면기압 (hPa)</th>\n",
       "      <th>이슬점온도 (℃)</th>\n",
       "      <th>평균운량 (1/10)</th>\n",
       "      <th>일조시간 (hr)</th>\n",
       "      <th>평균풍속 (m/s)</th>\n",
       "      <th>total</th>\n",
       "    </tr>\n",
       "  </thead>\n",
       "  <tbody>\n",
       "    <tr>\n",
       "      <th>0</th>\n",
       "      <td>201501</td>\n",
       "      <td>7.4</td>\n",
       "      <td>82.4</td>\n",
       "      <td>66.0</td>\n",
       "      <td>1024.6</td>\n",
       "      <td>1.2</td>\n",
       "      <td>6.5</td>\n",
       "      <td>94.2</td>\n",
       "      <td>3.9</td>\n",
       "      <td>792668</td>\n",
       "    </tr>\n",
       "    <tr>\n",
       "      <th>1</th>\n",
       "      <td>201502</td>\n",
       "      <td>7.3</td>\n",
       "      <td>35.5</td>\n",
       "      <td>64.0</td>\n",
       "      <td>1022.7</td>\n",
       "      <td>0.7</td>\n",
       "      <td>6.5</td>\n",
       "      <td>93.5</td>\n",
       "      <td>3.7</td>\n",
       "      <td>721587</td>\n",
       "    </tr>\n",
       "    <tr>\n",
       "      <th>2</th>\n",
       "      <td>201503</td>\n",
       "      <td>10.4</td>\n",
       "      <td>80.7</td>\n",
       "      <td>64.0</td>\n",
       "      <td>1021.9</td>\n",
       "      <td>3.3</td>\n",
       "      <td>5.3</td>\n",
       "      <td>183.8</td>\n",
       "      <td>2.9</td>\n",
       "      <td>791714</td>\n",
       "    </tr>\n",
       "    <tr>\n",
       "      <th>3</th>\n",
       "      <td>201504</td>\n",
       "      <td>15.1</td>\n",
       "      <td>147.9</td>\n",
       "      <td>71.0</td>\n",
       "      <td>1015.9</td>\n",
       "      <td>9.0</td>\n",
       "      <td>6.2</td>\n",
       "      <td>163.4</td>\n",
       "      <td>2.9</td>\n",
       "      <td>939325</td>\n",
       "    </tr>\n",
       "    <tr>\n",
       "      <th>4</th>\n",
       "      <td>201505</td>\n",
       "      <td>18.8</td>\n",
       "      <td>150.0</td>\n",
       "      <td>68.0</td>\n",
       "      <td>1010.7</td>\n",
       "      <td>12.1</td>\n",
       "      <td>5.3</td>\n",
       "      <td>239.7</td>\n",
       "      <td>2.6</td>\n",
       "      <td>1015339</td>\n",
       "    </tr>\n",
       "    <tr>\n",
       "      <th>...</th>\n",
       "      <td>...</td>\n",
       "      <td>...</td>\n",
       "      <td>...</td>\n",
       "      <td>...</td>\n",
       "      <td>...</td>\n",
       "      <td>...</td>\n",
       "      <td>...</td>\n",
       "      <td>...</td>\n",
       "      <td>...</td>\n",
       "      <td>...</td>\n",
       "    </tr>\n",
       "    <tr>\n",
       "      <th>67</th>\n",
       "      <td>202008</td>\n",
       "      <td>28.4</td>\n",
       "      <td>149.8</td>\n",
       "      <td>83.0</td>\n",
       "      <td>1009.4</td>\n",
       "      <td>24.9</td>\n",
       "      <td>5.9</td>\n",
       "      <td>211.3</td>\n",
       "      <td>2.4</td>\n",
       "      <td>1127097</td>\n",
       "    </tr>\n",
       "    <tr>\n",
       "      <th>68</th>\n",
       "      <td>202009</td>\n",
       "      <td>22.5</td>\n",
       "      <td>412.7</td>\n",
       "      <td>79.0</td>\n",
       "      <td>1011.3</td>\n",
       "      <td>18.3</td>\n",
       "      <td>6.7</td>\n",
       "      <td>149.5</td>\n",
       "      <td>2.6</td>\n",
       "      <td>726169</td>\n",
       "    </tr>\n",
       "    <tr>\n",
       "      <th>69</th>\n",
       "      <td>202010</td>\n",
       "      <td>18.5</td>\n",
       "      <td>46.5</td>\n",
       "      <td>64.5</td>\n",
       "      <td>1019.7</td>\n",
       "      <td>11.3</td>\n",
       "      <td>5.2</td>\n",
       "      <td>198.7</td>\n",
       "      <td>2.3</td>\n",
       "      <td>1072455</td>\n",
       "    </tr>\n",
       "    <tr>\n",
       "      <th>70</th>\n",
       "      <td>202011</td>\n",
       "      <td>14.6</td>\n",
       "      <td>20.0</td>\n",
       "      <td>69.0</td>\n",
       "      <td>1024.3</td>\n",
       "      <td>8.6</td>\n",
       "      <td>5.4</td>\n",
       "      <td>152.8</td>\n",
       "      <td>2.2</td>\n",
       "      <td>1138369</td>\n",
       "    </tr>\n",
       "    <tr>\n",
       "      <th>71</th>\n",
       "      <td>202012</td>\n",
       "      <td>8.0</td>\n",
       "      <td>46.2</td>\n",
       "      <td>64.5</td>\n",
       "      <td>1025.7</td>\n",
       "      <td>1.4</td>\n",
       "      <td>6</td>\n",
       "      <td>139.3</td>\n",
       "      <td>2.4</td>\n",
       "      <td>623062</td>\n",
       "    </tr>\n",
       "  </tbody>\n",
       "</table>\n",
       "<p>72 rows × 10 columns</p>\n",
       "</div>"
      ],
      "text/plain": [
       "        내용  평균기온 (℃)  평균강수량 (mm)  평균상대습도 (%)  평균해면기압 (hPa)  이슬점온도 (℃)  \\\n",
       "0   201501       7.4        82.4        66.0        1024.6        1.2   \n",
       "1   201502       7.3        35.5        64.0        1022.7        0.7   \n",
       "2   201503      10.4        80.7        64.0        1021.9        3.3   \n",
       "3   201504      15.1       147.9        71.0        1015.9        9.0   \n",
       "4   201505      18.8       150.0        68.0        1010.7       12.1   \n",
       "..     ...       ...         ...         ...           ...        ...   \n",
       "67  202008      28.4       149.8        83.0        1009.4       24.9   \n",
       "68  202009      22.5       412.7        79.0        1011.3       18.3   \n",
       "69  202010      18.5        46.5        64.5        1019.7       11.3   \n",
       "70  202011      14.6        20.0        69.0        1024.3        8.6   \n",
       "71  202012       8.0        46.2        64.5        1025.7        1.4   \n",
       "\n",
       "   평균운량 (1/10)  일조시간 (hr)  평균풍속 (m/s)    total  \n",
       "0          6.5       94.2         3.9   792668  \n",
       "1          6.5       93.5         3.7   721587  \n",
       "2          5.3      183.8         2.9   791714  \n",
       "3          6.2      163.4         2.9   939325  \n",
       "4          5.3      239.7         2.6  1015339  \n",
       "..         ...        ...         ...      ...  \n",
       "67         5.9      211.3         2.4  1127097  \n",
       "68         6.7      149.5         2.6   726169  \n",
       "69         5.2      198.7         2.3  1072455  \n",
       "70         5.4      152.8         2.2  1138369  \n",
       "71           6      139.3         2.4   623062  \n",
       "\n",
       "[72 rows x 10 columns]"
      ]
     },
     "execution_count": 8,
     "metadata": {},
     "output_type": "execute_result"
    }
   ],
   "source": [
    "# '최심신적설'은 결측값이 너무 많기에 존재하지 않으니 drop\n",
    "jeju.drop(columns=['최심신적설 (cm)'], inplace=True)\n",
    "jeju"
   ]
  },
  {
   "cell_type": "code",
   "execution_count": 9,
   "id": "7b83a010",
   "metadata": {
    "colab": {
     "base_uri": "https://localhost:8080/",
     "height": 207
    },
    "id": "7b83a010",
    "outputId": "60dfca3c-f5bd-42d1-8de5-5052af683a91",
    "scrolled": true
   },
   "outputs": [
    {
     "data": {
      "text/html": [
       "<div>\n",
       "<style scoped>\n",
       "    .dataframe tbody tr th:only-of-type {\n",
       "        vertical-align: middle;\n",
       "    }\n",
       "\n",
       "    .dataframe tbody tr th {\n",
       "        vertical-align: top;\n",
       "    }\n",
       "\n",
       "    .dataframe thead th {\n",
       "        text-align: right;\n",
       "    }\n",
       "</style>\n",
       "<table border=\"1\" class=\"dataframe\">\n",
       "  <thead>\n",
       "    <tr style=\"text-align: right;\">\n",
       "      <th></th>\n",
       "      <th>date</th>\n",
       "      <th>temperature(℃)</th>\n",
       "      <th>rain(mm)</th>\n",
       "      <th>humidity(%)</th>\n",
       "      <th>pressure(hPa)</th>\n",
       "      <th>dew_point(℃)</th>\n",
       "      <th>cloud(1/10)</th>\n",
       "      <th>daylight(hr)</th>\n",
       "      <th>windspeed(m/s)</th>\n",
       "      <th>total</th>\n",
       "    </tr>\n",
       "  </thead>\n",
       "  <tbody>\n",
       "    <tr>\n",
       "      <th>0</th>\n",
       "      <td>201501</td>\n",
       "      <td>7.4</td>\n",
       "      <td>82.4</td>\n",
       "      <td>66.0</td>\n",
       "      <td>1024.6</td>\n",
       "      <td>1.2</td>\n",
       "      <td>6.5</td>\n",
       "      <td>94.2</td>\n",
       "      <td>3.9</td>\n",
       "      <td>792668</td>\n",
       "    </tr>\n",
       "    <tr>\n",
       "      <th>1</th>\n",
       "      <td>201502</td>\n",
       "      <td>7.3</td>\n",
       "      <td>35.5</td>\n",
       "      <td>64.0</td>\n",
       "      <td>1022.7</td>\n",
       "      <td>0.7</td>\n",
       "      <td>6.5</td>\n",
       "      <td>93.5</td>\n",
       "      <td>3.7</td>\n",
       "      <td>721587</td>\n",
       "    </tr>\n",
       "    <tr>\n",
       "      <th>2</th>\n",
       "      <td>201503</td>\n",
       "      <td>10.4</td>\n",
       "      <td>80.7</td>\n",
       "      <td>64.0</td>\n",
       "      <td>1021.9</td>\n",
       "      <td>3.3</td>\n",
       "      <td>5.3</td>\n",
       "      <td>183.8</td>\n",
       "      <td>2.9</td>\n",
       "      <td>791714</td>\n",
       "    </tr>\n",
       "    <tr>\n",
       "      <th>3</th>\n",
       "      <td>201504</td>\n",
       "      <td>15.1</td>\n",
       "      <td>147.9</td>\n",
       "      <td>71.0</td>\n",
       "      <td>1015.9</td>\n",
       "      <td>9.0</td>\n",
       "      <td>6.2</td>\n",
       "      <td>163.4</td>\n",
       "      <td>2.9</td>\n",
       "      <td>939325</td>\n",
       "    </tr>\n",
       "    <tr>\n",
       "      <th>4</th>\n",
       "      <td>201505</td>\n",
       "      <td>18.8</td>\n",
       "      <td>150.0</td>\n",
       "      <td>68.0</td>\n",
       "      <td>1010.7</td>\n",
       "      <td>12.1</td>\n",
       "      <td>5.3</td>\n",
       "      <td>239.7</td>\n",
       "      <td>2.6</td>\n",
       "      <td>1015339</td>\n",
       "    </tr>\n",
       "  </tbody>\n",
       "</table>\n",
       "</div>"
      ],
      "text/plain": [
       "     date  temperature(℃)  rain(mm)  humidity(%)  pressure(hPa)  dew_point(℃)  \\\n",
       "0  201501             7.4      82.4         66.0         1024.6           1.2   \n",
       "1  201502             7.3      35.5         64.0         1022.7           0.7   \n",
       "2  201503            10.4      80.7         64.0         1021.9           3.3   \n",
       "3  201504            15.1     147.9         71.0         1015.9           9.0   \n",
       "4  201505            18.8     150.0         68.0         1010.7          12.1   \n",
       "\n",
       "  cloud(1/10)  daylight(hr)  windspeed(m/s)    total  \n",
       "0         6.5          94.2             3.9   792668  \n",
       "1         6.5          93.5             3.7   721587  \n",
       "2         5.3         183.8             2.9   791714  \n",
       "3         6.2         163.4             2.9   939325  \n",
       "4         5.3         239.7             2.6  1015339  "
      ]
     },
     "execution_count": 9,
     "metadata": {},
     "output_type": "execute_result"
    }
   ],
   "source": [
    "# heatmap시 깨지지 않도록 칼럼 이름 변경\n",
    "jeju.columns = ['date', 'temperature(℃)', 'rain(mm)', 'humidity(%)', 'pressure(hPa)', 'dew_point(℃)', 'cloud(1/10)', 'daylight(hr)', 'windspeed(m/s)', 'total']\n",
    "jeju.head()"
   ]
  },
  {
   "cell_type": "code",
   "execution_count": 10,
   "id": "70110210",
   "metadata": {
    "colab": {
     "base_uri": "https://localhost:8080/"
    },
    "id": "70110210",
    "outputId": "aca4d954-d25b-4031-afd3-f67f39d0df8f"
   },
   "outputs": [
    {
     "name": "stdout",
     "output_type": "stream",
     "text": [
      "<class 'pandas.core.frame.DataFrame'>\n",
      "RangeIndex: 72 entries, 0 to 71\n",
      "Data columns (total 10 columns):\n",
      " #   Column          Non-Null Count  Dtype  \n",
      "---  ------          --------------  -----  \n",
      " 0   date            72 non-null     int64  \n",
      " 1   temperature(℃)  72 non-null     float64\n",
      " 2   rain(mm)        72 non-null     float64\n",
      " 3   humidity(%)     72 non-null     float64\n",
      " 4   pressure(hPa)   72 non-null     float64\n",
      " 5   dew_point(℃)    72 non-null     float64\n",
      " 6   cloud(1/10)     72 non-null     object \n",
      " 7   daylight(hr)    72 non-null     float64\n",
      " 8   windspeed(m/s)  72 non-null     float64\n",
      " 9   total           72 non-null     int64  \n",
      "dtypes: float64(7), int64(2), object(1)\n",
      "memory usage: 5.8+ KB\n"
     ]
    }
   ],
   "source": [
    "# 칼럼 확인\n",
    "jeju.info()"
   ]
  },
  {
   "cell_type": "markdown",
   "id": "8f98f383",
   "metadata": {
    "id": "8f98f383"
   },
   "source": [
    "- \"평균운량 (1/10)\" 컬럼에 -, 0으로 채워진 행이 많아 결측값 채우는 함수 필요\n",
    "- 2015년, 2019년, 2020년 데이터는 있으므로 3년 각 월의 평균값으로 채워줄 예정"
   ]
  },
  {
   "cell_type": "markdown",
   "id": "474d58f4",
   "metadata": {
    "id": "474d58f4"
   },
   "source": [
    "---"
   ]
  },
  {
   "cell_type": "markdown",
   "id": "iWFoYF4ls_Ls",
   "metadata": {
    "id": "iWFoYF4ls_Ls"
   },
   "source": [
    "## 민선 전처리"
   ]
  },
  {
   "cell_type": "code",
   "execution_count": 11,
   "id": "9MJSAsx_1el5",
   "metadata": {
    "colab": {
     "base_uri": "https://localhost:8080/",
     "height": 488
    },
    "id": "9MJSAsx_1el5",
    "outputId": "362a7821-4c03-47ac-bd6a-ea0e1c7419e2",
    "scrolled": true
   },
   "outputs": [
    {
     "data": {
      "text/html": [
       "<div>\n",
       "<style scoped>\n",
       "    .dataframe tbody tr th:only-of-type {\n",
       "        vertical-align: middle;\n",
       "    }\n",
       "\n",
       "    .dataframe tbody tr th {\n",
       "        vertical-align: top;\n",
       "    }\n",
       "\n",
       "    .dataframe thead th {\n",
       "        text-align: right;\n",
       "    }\n",
       "</style>\n",
       "<table border=\"1\" class=\"dataframe\">\n",
       "  <thead>\n",
       "    <tr style=\"text-align: right;\">\n",
       "      <th></th>\n",
       "      <th>date</th>\n",
       "      <th>temperature(℃)</th>\n",
       "      <th>rain(mm)</th>\n",
       "      <th>humidity(%)</th>\n",
       "      <th>pressure(hPa)</th>\n",
       "      <th>dew_point(℃)</th>\n",
       "      <th>cloud(1/10)</th>\n",
       "      <th>daylight(hr)</th>\n",
       "      <th>windspeed(m/s)</th>\n",
       "      <th>total</th>\n",
       "      <th>month</th>\n",
       "    </tr>\n",
       "  </thead>\n",
       "  <tbody>\n",
       "    <tr>\n",
       "      <th>0</th>\n",
       "      <td>201501</td>\n",
       "      <td>7.4</td>\n",
       "      <td>82.4</td>\n",
       "      <td>66.0</td>\n",
       "      <td>1024.6</td>\n",
       "      <td>1.2</td>\n",
       "      <td>6.5</td>\n",
       "      <td>94.2</td>\n",
       "      <td>3.9</td>\n",
       "      <td>792668</td>\n",
       "      <td>1</td>\n",
       "    </tr>\n",
       "    <tr>\n",
       "      <th>1</th>\n",
       "      <td>201502</td>\n",
       "      <td>7.3</td>\n",
       "      <td>35.5</td>\n",
       "      <td>64.0</td>\n",
       "      <td>1022.7</td>\n",
       "      <td>0.7</td>\n",
       "      <td>6.5</td>\n",
       "      <td>93.5</td>\n",
       "      <td>3.7</td>\n",
       "      <td>721587</td>\n",
       "      <td>2</td>\n",
       "    </tr>\n",
       "    <tr>\n",
       "      <th>2</th>\n",
       "      <td>201503</td>\n",
       "      <td>10.4</td>\n",
       "      <td>80.7</td>\n",
       "      <td>64.0</td>\n",
       "      <td>1021.9</td>\n",
       "      <td>3.3</td>\n",
       "      <td>5.3</td>\n",
       "      <td>183.8</td>\n",
       "      <td>2.9</td>\n",
       "      <td>791714</td>\n",
       "      <td>3</td>\n",
       "    </tr>\n",
       "    <tr>\n",
       "      <th>3</th>\n",
       "      <td>201504</td>\n",
       "      <td>15.1</td>\n",
       "      <td>147.9</td>\n",
       "      <td>71.0</td>\n",
       "      <td>1015.9</td>\n",
       "      <td>9.0</td>\n",
       "      <td>6.2</td>\n",
       "      <td>163.4</td>\n",
       "      <td>2.9</td>\n",
       "      <td>939325</td>\n",
       "      <td>4</td>\n",
       "    </tr>\n",
       "    <tr>\n",
       "      <th>4</th>\n",
       "      <td>201505</td>\n",
       "      <td>18.8</td>\n",
       "      <td>150.0</td>\n",
       "      <td>68.0</td>\n",
       "      <td>1010.7</td>\n",
       "      <td>12.1</td>\n",
       "      <td>5.3</td>\n",
       "      <td>239.7</td>\n",
       "      <td>2.6</td>\n",
       "      <td>1015339</td>\n",
       "      <td>5</td>\n",
       "    </tr>\n",
       "    <tr>\n",
       "      <th>...</th>\n",
       "      <td>...</td>\n",
       "      <td>...</td>\n",
       "      <td>...</td>\n",
       "      <td>...</td>\n",
       "      <td>...</td>\n",
       "      <td>...</td>\n",
       "      <td>...</td>\n",
       "      <td>...</td>\n",
       "      <td>...</td>\n",
       "      <td>...</td>\n",
       "      <td>...</td>\n",
       "    </tr>\n",
       "    <tr>\n",
       "      <th>67</th>\n",
       "      <td>202008</td>\n",
       "      <td>28.4</td>\n",
       "      <td>149.8</td>\n",
       "      <td>83.0</td>\n",
       "      <td>1009.4</td>\n",
       "      <td>24.9</td>\n",
       "      <td>5.9</td>\n",
       "      <td>211.3</td>\n",
       "      <td>2.4</td>\n",
       "      <td>1127097</td>\n",
       "      <td>8</td>\n",
       "    </tr>\n",
       "    <tr>\n",
       "      <th>68</th>\n",
       "      <td>202009</td>\n",
       "      <td>22.5</td>\n",
       "      <td>412.7</td>\n",
       "      <td>79.0</td>\n",
       "      <td>1011.3</td>\n",
       "      <td>18.3</td>\n",
       "      <td>6.7</td>\n",
       "      <td>149.5</td>\n",
       "      <td>2.6</td>\n",
       "      <td>726169</td>\n",
       "      <td>9</td>\n",
       "    </tr>\n",
       "    <tr>\n",
       "      <th>69</th>\n",
       "      <td>202010</td>\n",
       "      <td>18.5</td>\n",
       "      <td>46.5</td>\n",
       "      <td>64.5</td>\n",
       "      <td>1019.7</td>\n",
       "      <td>11.3</td>\n",
       "      <td>5.2</td>\n",
       "      <td>198.7</td>\n",
       "      <td>2.3</td>\n",
       "      <td>1072455</td>\n",
       "      <td>10</td>\n",
       "    </tr>\n",
       "    <tr>\n",
       "      <th>70</th>\n",
       "      <td>202011</td>\n",
       "      <td>14.6</td>\n",
       "      <td>20.0</td>\n",
       "      <td>69.0</td>\n",
       "      <td>1024.3</td>\n",
       "      <td>8.6</td>\n",
       "      <td>5.4</td>\n",
       "      <td>152.8</td>\n",
       "      <td>2.2</td>\n",
       "      <td>1138369</td>\n",
       "      <td>11</td>\n",
       "    </tr>\n",
       "    <tr>\n",
       "      <th>71</th>\n",
       "      <td>202012</td>\n",
       "      <td>8.0</td>\n",
       "      <td>46.2</td>\n",
       "      <td>64.5</td>\n",
       "      <td>1025.7</td>\n",
       "      <td>1.4</td>\n",
       "      <td>6</td>\n",
       "      <td>139.3</td>\n",
       "      <td>2.4</td>\n",
       "      <td>623062</td>\n",
       "      <td>12</td>\n",
       "    </tr>\n",
       "  </tbody>\n",
       "</table>\n",
       "<p>72 rows × 11 columns</p>\n",
       "</div>"
      ],
      "text/plain": [
       "      date  temperature(℃)  rain(mm)  humidity(%)  pressure(hPa)  \\\n",
       "0   201501             7.4      82.4         66.0         1024.6   \n",
       "1   201502             7.3      35.5         64.0         1022.7   \n",
       "2   201503            10.4      80.7         64.0         1021.9   \n",
       "3   201504            15.1     147.9         71.0         1015.9   \n",
       "4   201505            18.8     150.0         68.0         1010.7   \n",
       "..     ...             ...       ...          ...            ...   \n",
       "67  202008            28.4     149.8         83.0         1009.4   \n",
       "68  202009            22.5     412.7         79.0         1011.3   \n",
       "69  202010            18.5      46.5         64.5         1019.7   \n",
       "70  202011            14.6      20.0         69.0         1024.3   \n",
       "71  202012             8.0      46.2         64.5         1025.7   \n",
       "\n",
       "    dew_point(℃) cloud(1/10)  daylight(hr)  windspeed(m/s)    total  month  \n",
       "0            1.2         6.5          94.2             3.9   792668      1  \n",
       "1            0.7         6.5          93.5             3.7   721587      2  \n",
       "2            3.3         5.3         183.8             2.9   791714      3  \n",
       "3            9.0         6.2         163.4             2.9   939325      4  \n",
       "4           12.1         5.3         239.7             2.6  1015339      5  \n",
       "..           ...         ...           ...             ...      ...    ...  \n",
       "67          24.9         5.9         211.3             2.4  1127097      8  \n",
       "68          18.3         6.7         149.5             2.6   726169      9  \n",
       "69          11.3         5.2         198.7             2.3  1072455     10  \n",
       "70           8.6         5.4         152.8             2.2  1138369     11  \n",
       "71           1.4           6         139.3             2.4   623062     12  \n",
       "\n",
       "[72 rows x 11 columns]"
      ]
     },
     "execution_count": 11,
     "metadata": {},
     "output_type": "execute_result"
    }
   ],
   "source": [
    "# date 컬럼의 \"월\"만 month 컬럼에 저장\n",
    "\n",
    "jeju[\"month\"] = 0\n",
    "for i in range(len(jeju)):\n",
    "    jeju[\"month\"][i] = jeju[\"date\"][i] % 100\n",
    "jeju"
   ]
  },
  {
   "cell_type": "code",
   "execution_count": 12,
   "id": "fdc19369",
   "metadata": {},
   "outputs": [
    {
     "data": {
      "text/plain": [
       "36     1\n",
       "37     2\n",
       "38     3\n",
       "39     4\n",
       "40     5\n",
       "41     6\n",
       "42     7\n",
       "43     8\n",
       "44     9\n",
       "45    10\n",
       "46    11\n",
       "47    12\n",
       "Name: month, dtype: int64"
      ]
     },
     "execution_count": 12,
     "metadata": {},
     "output_type": "execute_result"
    }
   ],
   "source": [
    "jeju['month'][36:48]"
   ]
  },
  {
   "cell_type": "code",
   "execution_count": 13,
   "id": "QmpbBrcTmP3A",
   "metadata": {
    "id": "QmpbBrcTmP3A"
   },
   "outputs": [],
   "source": [
    "# 최종 결측값 채우기 함수\n",
    "def fill(column):\n",
    "    # 평균 구하기\n",
    "    meanList = [0 for i in range(12)]\n",
    "    \n",
    "    # '-'은 0으로 바꿔주기\n",
    "    for i in range(len(jeju[column])):\n",
    "        if jeju[column][i] == \"-\":\n",
    "            jeju[column][i] = 0\n",
    "        # sum을 리스트에 추가\n",
    "        for j in range(12):\n",
    "            if jeju[\"month\"][i] == j+1:\n",
    "                meanList[j] = meanList[j] + jeju[column][i]\n",
    "    # mean 구하기\n",
    "    meanList = [round(x/3, 1) for x in meanList]\n",
    "\n",
    "  # 평균으로 채우기\n",
    "    for i in range(len(jeju[column])):\n",
    "        if jeju[column][i] == 0:\n",
    "            for j in range(12):\n",
    "                if jeju[\"month\"][i] == j+1:\n",
    "                    jeju[column][i] = meanList[j]"
   ]
  },
  {
   "cell_type": "code",
   "execution_count": 14,
   "id": "wQVjdWYxmvCE",
   "metadata": {
    "colab": {
     "base_uri": "https://localhost:8080/"
    },
    "id": "wQVjdWYxmvCE",
    "outputId": "d0c5ca26-9fd3-4a70-ac97-3c311f4cd02a"
   },
   "outputs": [
    {
     "data": {
      "text/plain": [
       "13    6.4\n",
       "14    5.3\n",
       "15    5.3\n",
       "16    5.6\n",
       "17    6.9\n",
       "18    7.3\n",
       "19    6.0\n",
       "20    6.3\n",
       "21    4.6\n",
       "22    6.0\n",
       "23    6.8\n",
       "24    6.6\n",
       "25    6.4\n",
       "26    5.3\n",
       "27    5.3\n",
       "28    5.6\n",
       "29    6.9\n",
       "30    7.3\n",
       "31    6.0\n",
       "32    6.3\n",
       "33    4.6\n",
       "34    6.0\n",
       "35    6.8\n",
       "36    6.6\n",
       "37    6.4\n",
       "38    5.3\n",
       "39    5.3\n",
       "40    5.6\n",
       "41    6.9\n",
       "42    7.3\n",
       "43    6.0\n",
       "44    6.3\n",
       "45    4.6\n",
       "46    6.0\n",
       "47    6.8\n",
       "48    5.9\n",
       "49    6.8\n",
       "50    5.4\n",
       "51    5.5\n",
       "52    5.5\n",
       "53    6.2\n",
       "54    7.5\n",
       "55    6.2\n",
       "56    6.8\n",
       "57    4.8\n",
       "58      5\n",
       "59    6.8\n",
       "Name: cloud(1/10), dtype: object"
      ]
     },
     "execution_count": 14,
     "metadata": {},
     "output_type": "execute_result"
    }
   ],
   "source": [
    "fill(\"cloud(1/10)\")\n",
    "jeju[\"cloud(1/10)\"][13:60]"
   ]
  },
  {
   "cell_type": "markdown",
   "id": "oqy5cqOpuqVK",
   "metadata": {
    "id": "oqy5cqOpuqVK"
   },
   "source": [
    "## 시형 전처리"
   ]
  },
  {
   "cell_type": "code",
   "execution_count": 67,
   "id": "121eafaa",
   "metadata": {
    "id": "121eafaa",
    "scrolled": true
   },
   "outputs": [],
   "source": [
    "# 평균운량 결측치 채우기\n",
    "for i in range(len(jeju['cloud(1/10)'])):\n",
    "    if jeju['cloud(1/10)'][i] == '-':\n",
    "        jeju['cloud(1/10)'][i] = 0\n",
    "jeju = jeju.astype({'cloud(1/10)':'float'})\n",
    "\n",
    "for j in range(12):\n",
    "    sum=jeju['cloud(1/10)'][j]+jeju['cloud(1/10)'][j+48]+jeju['cloud(1/10)'][j+60]\n",
    "    mean = round(sum/3,1)\n",
    "    for k in range(1,4):\n",
    "        jeju['cloud(1/10)'][j+(12*k)]=mean"
   ]
  },
  {
   "cell_type": "code",
   "execution_count": 68,
   "id": "0acd3e38",
   "metadata": {
    "colab": {
     "base_uri": "https://localhost:8080/"
    },
    "id": "0acd3e38",
    "outputId": "31b5a5cc-97c6-4a5d-813d-e67d58590cdb",
    "scrolled": true
   },
   "outputs": [
    {
     "data": {
      "text/plain": [
       "13    6.4\n",
       "14    5.3\n",
       "15    5.3\n",
       "16    5.6\n",
       "17    6.9\n",
       "18    7.3\n",
       "19    6.0\n",
       "20    6.3\n",
       "21    4.6\n",
       "22    6.0\n",
       "23    6.8\n",
       "24    6.6\n",
       "25    6.4\n",
       "26    5.3\n",
       "27    5.3\n",
       "28    5.6\n",
       "29    6.9\n",
       "30    7.3\n",
       "31    6.0\n",
       "32    6.3\n",
       "33    4.6\n",
       "34    6.0\n",
       "35    6.8\n",
       "36    6.6\n",
       "37    6.4\n",
       "38    5.3\n",
       "39    5.3\n",
       "40    5.6\n",
       "41    6.9\n",
       "42    7.3\n",
       "43    6.0\n",
       "44    6.3\n",
       "45    4.6\n",
       "46    6.0\n",
       "47    6.8\n",
       "48    5.9\n",
       "49    6.8\n",
       "50    5.4\n",
       "51    5.5\n",
       "52    5.5\n",
       "53    6.2\n",
       "54    7.5\n",
       "55    6.2\n",
       "56    6.8\n",
       "57    4.8\n",
       "58    5.0\n",
       "59    6.8\n",
       "Name: cloud(1/10), dtype: float64"
      ]
     },
     "execution_count": 68,
     "metadata": {},
     "output_type": "execute_result"
    }
   ],
   "source": [
    "jeju['cloud(1/10)'][13:60]"
   ]
  },
  {
   "cell_type": "markdown",
   "id": "0f526a8b",
   "metadata": {
    "id": "0f526a8b"
   },
   "source": [
    "---"
   ]
  },
  {
   "cell_type": "markdown",
   "id": "1ab0edc2",
   "metadata": {
    "id": "1ab0edc2"
   },
   "source": [
    "## 2. EDA"
   ]
  },
  {
   "cell_type": "markdown",
   "id": "59e14d12",
   "metadata": {
    "id": "59e14d12"
   },
   "source": [
    "[heatmap 문법](https://dsbook.tistory.com/51)"
   ]
  },
  {
   "cell_type": "code",
   "execution_count": 15,
   "id": "268607c4",
   "metadata": {
    "id": "268607c4"
   },
   "outputs": [],
   "source": [
    "%matplotlib inline\n",
    "import matplotlib.pyplot as plt\n",
    "import seaborn as sns"
   ]
  },
  {
   "cell_type": "code",
   "execution_count": 16,
   "id": "82557ee8",
   "metadata": {
    "colab": {
     "base_uri": "https://localhost:8080/",
     "height": 788
    },
    "id": "82557ee8",
    "outputId": "18066873-0bd5-4787-9393-99e75c8c3920"
   },
   "outputs": [
    {
     "data": {
      "text/plain": [
       "<AxesSubplot:>"
      ]
     },
     "execution_count": 16,
     "metadata": {},
     "output_type": "execute_result"
    },
    {
     "data": {
      "image/png": "[encoded data removed]",
      "text/plain": [
       "<Figure size 1440x1440 with 2 Axes>"
      ]
     },
     "metadata": {
      "needs_background": "light"
     },
     "output_type": "display_data"
    }
   ],
   "source": [
    "# 상관계수 plot 그리기\n",
    "plt.figure(figsize=(20,20))\n",
    "sns.heatmap(jeju.corr(), annot=True)"
   ]
  },
  {
   "cell_type": "markdown",
   "id": "e488b5ff",
   "metadata": {
    "id": "e488b5ff"
   },
   "source": [
    "**r>0.8** : 강한 상관이 있다   \n",
    "**0.6<r<0.8** : 상관이 있다  \n",
    "**0.4<r<0.6** : 약한 상관이 있다  "
   ]
  },
  {
   "cell_type": "markdown",
   "id": "209173ac",
   "metadata": {
    "id": "209173ac"
   },
   "source": [
    "*total과 (어느 정도) 상관이 있어 보이는 변수* :  \n",
    "temperature, dew_point"
   ]
  },
  {
   "cell_type": "code",
   "execution_count": 17,
   "id": "9ff0ed83",
   "metadata": {
    "colab": {
     "base_uri": "https://localhost:8080/",
     "height": 550
    },
    "id": "9ff0ed83",
    "outputId": "8655c8c7-a3c1-48d5-f7c0-9302076f8cdf",
    "scrolled": false
   },
   "outputs": [
    {
     "data": {
      "image/png": "[encoded data removed]",
      "text/plain": [
       "<Figure size 540x540 with 12 Axes>"
      ]
     },
     "metadata": {
      "needs_background": "light"
     },
     "output_type": "display_data"
    }
   ],
   "source": [
    "# pairplot으로 더 살펴보기\n",
    "sns.pairplot(jeju[['total','temperature(℃)', 'dew_point(℃)']], kind='reg')\n",
    "plt.show()"
   ]
  },
  {
   "cell_type": "markdown",
   "id": "65fc2166",
   "metadata": {
    "id": "65fc2166"
   },
   "source": [
    "하지만, *temperature*과 *dew_point*로 놓고 봤을 때 **다중공선성** 문제가 의심됨     \n",
    "때문에 독립변수를 *temperature* 하나만 갖고 **단순선형회귀**로 작업하는 게 나을 듯!"
   ]
  },
  {
   "cell_type": "markdown",
   "id": "66568f60",
   "metadata": {
    "id": "66568f60"
   },
   "source": [
    "---"
   ]
  },
  {
   "cell_type": "markdown",
   "id": "638a4ba6",
   "metadata": {
    "id": "638a4ba6"
   },
   "source": [
    "---"
   ]
  },
  {
   "cell_type": "markdown",
   "id": "d48450e1",
   "metadata": {},
   "source": [
    "# 3. 모델링"
   ]
  },
  {
   "cell_type": "markdown",
   "id": "2fc4f988",
   "metadata": {
    "id": "2fc4f988"
   },
   "source": [
    "## 3-1. 모델링_Linear"
   ]
  },
  {
   "cell_type": "markdown",
   "id": "478a0022",
   "metadata": {},
   "source": [
    "### 변수선택"
   ]
  },
  {
   "cell_type": "code",
   "execution_count": 40,
   "id": "d46fc949",
   "metadata": {
    "id": "d9dd6e57"
   },
   "outputs": [],
   "source": [
    "from sklearn.model_selection import train_test_split"
   ]
  },
  {
   "cell_type": "code",
   "execution_count": 41,
   "id": "3bafb549",
   "metadata": {
    "id": "9c74bd41"
   },
   "outputs": [],
   "source": [
    "features = ['temperature(℃)']\n",
    "X = jeju[features]\n",
    "Y = jeju['total']\n",
    "\n",
    "# train_test_split\n",
    "x_train, x_test, y_train, y_test = train_test_split(X, Y, test_size=0.2,  random_state=97 )"
   ]
  },
  {
   "cell_type": "code",
   "execution_count": 42,
   "id": "c274391e",
   "metadata": {
    "colab": {
     "base_uri": "https://localhost:8080/"
    },
    "id": "df76f000",
    "outputId": "8b69d877-6288-4542-c0b9-685a54b52d06",
    "scrolled": true
   },
   "outputs": [
    {
     "name": "stdout",
     "output_type": "stream",
     "text": [
      "(57, 1)\n",
      "(15, 1)\n",
      "(57,)\n",
      "(15,)\n"
     ]
    }
   ],
   "source": [
    "print(x_train.shape)\n",
    "print(x_test.shape)\n",
    "print(y_train.shape)\n",
    "print(y_test.shape)"
   ]
  },
  {
   "cell_type": "markdown",
   "id": "a3290804",
   "metadata": {},
   "source": [
    "### 모델링"
   ]
  },
  {
   "cell_type": "code",
   "execution_count": 43,
   "id": "bc1aee33",
   "metadata": {
    "id": "bc1aee33"
   },
   "outputs": [],
   "source": [
    "from sklearn.linear_model import LinearRegression\n",
    "from sklearn.metrics import mean_squared_error, r2_score, mean_absolute_percentage_error"
   ]
  },
  {
   "cell_type": "code",
   "execution_count": 44,
   "id": "71c6828c",
   "metadata": {
    "colab": {
     "base_uri": "https://localhost:8080/"
    },
    "id": "71c6828c",
    "outputId": "a15e90e1-ac7f-4232-c188-3836b78b282c"
   },
   "outputs": [
    {
     "data": {
      "text/plain": [
       "LinearRegression()"
      ]
     },
     "execution_count": 44,
     "metadata": {},
     "output_type": "execute_result"
    }
   ],
   "source": [
    "linear = LinearRegression()\n",
    "linear.fit(x_train, y_train)"
   ]
  },
  {
   "cell_type": "code",
   "execution_count": 45,
   "id": "9096c7a8",
   "metadata": {
    "colab": {
     "base_uri": "https://localhost:8080/"
    },
    "id": "9096c7a8",
    "outputId": "c2fcd220-0943-426f-8c3d-580cd957cc88"
   },
   "outputs": [
    {
     "data": {
      "text/plain": [
       "array([1039506.6852639 ,  923589.99209105, 1117624.45674994,\n",
       "       1110064.67241258,  937449.59670954, 1110064.67241258,\n",
       "        895870.78285407, 1048326.43365748, 1089905.24751296,\n",
       "       1141563.77381825,  952569.16538426, 1062186.03827597,\n",
       "        972728.59028389, 1006747.619802  , 1128964.13325598])"
      ]
     },
     "execution_count": 45,
     "metadata": {},
     "output_type": "execute_result"
    }
   ],
   "source": [
    "y_pred_linear = linear.predict(x_test)\n",
    "y_pred_linear"
   ]
  },
  {
   "cell_type": "code",
   "execution_count": 46,
   "id": "f60a2160",
   "metadata": {
    "colab": {
     "base_uri": "https://localhost:8080/"
    },
    "id": "f60a2160",
    "outputId": "61a9ad68-69f7-4abb-9f29-9a5484987633"
   },
   "outputs": [
    {
     "name": "stdout",
     "output_type": "stream",
     "text": [
      "RMSE: 136488.25271320625\n",
      "R2 Score: -0.08057096648892714\n",
      "MAPE: 0.11081960648237686\n"
     ]
    }
   ],
   "source": [
    "print(f\"RMSE: {mean_squared_error(y_test, y_pred_linear, squared=False)}\")\n",
    "print(f\"R2 Score: {r2_score(y_test, y_pred_linear)}\")\n",
    "print(f\"MAPE: {mean_absolute_percentage_error(y_test, y_pred_linear)}\")"
   ]
  },
  {
   "cell_type": "markdown",
   "id": "82f89083",
   "metadata": {
    "id": "82f89083"
   },
   "source": [
    "---"
   ]
  },
  {
   "cell_type": "markdown",
   "id": "46595634",
   "metadata": {
    "id": "46595634"
   },
   "source": [
    "## 3-2. 모델링_Lasso"
   ]
  },
  {
   "cell_type": "markdown",
   "id": "4cab64b0",
   "metadata": {},
   "source": [
    "### 변수선택"
   ]
  },
  {
   "cell_type": "code",
   "execution_count": 47,
   "id": "49112b82",
   "metadata": {},
   "outputs": [],
   "source": [
    "from sklearn.model_selection import train_test_split"
   ]
  },
  {
   "cell_type": "code",
   "execution_count": 48,
   "id": "df52ddae",
   "metadata": {},
   "outputs": [],
   "source": [
    "features = ['temperature(℃)','dew_point(℃)']\n",
    "X = jeju[features]\n",
    "Y = jeju['total']\n",
    "\n",
    "# train_test_split\n",
    "x_train, x_test, y_train, y_test = train_test_split(X, Y, test_size=0.2,  random_state=97 )"
   ]
  },
  {
   "cell_type": "code",
   "execution_count": 49,
   "id": "fe645114",
   "metadata": {},
   "outputs": [
    {
     "name": "stdout",
     "output_type": "stream",
     "text": [
      "(57, 2)\n",
      "(15, 2)\n",
      "(57,)\n",
      "(15,)\n"
     ]
    }
   ],
   "source": [
    "print(x_train.shape)\n",
    "print(x_test.shape)\n",
    "print(y_train.shape)\n",
    "print(y_test.shape)"
   ]
  },
  {
   "cell_type": "markdown",
   "id": "fb8d8534",
   "metadata": {},
   "source": [
    "### 모델링"
   ]
  },
  {
   "cell_type": "code",
   "execution_count": 50,
   "id": "4bb1da36",
   "metadata": {
    "colab": {
     "base_uri": "https://localhost:8080/"
    },
    "id": "4bb1da36",
    "outputId": "13da5a17-1899-4cb0-f452-398caf3aa333"
   },
   "outputs": [],
   "source": [
    "from sklearn.linear_model import Lasso\n",
    "from sklearn.metrics import mean_squared_error, r2_score, mean_absolute_percentage_error"
   ]
  },
  {
   "cell_type": "code",
   "execution_count": 51,
   "id": "f19c94f3",
   "metadata": {},
   "outputs": [
    {
     "data": {
      "text/plain": [
       "Lasso(alpha=0.01)"
      ]
     },
     "execution_count": 51,
     "metadata": {},
     "output_type": "execute_result"
    }
   ],
   "source": [
    "Lasso = Lasso(alpha = 0.01)\n",
    "Lasso.fit(x_train,y_train)"
   ]
  },
  {
   "cell_type": "code",
   "execution_count": 52,
   "id": "a32a72f0",
   "metadata": {
    "id": "a32a72f0"
   },
   "outputs": [
    {
     "data": {
      "text/plain": [
       "array([1067054.02300157,  910460.28342096, 1089026.09677053,\n",
       "       1124907.99883053,  947013.51427146, 1089164.61293164,\n",
       "        888415.80157551, 1078594.1245305 , 1087406.40686729,\n",
       "       1128373.25489779,  931417.88799257, 1053872.97955434,\n",
       "        984238.07391247, 1008507.46636704, 1127753.08216872])"
      ]
     },
     "execution_count": 52,
     "metadata": {},
     "output_type": "execute_result"
    }
   ],
   "source": [
    "y_pred_lasso = Lasso.predict(x_test)\n",
    "y_pred_lasso"
   ]
  },
  {
   "cell_type": "code",
   "execution_count": 53,
   "id": "144837db",
   "metadata": {
    "colab": {
     "base_uri": "https://localhost:8080/"
    },
    "id": "144837db",
    "outputId": "5c069e85-f403-4967-c8ab-2d5edb978104"
   },
   "outputs": [
    {
     "name": "stdout",
     "output_type": "stream",
     "text": [
      "RMSE: 136721.00255182383\n",
      "R2 Score: -0.08425944741760305\n",
      "MAPE: 0.11044378989140367\n"
     ]
    }
   ],
   "source": [
    "print(f\"RMSE: {mean_squared_error(y_test, y_pred_lasso, squared=False)}\")\n",
    "print(f\"R2 Score: {r2_score(y_test, y_pred_lasso)}\")\n",
    "print(f\"MAPE: {mean_absolute_percentage_error(y_test, y_pred_lasso)}\")"
   ]
  },
  {
   "cell_type": "markdown",
   "id": "e6c98692",
   "metadata": {
    "id": "e6c98692"
   },
   "source": [
    "---"
   ]
  },
  {
   "cell_type": "markdown",
   "id": "cbbb67bb",
   "metadata": {
    "id": "cbbb67bb"
   },
   "source": [
    "## 3-3. 모델링_Ridge"
   ]
  },
  {
   "cell_type": "markdown",
   "id": "9b549ede",
   "metadata": {},
   "source": [
    "### 변수선택"
   ]
  },
  {
   "cell_type": "code",
   "execution_count": 65,
   "id": "f3fcdc45",
   "metadata": {},
   "outputs": [],
   "source": [
    "from sklearn.model_selection import train_test_split"
   ]
  },
  {
   "cell_type": "code",
   "execution_count": 55,
   "id": "4c198bd0",
   "metadata": {},
   "outputs": [],
   "source": [
    "features = ['temperature(℃)','dew_point(℃)']\n",
    "X = jeju[features]\n",
    "Y = jeju['total']\n",
    "\n",
    "# train_test_split\n",
    "x_train, x_test, y_train, y_test = train_test_split(X, Y, test_size=0.2,  random_state=97 )"
   ]
  },
  {
   "cell_type": "code",
   "execution_count": 56,
   "id": "c57522a6",
   "metadata": {},
   "outputs": [
    {
     "name": "stdout",
     "output_type": "stream",
     "text": [
      "(57, 2)\n",
      "(15, 2)\n",
      "(57,)\n",
      "(15,)\n"
     ]
    }
   ],
   "source": [
    "print(x_train.shape)\n",
    "print(x_test.shape)\n",
    "print(y_train.shape)\n",
    "print(y_test.shape)"
   ]
  },
  {
   "cell_type": "markdown",
   "id": "a7b39d3a",
   "metadata": {},
   "source": [
    "### 모델링"
   ]
  },
  {
   "cell_type": "code",
   "execution_count": 57,
   "id": "b1251888",
   "metadata": {
    "id": "b1251888"
   },
   "outputs": [],
   "source": [
    "from sklearn.linear_model import Ridge\n",
    "from sklearn.metrics import mean_squared_error, r2_score, mean_absolute_percentage_error"
   ]
  },
  {
   "cell_type": "code",
   "execution_count": 58,
   "id": "10b7df41",
   "metadata": {},
   "outputs": [
    {
     "data": {
      "text/plain": [
       "Ridge()"
      ]
     },
     "execution_count": 58,
     "metadata": {},
     "output_type": "execute_result"
    }
   ],
   "source": [
    "ridge = Ridge()\n",
    "ridge.fit(x_train, y_train)"
   ]
  },
  {
   "cell_type": "code",
   "execution_count": 59,
   "id": "14b33c7e",
   "metadata": {
    "colab": {
     "base_uri": "https://localhost:8080/"
    },
    "id": "14b33c7e",
    "outputId": "8b89fed0-c4fc-412d-de77-db8c3c1fbf68",
    "scrolled": true
   },
   "outputs": [
    {
     "data": {
      "text/plain": [
       "array([1065797.7731267 ,  911117.73332188, 1090233.79879148,\n",
       "       1124169.84598863,  946641.18900956, 1090032.12646212,\n",
       "        888838.99269869, 1077209.09664165, 1087462.32646915,\n",
       "       1128870.96087884,  932414.08244263, 1054210.74742673,\n",
       "        983752.05318775, 1008434.06191155, 1127722.03748404])"
      ]
     },
     "execution_count": 59,
     "metadata": {},
     "output_type": "execute_result"
    }
   ],
   "source": [
    "y_pred_ridge = ridge.predict(x_test)\n",
    "y_pred_ridge"
   ]
  },
  {
   "cell_type": "code",
   "execution_count": 60,
   "id": "f83e185e",
   "metadata": {},
   "outputs": [
    {
     "name": "stdout",
     "output_type": "stream",
     "text": [
      "RMSE: 136646.44325052897\n",
      "R2 Score: -0.08307719184215445\n",
      "MAPE: 0.11045329530614735\n"
     ]
    }
   ],
   "source": [
    "print(f\"RMSE: {mean_squared_error(y_test, y_pred_ridge, squared=False)}\")\n",
    "print(f\"R2 Score: {r2_score(y_test, y_pred_ridge)}\")\n",
    "print(f\"MAPE: {mean_absolute_percentage_error(y_test, y_pred_ridge)}\")"
   ]
  },
  {
   "cell_type": "markdown",
   "id": "f284521e",
   "metadata": {
    "id": "f284521e"
   },
   "source": [
    "---"
   ]
  },
  {
   "cell_type": "markdown",
   "id": "85a7b92d",
   "metadata": {
    "id": "85a7b92d"
   },
   "source": [
    "## 3-4. 모델링_Random Forest"
   ]
  },
  {
   "cell_type": "markdown",
   "id": "c3650424",
   "metadata": {},
   "source": [
    "### 변수선택"
   ]
  },
  {
   "cell_type": "code",
   "execution_count": 66,
   "id": "231a3085",
   "metadata": {},
   "outputs": [],
   "source": [
    "from sklearn.model_selection import train_test_split"
   ]
  },
  {
   "cell_type": "code",
   "execution_count": 67,
   "id": "bf219bcb",
   "metadata": {},
   "outputs": [],
   "source": [
    "features = ['temperature(℃)','dew_point(℃)']\n",
    "X = jeju[features]\n",
    "Y = jeju['total']\n",
    "\n",
    "# train_test_split\n",
    "x_train, x_test, y_train, y_test = train_test_split(X, Y, test_size=0.2,  random_state=97 )"
   ]
  },
  {
   "cell_type": "code",
   "execution_count": 68,
   "id": "0ccde3ad",
   "metadata": {},
   "outputs": [
    {
     "name": "stdout",
     "output_type": "stream",
     "text": [
      "(57, 2)\n",
      "(15, 2)\n",
      "(57,)\n",
      "(15,)\n"
     ]
    }
   ],
   "source": [
    "print(x_train.shape)\n",
    "print(x_test.shape)\n",
    "print(y_train.shape)\n",
    "print(y_test.shape)"
   ]
  },
  {
   "cell_type": "markdown",
   "id": "6d52de45",
   "metadata": {},
   "source": [
    "### 모델링"
   ]
  },
  {
   "cell_type": "code",
   "execution_count": 69,
   "id": "211fa0d0",
   "metadata": {
    "id": "211fa0d0"
   },
   "outputs": [],
   "source": [
    "from sklearn import ensemble\n",
    "from sklearn.ensemble import RandomForestRegressor\n",
    "from sklearn.metrics import mean_squared_error, r2_score"
   ]
  },
  {
   "cell_type": "code",
   "execution_count": 70,
   "id": "fbbaee07",
   "metadata": {
    "colab": {
     "base_uri": "https://localhost:8080/"
    },
    "id": "fbbaee07",
    "outputId": "b58cb18d-ea5e-4fe7-ddb4-d3fff638acf6"
   },
   "outputs": [
    {
     "name": "stdout",
     "output_type": "stream",
     "text": [
      "nTrees :  1 depths :  None\n",
      "RMSE :  228166.45149144955\n",
      "R2 :  -2.0197175474690647\n",
      "MAPE :  6.200651345138279\n",
      "----------------------------------------------------------------------\n",
      "nTrees :  1 depths :  5\n",
      "RMSE :  225755.70185781983\n",
      "R2 :  -1.9562434938450983\n",
      "MAPE :  6.704527319265531\n",
      "----------------------------------------------------------------------\n",
      "nTrees :  1 depths :  10\n",
      "RMSE :  228166.45149144955\n",
      "R2 :  -2.0197175474690647\n",
      "MAPE :  6.200651345138279\n",
      "----------------------------------------------------------------------\n",
      "nTrees :  10 depths :  None\n",
      "RMSE :  195932.24168152962\n",
      "R2 :  -1.2267658943002968\n",
      "MAPE :  5.967376134827151\n",
      "----------------------------------------------------------------------\n",
      "nTrees :  10 depths :  5\n",
      "RMSE :  192022.8274071953\n",
      "R2 :  -1.1387915838563933\n",
      "MAPE :  5.372553775190203\n",
      "----------------------------------------------------------------------\n",
      "nTrees :  10 depths :  10\n",
      "RMSE :  195932.24168152962\n",
      "R2 :  -1.2267658943002968\n",
      "MAPE :  5.967376134827151\n",
      "----------------------------------------------------------------------\n",
      "nTrees :  50 depths :  None\n",
      "RMSE :  177769.6869513036\n",
      "R2 :  -0.8330662508480169\n",
      "MAPE :  5.345410007744311\n",
      "----------------------------------------------------------------------\n",
      "nTrees :  50 depths :  5\n",
      "RMSE :  172556.2048211217\n",
      "R2 :  -0.7271255426578331\n",
      "MAPE :  4.139293480656602\n",
      "----------------------------------------------------------------------\n",
      "nTrees :  50 depths :  10\n",
      "RMSE :  177705.4504242448\n",
      "R2 :  -0.8317417445435149\n",
      "MAPE :  5.338412537256086\n",
      "----------------------------------------------------------------------\n",
      "nTrees :  100 depths :  None\n",
      "RMSE :  180116.2112610568\n",
      "R2 :  -0.8817778503439628\n",
      "MAPE :  5.319497372483043\n",
      "----------------------------------------------------------------------\n",
      "nTrees :  100 depths :  5\n",
      "RMSE :  178061.75626225234\n",
      "R2 :  -0.8390945249950101\n",
      "MAPE :  4.101124412993121\n",
      "----------------------------------------------------------------------\n",
      "nTrees :  100 depths :  10\n",
      "RMSE :  180017.3541591351\n",
      "R2 :  -0.8797127829878355\n",
      "MAPE :  5.322125452094394\n",
      "----------------------------------------------------------------------\n",
      "nTrees :  200 depths :  None\n",
      "RMSE :  184960.07661159607\n",
      "R2 :  -0.984352120227596\n",
      "MAPE :  5.144007408601468\n",
      "----------------------------------------------------------------------\n",
      "nTrees :  200 depths :  5\n",
      "RMSE :  180541.48076772183\n",
      "R2 :  -0.8906744119164882\n",
      "MAPE :  4.269645692518886\n",
      "----------------------------------------------------------------------\n",
      "nTrees :  200 depths :  10\n",
      "RMSE :  184809.95713506496\n",
      "R2 :  -0.9811323009180324\n",
      "MAPE :  5.172684028095197\n",
      "----------------------------------------------------------------------\n"
     ]
    }
   ],
   "source": [
    "nTreeList = [1, 10, 50, 100, 200]\n",
    "depths = [None, 5, 10]\n",
    "RMSE = []\n",
    "R2 = []\n",
    "MAPE = []\n",
    "\n",
    "def mapefunc(y, pred):\n",
    "    return np.mean((y-pred)/y * 100)\n",
    "\n",
    "for iTrees in nTreeList:\n",
    "    for depth in depths:\n",
    "        Forest = RandomForestRegressor(n_estimators=iTrees, max_depth=depth, oob_score=False, random_state=42)\n",
    "        Forest.fit(x_train, y_train)\n",
    "        y_pred_forest = Forest.predict(x_test)\n",
    "        \n",
    "        mse = mean_squared_error(y_test, y_pred_forest) \n",
    "        rmse = np.sqrt(mse)\n",
    "        RMSE.append(rmse)\n",
    "        \n",
    "        r2 = r2_score(y_test, y_pred_forest)\n",
    "        R2.append(r2)\n",
    "        \n",
    "        mape = mapefunc(y_test, y_pred_forest)\n",
    "        MAPE.append(mape)\n",
    "        \n",
    "        print(\"nTrees : \", iTrees, \"depths : \", depth)\n",
    "        print(\"RMSE : \", rmse)\n",
    "        print(\"R2 : \", r2)\n",
    "        print(\"MAPE : \", mape)\n",
    "        print('-'*70)"
   ]
  },
  {
   "cell_type": "code",
   "execution_count": 71,
   "id": "60424e73",
   "metadata": {
    "colab": {
     "base_uri": "https://localhost:8080/"
    },
    "id": "60424e73",
    "outputId": "d1a3ecf2-5f93-4a9c-fdab-1411d5410777"
   },
   "outputs": [
    {
     "data": {
      "text/plain": [
       "[3.0197175474690647,\n",
       " 2.9562434938450983,\n",
       " 3.0197175474690647,\n",
       " 2.226765894300297,\n",
       " 2.1387915838563933,\n",
       " 2.226765894300297,\n",
       " 1.8330662508480169,\n",
       " 1.7271255426578331,\n",
       " 1.831741744543515,\n",
       " 1.8817778503439628,\n",
       " 1.8390945249950101,\n",
       " 1.8797127829878355,\n",
       " 1.984352120227596,\n",
       " 1.8906744119164882,\n",
       " 1.9811323009180324]"
      ]
     },
     "execution_count": 71,
     "metadata": {},
     "output_type": "execute_result"
    }
   ],
   "source": [
    "new_R2 = []\n",
    "for i in R2:\n",
    "    new_R2.append(abs(1-i))\n",
    "new_R2"
   ]
  },
  {
   "cell_type": "code",
   "execution_count": 72,
   "id": "3af44e16",
   "metadata": {
    "colab": {
     "base_uri": "https://localhost:8080/"
    },
    "id": "3af44e16",
    "outputId": "dec9eb3c-abc4-4a65-e52b-0970d10e5f4b"
   },
   "outputs": [
    {
     "name": "stdout",
     "output_type": "stream",
     "text": [
      "lowest RMSE :  172556.2048211217 index :  7\n",
      "----------------------------------------------------------------------\n",
      "best R2 :  1.7271255426578331 index :  7\n",
      "----------------------------------------------------------------------\n",
      "lowest MAPE :  4.101124412993121 index :  10\n"
     ]
    }
   ],
   "source": [
    "print(\"lowest RMSE : \", min(RMSE), \"index : \", RMSE.index(min(RMSE)))\n",
    "print('-'*70)\n",
    "\n",
    "print(\"best R2 : \", min(new_R2), \"index : \", new_R2.index(min(new_R2)))\n",
    "print('-'*70)\n",
    "\n",
    "print(\"lowest MAPE : \", min(MAPE), \"index : \", MAPE.index(min(MAPE)))"
   ]
  },
  {
   "cell_type": "markdown",
   "id": "98921d4c",
   "metadata": {},
   "source": [
    "* RMSE : 값이 낮을수록 좋다.\n",
    "* R2 : 1에 가까울 수록 좋다.\n",
    "* MAPE : 값이 낮을수록 좋다. 다른 모델과 에러율 비교가 쉬움"
   ]
  }
 ],
 "metadata": {
  "colab": {
   "provenance": []
  },
  "kernelspec": {
   "display_name": "Python 3 (ipykernel)",
   "language": "python",
   "name": "python3"
  },
  "language_info": {
   "codemirror_mode": {
    "name": "ipython",
    "version": 3
   },
   "file_extension": ".py",
   "mimetype": "text/x-python",
   "name": "python",
   "nbconvert_exporter": "python",
   "pygments_lexer": "ipython3",
   "version": "3.9.12"
  }
 },
 "nbformat": 4,
 "nbformat_minor": 5
}
